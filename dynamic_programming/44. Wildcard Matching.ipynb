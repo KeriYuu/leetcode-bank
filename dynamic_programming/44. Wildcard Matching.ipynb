{
 "cells": [
  {
   "cell_type": "code",
   "execution_count": 10,
   "id": "6024ea2d",
   "metadata": {},
   "outputs": [],
   "source": [
    "s = \"aa\"\n",
    "p = \"*\"\n",
    "# Output: true"
   ]
  },
  {
   "cell_type": "code",
   "execution_count": null,
   "id": "62a3472c",
   "metadata": {},
   "outputs": [],
   "source": [
    "def isMatch(s, p):\n",
    "    memo = [[None] * len(p) for _ in range(len(s))]\n",
    "    return memo_search(s, p, 0, 0, memo)\n",
    "\n",
    "\n",
    "def memo_search(s, p, i, j, memo):\n",
    "    if j == len(p):\n",
    "        return i >= len(s)\n",
    "    if i == len(s):\n",
    "        return all(p[i] == '*' for i in range(j, len(p)))\n",
    "\n",
    "    if memo[i][j] is not None:\n",
    "        return memo[i][j]\n",
    "\n",
    "    if p[j] == '*':\n",
    "        match = memo_search(s, p, i + 1, j, memo) or memo_search(s, p, i, j + 1, memo)\n",
    "        # skip current char in s or bring * to next char in s\n",
    "    else:\n",
    "        match = (p[j] in {s[i], '?'}) and memo_search(s, p, i + 1, j + 1, memo)\n",
    "\n",
    "    memo[i][j] = match\n",
    "    return match\n",
    "        "
   ]
  },
  {
   "cell_type": "code",
   "execution_count": null,
   "id": "36b34bfc",
   "metadata": {},
   "outputs": [
    {
     "data": {
      "text/plain": [
       "True"
      ]
     },
     "execution_count": 12,
     "metadata": {},
     "output_type": "execute_result"
    }
   ],
   "source": [
    "isMatch(s, p) # time O(s * p) space O(s * p)"
   ]
  }
 ],
 "metadata": {
  "kernelspec": {
   "display_name": "base",
   "language": "python",
   "name": "python3"
  },
  "language_info": {
   "codemirror_mode": {
    "name": "ipython",
    "version": 3
   },
   "file_extension": ".py",
   "mimetype": "text/x-python",
   "name": "python",
   "nbconvert_exporter": "python",
   "pygments_lexer": "ipython3",
   "version": "3.9.7"
  }
 },
 "nbformat": 4,
 "nbformat_minor": 5
}
