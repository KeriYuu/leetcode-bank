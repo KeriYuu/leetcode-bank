{
 "cells": [
  {
   "cell_type": "code",
   "execution_count": 5,
   "id": "7259727c",
   "metadata": {},
   "outputs": [],
   "source": [
    "s = \"leetcode\"\n",
    "wordDict = [\"leet\",\"code\"]\n",
    "# Output: true"
   ]
  },
  {
   "cell_type": "code",
   "execution_count": 6,
   "id": "7a31d24a",
   "metadata": {},
   "outputs": [
    {
     "data": {
      "text/plain": [
       "True"
      ]
     },
     "execution_count": 6,
     "metadata": {},
     "output_type": "execute_result"
    }
   ],
   "source": [
    "def max_word_len(wordDict):\n",
    "    return max(len(word) for word in wordDict)\n",
    "\n",
    "def wordBreak(s, wordDict):\n",
    "    wordDict = set(wordDict)\n",
    "    n = len(s)\n",
    "    dp = [False] * (n + 1)\n",
    "    dp[0] = True\n",
    "    max_word_l = max_word_len(wordDict)\n",
    "\n",
    "    for i in range(1, n + 1):\n",
    "        for l in range(1, max_word_l + 1):\n",
    "            if i - l >= 0 and s[i - l:i] in wordDict and dp[i - l]:\n",
    "                dp[i] = True\n",
    "                break\n",
    "\n",
    "    return dp[-1]\n",
    "\n",
    "wordBreak(s, wordDict) # time: O(n * max_word_len), space: O(n)"
   ]
  }
 ],
 "metadata": {
  "kernelspec": {
   "display_name": "base",
   "language": "python",
   "name": "python3"
  },
  "language_info": {
   "codemirror_mode": {
    "name": "ipython",
    "version": 3
   },
   "file_extension": ".py",
   "mimetype": "text/x-python",
   "name": "python",
   "nbconvert_exporter": "python",
   "pygments_lexer": "ipython3",
   "version": "3.9.7"
  }
 },
 "nbformat": 4,
 "nbformat_minor": 5
}
