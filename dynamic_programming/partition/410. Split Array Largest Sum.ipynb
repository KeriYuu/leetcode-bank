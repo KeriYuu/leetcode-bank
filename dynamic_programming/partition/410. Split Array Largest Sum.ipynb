{
 "cells": [
  {
   "cell_type": "code",
   "execution_count": 1,
   "id": "7259727c",
   "metadata": {},
   "outputs": [],
   "source": [
    "nums = [7,2,5,10,8]\n",
    "k = 2\n",
    "# Output: 18"
   ]
  },
  {
   "cell_type": "code",
   "execution_count": 2,
   "id": "53443b54",
   "metadata": {},
   "outputs": [
    {
     "data": {
      "text/plain": [
       "18"
      ]
     },
     "execution_count": 2,
     "metadata": {},
     "output_type": "execute_result"
    }
   ],
   "source": [
    "def splitArray(nums, k):\n",
    "    n = len(nums)\n",
    "\n",
    "    dp = [[float('inf')] * (k + 1) for _ in range(n + 1)]\n",
    "    for j in range(k + 1):\n",
    "        dp[0][j] = 0\n",
    "\n",
    "    prefix_sum = [0] * (n + 1)\n",
    "    for i in range(1, n + 1):\n",
    "        prefix_sum[i] = prefix_sum[i - 1] + nums[i - 1]\n",
    "\n",
    "    for i in range(1, n + 1):\n",
    "        for j in range(1, k + 1):\n",
    "            for prev in range(i):\n",
    "                cost = prefix_sum[i] - prefix_sum[prev]\n",
    "                dp[i][j] = min(dp[i][j], max(dp[prev][j - 1], cost))\n",
    "\n",
    "    return dp[n][k]\n",
    "\n",
    "splitArray(nums, k) # time: O(n^2 * k), space: O(n * k)\n",
    "\n"
   ]
  }
 ],
 "metadata": {
  "kernelspec": {
   "display_name": "base",
   "language": "python",
   "name": "python3"
  },
  "language_info": {
   "codemirror_mode": {
    "name": "ipython",
    "version": 3
   },
   "file_extension": ".py",
   "mimetype": "text/x-python",
   "name": "python",
   "nbconvert_exporter": "python",
   "pygments_lexer": "ipython3",
   "version": "3.9.7"
  }
 },
 "nbformat": 4,
 "nbformat_minor": 5
}
