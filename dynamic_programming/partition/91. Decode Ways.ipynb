{
 "cells": [
  {
   "cell_type": "code",
   "execution_count": 1,
   "id": "7259727c",
   "metadata": {},
   "outputs": [],
   "source": [
    "s = \"226\"\n",
    "\n",
    "# Output: 3"
   ]
  },
  {
   "cell_type": "code",
   "execution_count": 2,
   "id": "01d5262a",
   "metadata": {},
   "outputs": [
    {
     "data": {
      "text/plain": [
       "5"
      ]
     },
     "execution_count": 2,
     "metadata": {},
     "output_type": "execute_result"
    }
   ],
   "source": [
    "def vaild(string):\n",
    "    code = int(string)\n",
    "    if len(string) == 1:\n",
    "        if 1 <= code <= 9:\n",
    "            return 1\n",
    "    if len(string) == 2:\n",
    "        if 10 <= code <= 26:\n",
    "            return 2\n",
    "    return 0\n",
    "\n",
    "def numDecodings(s):\n",
    "    n = len(s)\n",
    "    dp = [0] * (n + 1)\n",
    "    dp[0] = 1\n",
    "    dp[1] = vaild(s[0])\n",
    "\n",
    "    for i in range(2, n + 1):\n",
    "        dp[i] = dp[i - 1] * vaild(s[i - 1]) + dp[i - 2] * vaild(s[i - 2:i])\n",
    "\n",
    "    return dp[-1]\n",
    "\n",
    "numDecodings(s) # time: O(n), space: O(n)\n"
   ]
  },
  {
   "cell_type": "code",
   "execution_count": 3,
   "id": "939e7587",
   "metadata": {},
   "outputs": [
    {
     "data": {
      "text/plain": [
       "5"
      ]
     },
     "execution_count": 3,
     "metadata": {},
     "output_type": "execute_result"
    }
   ],
   "source": [
    "def numDecodings_rolling_array(s):\n",
    "    n = len(s)\n",
    "    dp = [0, 0, 0]\n",
    "    dp[0] = 1\n",
    "    dp[1] = vaild(s[0])\n",
    "    \n",
    "    for i in range(2, n + 1):\n",
    "        dp[i % 3] = dp[(i - 1) % 3] * vaild(s[i - 1]) + dp[(i - 2) % 3] * vaild(s[i - 2:i])\n",
    "\n",
    "    return dp[-1]\n",
    "\n",
    "numDecodings(s) # time: O(n), space: O(1)\n",
    "    "
   ]
  }
 ],
 "metadata": {
  "kernelspec": {
   "display_name": "base",
   "language": "python",
   "name": "python3"
  },
  "language_info": {
   "codemirror_mode": {
    "name": "ipython",
    "version": 3
   },
   "file_extension": ".py",
   "mimetype": "text/x-python",
   "name": "python",
   "nbconvert_exporter": "python",
   "pygments_lexer": "ipython3",
   "version": "3.9.7"
  }
 },
 "nbformat": 4,
 "nbformat_minor": 5
}
