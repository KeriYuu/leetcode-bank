{
 "cells": [
  {
   "cell_type": "code",
   "execution_count": 1,
   "id": "7259727c",
   "metadata": {},
   "outputs": [],
   "source": [
    "n = 5\n",
    "minProfit = 3\n",
    "group = [2,2]\n",
    "profit = [2,3]\n",
    "# Output: 2"
   ]
  },
  {
   "cell_type": "code",
   "execution_count": null,
   "id": "5e38c5af",
   "metadata": {},
   "outputs": [
    {
     "data": {
      "text/plain": [
       "2"
      ]
     },
     "execution_count": 2,
     "metadata": {},
     "output_type": "execute_result"
    }
   ],
   "source": [
    "def profitableSchemes(n, minProfit, group, profit):\n",
    "    # the number of schemes using exactly g people that achieve profit p (capped at minProfit)\n",
    "    dp = [[0] * (minProfit + 1) for _ in range(n + 1)]\n",
    "\n",
    "    dp[0][0] = 1 # 1 way to do nothing (0 people, 0 profit)\n",
    "\n",
    "    for req, earn in zip(group, profit):\n",
    "        # Traverse people count backwards (to prevent reusing the same crime multiple times)\n",
    "        for g in range(n, req - 1, -1):\n",
    "            for p in range(minProfit, -1, -1): # forwards also works\n",
    "                new_earn = min(minProfit, p + earn)\n",
    "\n",
    "                # every scheme using g-reg people with profit p can extend by taking this crime to use g people and achieve new profit\n",
    "                dp[g][new_earn] = dp[g][new_earn] + dp[g - req][p]\n",
    "\n",
    "    return sum([dp[g][-1] for g in range(n + 1)])\n",
    "\n",
    "\n",
    "profitableSchemes(n, minProfit, group, profit) #time O(m*n*minProfit), space O(n*Profit)\n",
    "    "
   ]
  }
 ],
 "metadata": {
  "kernelspec": {
   "display_name": "base",
   "language": "python",
   "name": "python3"
  },
  "language_info": {
   "codemirror_mode": {
    "name": "ipython",
    "version": 3
   },
   "file_extension": ".py",
   "mimetype": "text/x-python",
   "name": "python",
   "nbconvert_exporter": "python",
   "pygments_lexer": "ipython3",
   "version": "3.9.7"
  }
 },
 "nbformat": 4,
 "nbformat_minor": 5
}
