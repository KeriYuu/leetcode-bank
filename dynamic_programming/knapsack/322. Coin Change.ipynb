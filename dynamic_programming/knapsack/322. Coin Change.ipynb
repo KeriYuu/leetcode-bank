{
 "cells": [
  {
   "cell_type": "code",
   "execution_count": 1,
   "id": "7259727c",
   "metadata": {},
   "outputs": [],
   "source": [
    "coins = [1,2,5]\n",
    "amount = 11\n",
    "# Output: 3"
   ]
  },
  {
   "cell_type": "code",
   "execution_count": 2,
   "id": "5e38c5af",
   "metadata": {},
   "outputs": [],
   "source": [
    "import sys\n",
    "def coinChange(coins, amount):\n",
    "    n = len(coins)\n",
    "    dp = [[sys.maxsize] * (amount + 1) for _ in range(n + 1)]\n",
    "    for i in range(n + 1):\n",
    "        dp[i][0] = 0\n",
    "\n",
    "    for i in range(1, n + 1):\n",
    "        x = coins[i - 1]\n",
    "        for j in range(1, amount + 1):\n",
    "            if j >= x:\n",
    "                dp[i][j] = min(dp[i - 1][j], dp[i][j - x] + 1)\n",
    "            else:\n",
    "                dp[i][j] = dp[i - 1][j]\n",
    "    return -1 if dp[-1][-1] == sys.maxsize else dp[-1][-1]\n"
   ]
  },
  {
   "cell_type": "code",
   "execution_count": 3,
   "id": "166dcf46",
   "metadata": {},
   "outputs": [
    {
     "data": {
      "text/plain": [
       "3"
      ]
     },
     "execution_count": 3,
     "metadata": {},
     "output_type": "execute_result"
    }
   ],
   "source": [
    "coinChange(coins, amount)"
   ]
  }
 ],
 "metadata": {
  "kernelspec": {
   "display_name": "base",
   "language": "python",
   "name": "python3"
  },
  "language_info": {
   "codemirror_mode": {
    "name": "ipython",
    "version": 3
   },
   "file_extension": ".py",
   "mimetype": "text/x-python",
   "name": "python",
   "nbconvert_exporter": "python",
   "pygments_lexer": "ipython3",
   "version": "3.9.7"
  }
 },
 "nbformat": 4,
 "nbformat_minor": 5
}
