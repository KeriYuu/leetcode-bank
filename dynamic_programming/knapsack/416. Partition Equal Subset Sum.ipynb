{
 "cells": [
  {
   "cell_type": "code",
   "execution_count": 1,
   "id": "7259727c",
   "metadata": {},
   "outputs": [],
   "source": [
    "nums = [1,5,11,5]\n",
    "# Output: true"
   ]
  },
  {
   "cell_type": "code",
   "execution_count": 2,
   "id": "ad9c3189",
   "metadata": {},
   "outputs": [
    {
     "data": {
      "text/plain": [
       "True"
      ]
     },
     "execution_count": 2,
     "metadata": {},
     "output_type": "execute_result"
    }
   ],
   "source": [
    "def canPartition(nums):\n",
    "    n = len(nums)\n",
    "    S = sum(nums)\n",
    "    target = S // 2\n",
    "    if S % 2 != 0:\n",
    "        return False\n",
    "    \n",
    "    dp = [[False] * (target + 1) for _ in range(n)]\n",
    "    for i in range(n):\n",
    "        dp[i][0] = True\n",
    "    \n",
    "    for i in range(1, n):\n",
    "        for j in range(1, target + 1):\n",
    "            if nums[i] <= j:\n",
    "                dp[i][j] = dp[i-1][j] or dp[i-1][j-nums[i]]\n",
    "            else:\n",
    "                dp[i][j] = dp[i-1][j]\n",
    "    \n",
    "    return dp[-1][-1]\n",
    "\n",
    "canPartition(nums) # time O(n*target), space O(n*target)\n",
    "\n"
   ]
  }
 ],
 "metadata": {
  "kernelspec": {
   "display_name": "base",
   "language": "python",
   "name": "python3"
  },
  "language_info": {
   "codemirror_mode": {
    "name": "ipython",
    "version": 3
   },
   "file_extension": ".py",
   "mimetype": "text/x-python",
   "name": "python",
   "nbconvert_exporter": "python",
   "pygments_lexer": "ipython3",
   "version": "3.9.7"
  }
 },
 "nbformat": 4,
 "nbformat_minor": 5
}
