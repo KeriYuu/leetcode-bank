{
 "cells": [
  {
   "cell_type": "code",
   "execution_count": 1,
   "id": "7259727c",
   "metadata": {},
   "outputs": [],
   "source": [
    "strs = [\"10\",\"0001\",\"111001\",\"1\",\"0\"]\n",
    "m = 5\n",
    "n = 3\n",
    "# Output: 4"
   ]
  },
  {
   "cell_type": "code",
   "execution_count": 2,
   "id": "16566b14",
   "metadata": {},
   "outputs": [
    {
     "data": {
      "text/plain": [
       "4"
      ]
     },
     "execution_count": 2,
     "metadata": {},
     "output_type": "execute_result"
    }
   ],
   "source": [
    "def findMaxForm(strs, m, n):\n",
    "    dp = [[0] * (n + 1) for _ in range(m + 1)]\n",
    "    for s in strs:\n",
    "        zeros = s.count('0')\n",
    "        ones = s.count('1')\n",
    "        for i in range(m, zeros - 1, -1):\n",
    "            for j in range(n, ones - 1, -1):\n",
    "                dp[i][j] = max(dp[i][j], dp[i - zeros][j - ones] + 1)\n",
    "    return dp[m][n]\n",
    "\n",
    "findMaxForm(strs, m, n) # time O(l * m * n), space O(m * n)"
   ]
  }
 ],
 "metadata": {
  "kernelspec": {
   "display_name": "base",
   "language": "python",
   "name": "python3"
  },
  "language_info": {
   "codemirror_mode": {
    "name": "ipython",
    "version": 3
   },
   "file_extension": ".py",
   "mimetype": "text/x-python",
   "name": "python",
   "nbconvert_exporter": "python",
   "pygments_lexer": "ipython3",
   "version": "3.9.7"
  }
 },
 "nbformat": 4,
 "nbformat_minor": 5
}
