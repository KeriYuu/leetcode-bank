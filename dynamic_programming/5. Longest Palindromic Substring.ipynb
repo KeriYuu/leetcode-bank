{
 "cells": [
  {
   "cell_type": "code",
   "execution_count": 10,
   "id": "7259727c",
   "metadata": {},
   "outputs": [],
   "source": [
    "s = \"babad\"\n",
    "# Output: \"bab\""
   ]
  },
  {
   "cell_type": "code",
   "execution_count": 11,
   "id": "01ecfd7b",
   "metadata": {},
   "outputs": [],
   "source": [
    "def longestPalindrome(s):\n",
    "    if not s:\n",
    "        return \"\"\n",
    "    n = len(s)\n",
    "    dp = [[False] * n for _ in range(n)]\n",
    "    for i in range(n):\n",
    "        dp[i][i] = True\n",
    "\n",
    "    max_len = 1\n",
    "    start = 0\n",
    "    for L in range(2, n + 1):\n",
    "        for i in range(n - L + 1):\n",
    "            j = i + L - 1\n",
    "            if s[i] != s[j]:\n",
    "                continue\n",
    "            if not dp[i+1][j-1] and L > 2:\n",
    "                continue\n",
    "            dp[i][j] = True\n",
    "            if L > max_len:\n",
    "                max_len = L\n",
    "                start = i\n",
    "    \n",
    "    return s[start: start + max_len]\n",
    "            \n",
    "    "
   ]
  },
  {
   "cell_type": "code",
   "execution_count": 12,
   "id": "3ca6b673",
   "metadata": {},
   "outputs": [
    {
     "data": {
      "text/plain": [
       "'bab'"
      ]
     },
     "execution_count": 12,
     "metadata": {},
     "output_type": "execute_result"
    }
   ],
   "source": [
    "longestPalindrome(s)"
   ]
  },
  {
   "cell_type": "markdown",
   "id": "bc4ae13d",
   "metadata": {},
   "source": [
    "time O(n**2), space O(n**2)"
   ]
  }
 ],
 "metadata": {
  "kernelspec": {
   "display_name": "base",
   "language": "python",
   "name": "python3"
  },
  "language_info": {
   "codemirror_mode": {
    "name": "ipython",
    "version": 3
   },
   "file_extension": ".py",
   "mimetype": "text/x-python",
   "name": "python",
   "nbconvert_exporter": "python",
   "pygments_lexer": "ipython3",
   "version": "3.9.7"
  }
 },
 "nbformat": 4,
 "nbformat_minor": 5
}
