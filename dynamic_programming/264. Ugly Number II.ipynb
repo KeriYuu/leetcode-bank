{
 "cells": [
  {
   "cell_type": "code",
   "execution_count": 1,
   "id": "94fa79be",
   "metadata": {},
   "outputs": [],
   "source": [
    "n = 10\n",
    "# Output: 12"
   ]
  },
  {
   "cell_type": "code",
   "execution_count": 2,
   "id": "4ef10386",
   "metadata": {},
   "outputs": [
    {
     "data": {
      "text/plain": [
       "12"
      ]
     },
     "execution_count": 2,
     "metadata": {},
     "output_type": "execute_result"
    }
   ],
   "source": [
    "def nthUglyNumber(n):\n",
    "    res = [1] * n\n",
    "    i2, i3, i5 = 0, 0, 0\n",
    "    nxt2, nxt3, nxt5 = 2, 3, 5\n",
    "    for i in range(1, n):\n",
    "        nxt = min(nxt2, nxt3, nxt5)\n",
    "        res[i] = nxt\n",
    "        if nxt == nxt2:\n",
    "            i2 += 1\n",
    "            nxt2 = res[i2] * 2  \n",
    "        if nxt == nxt3:\n",
    "            i3 += 1\n",
    "            nxt3 = res[i3] * 3\n",
    "        if nxt == nxt5:\n",
    "            i5 += 1\n",
    "            nxt5 = res[i5] * 5\n",
    "    return res[-1]\n",
    "nthUglyNumber(n) # time O(n) space O(n)\n",
    "            "
   ]
  }
 ],
 "metadata": {
  "kernelspec": {
   "display_name": "base",
   "language": "python",
   "name": "python3"
  },
  "language_info": {
   "codemirror_mode": {
    "name": "ipython",
    "version": 3
   },
   "file_extension": ".py",
   "mimetype": "text/x-python",
   "name": "python",
   "nbconvert_exporter": "python",
   "pygments_lexer": "ipython3",
   "version": "3.9.7"
  }
 },
 "nbformat": 4,
 "nbformat_minor": 5
}
