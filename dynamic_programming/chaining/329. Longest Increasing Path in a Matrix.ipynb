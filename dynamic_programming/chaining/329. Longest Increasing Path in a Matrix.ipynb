{
 "cells": [
  {
   "cell_type": "code",
   "execution_count": 1,
   "id": "94fa79be",
   "metadata": {},
   "outputs": [],
   "source": [
    "matrix = [[9,9,4],[6,6,8],[2,1,1]]\n",
    "# Output: 4"
   ]
  },
  {
   "cell_type": "code",
   "execution_count": 2,
   "id": "8fef4ee3",
   "metadata": {},
   "outputs": [
    {
     "data": {
      "text/plain": [
       "4"
      ]
     },
     "execution_count": 2,
     "metadata": {},
     "output_type": "execute_result"
    }
   ],
   "source": [
    "def longestIncreasingPath(matrix):\n",
    "    m, n = len(matrix), len(matrix[0])\n",
    "    points = []\n",
    "    for i in range(m):\n",
    "        for j in range(n):\n",
    "            points.append((matrix[i][j], i, j))\n",
    "    points.sort(key=lambda x: x[0])\n",
    "    \n",
    "    directions = [(0, 1), (1, 0), (0, -1), (-1, 0)]\n",
    "    \n",
    "    longest_end = {}\n",
    "    for val, i, j in points:\n",
    "        longest_end[(i, j)] = 1\n",
    "        for dx, dy in directions:\n",
    "            ni, nj = i + dx, j + dy\n",
    "            if 0 <= ni < m and 0 <= nj < n and matrix[ni][nj] < val:\n",
    "                longest_end[(i, j)] = max(longest_end[(i, j)], longest_end[(ni, nj)] + 1)\n",
    "    return max(longest_end.values())\n",
    "\n",
    "longestIncreasingPath(matrix) # time O(m*n) space O(m*n)"
   ]
  }
 ],
 "metadata": {
  "kernelspec": {
   "display_name": "base",
   "language": "python",
   "name": "python3"
  },
  "language_info": {
   "codemirror_mode": {
    "name": "ipython",
    "version": 3
   },
   "file_extension": ".py",
   "mimetype": "text/x-python",
   "name": "python",
   "nbconvert_exporter": "python",
   "pygments_lexer": "ipython3",
   "version": "3.9.7"
  }
 },
 "nbformat": 4,
 "nbformat_minor": 5
}
