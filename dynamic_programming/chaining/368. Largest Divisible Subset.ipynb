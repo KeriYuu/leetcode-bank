{
 "cells": [
  {
   "cell_type": "code",
   "execution_count": 1,
   "id": "94fa79be",
   "metadata": {},
   "outputs": [],
   "source": [
    "nums = [1,2,4,8]\n",
    "# Output: [1,2,4,8]"
   ]
  },
  {
   "cell_type": "code",
   "execution_count": 2,
   "id": "3fe02886",
   "metadata": {},
   "outputs": [
    {
     "data": {
      "text/plain": [
       "[1, 2, 4, 8]"
      ]
     },
     "execution_count": 2,
     "metadata": {},
     "output_type": "execute_result"
    }
   ],
   "source": [
    "def largestDivisibleSubset(nums):\n",
    "    n = len(nums)\n",
    "    dp = [1] * n\n",
    "    prev = [-1] * n\n",
    "\n",
    "    nums.sort()\n",
    "    best, best_idx = 1, 0\n",
    "    for i in range(n):\n",
    "        for j in range(i):\n",
    "            if nums[i] % nums[j] == 0 and dp[i] < dp[j] + 1:\n",
    "                dp[i] = dp[j] + 1\n",
    "                prev[i] = j\n",
    "        if dp[i] > best:\n",
    "            best = dp[i]\n",
    "            best_idx = i\n",
    "    res = []\n",
    "    while best_idx != -1:\n",
    "        res.append(nums[best_idx])\n",
    "        best_idx = prev[best_idx]\n",
    "    return res[::-1]\n",
    "largestDivisibleSubset(nums) # time O(n^2) space O(n)\n",
    "    \n"
   ]
  },
  {
   "cell_type": "code",
   "execution_count": 9,
   "id": "f2555cea",
   "metadata": {},
   "outputs": [
    {
     "data": {
      "text/plain": [
       "[1, 2, 4, 8]"
      ]
     },
     "execution_count": 9,
     "metadata": {},
     "output_type": "execute_result"
    }
   ],
   "source": [
    "def find_factors(num):\n",
    "    f = 1\n",
    "    factors = []\n",
    "    while f * f <= num:\n",
    "        if num % f == 0:\n",
    "            factors.append(f)\n",
    "            if f != num // f:\n",
    "                factors.append(num // f)\n",
    "        f += 1\n",
    "    factors.remove(num)\n",
    "    return factors\n",
    "\n",
    "\n",
    "def largestDivisibleSubset_factor(nums):\n",
    "    n = len(nums)\n",
    "    dp = {}\n",
    "    prev = {}\n",
    "\n",
    "    for num in nums:\n",
    "        dp[num] = 1\n",
    "        prev[num] = -1\n",
    "\n",
    "    nums.sort()\n",
    "    best = nums[0]\n",
    "\n",
    "    for num in nums:\n",
    "        for factor in find_factors(num):\n",
    "            if factor not in dp:\n",
    "                continue\n",
    "            if dp[num] < dp[factor] + 1:\n",
    "                dp[num] = dp[factor] + 1\n",
    "                prev[num] = factor\n",
    "        if dp[num] > dp[best]:\n",
    "            best = num\n",
    "    res = [best]\n",
    "    prev_num = prev[best]\n",
    "    while prev_num != -1:\n",
    "        res.append(prev_num)\n",
    "        prev_num = prev[prev_num]\n",
    "    return res[::-1]\n",
    "largestDivisibleSubset_factor(nums) # time O(nlogn + n* sqrt(max_num)) space O(n)\n",
    "    \n"
   ]
  },
  {
   "cell_type": "code",
   "execution_count": null,
   "id": "51a672fe",
   "metadata": {},
   "outputs": [],
   "source": []
  }
 ],
 "metadata": {
  "kernelspec": {
   "display_name": "base",
   "language": "python",
   "name": "python3"
  },
  "language_info": {
   "codemirror_mode": {
    "name": "ipython",
    "version": 3
   },
   "file_extension": ".py",
   "mimetype": "text/x-python",
   "name": "python",
   "nbconvert_exporter": "python",
   "pygments_lexer": "ipython3",
   "version": "3.9.7"
  }
 },
 "nbformat": 4,
 "nbformat_minor": 5
}
