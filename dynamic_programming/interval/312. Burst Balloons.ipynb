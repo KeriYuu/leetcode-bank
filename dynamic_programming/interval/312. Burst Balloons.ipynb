{
 "cells": [
  {
   "cell_type": "code",
   "execution_count": 1,
   "id": "7259727c",
   "metadata": {},
   "outputs": [],
   "source": [
    "nums = [3,1,5,8]\n",
    "# Output: 167"
   ]
  },
  {
   "cell_type": "code",
   "execution_count": 2,
   "id": "16ebd35b",
   "metadata": {},
   "outputs": [],
   "source": [
    "def maxCoins(nums):\n",
    "    # padding 1 \n",
    "    nums = [1] + nums + [1]\n",
    "    n = len(nums)\n",
    "    # dp[i][j] represents the maximum coins we can get by bursting all the balloons inside the open interval (i, j),\n",
    "    dp = [[0] * n for _ in range(n)]\n",
    "\n",
    "    for l in range(3, n + 1):\n",
    "        for i in range(n - l + 1):\n",
    "            j = i + l - 1\n",
    "\n",
    "            # i   (balloons inside)   j\n",
    "            # |   k1   k2   k3   ...  |\n",
    "\n",
    "            for k in range(i + 1, j):\n",
    "                dp[i][j] = max(dp[i][j], nums[i] * nums[k] * nums[j] + dp[i][k] + dp[k][j])\n",
    "\n",
    "    return dp[0][n - 1]"
   ]
  },
  {
   "cell_type": "code",
   "execution_count": 3,
   "id": "293a1558",
   "metadata": {},
   "outputs": [
    {
     "data": {
      "text/plain": [
       "167"
      ]
     },
     "execution_count": 3,
     "metadata": {},
     "output_type": "execute_result"
    }
   ],
   "source": [
    "maxCoins(nums) # time O(n**3), space O(n**2)"
   ]
  }
 ],
 "metadata": {
  "kernelspec": {
   "display_name": "base",
   "language": "python",
   "name": "python3"
  },
  "language_info": {
   "codemirror_mode": {
    "name": "ipython",
    "version": 3
   },
   "file_extension": ".py",
   "mimetype": "text/x-python",
   "name": "python",
   "nbconvert_exporter": "python",
   "pygments_lexer": "ipython3",
   "version": "3.9.7"
  }
 },
 "nbformat": 4,
 "nbformat_minor": 5
}
