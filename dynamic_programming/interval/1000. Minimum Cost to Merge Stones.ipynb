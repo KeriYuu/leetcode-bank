{
 "cells": [
  {
   "cell_type": "code",
   "execution_count": 3,
   "id": "7259727c",
   "metadata": {},
   "outputs": [],
   "source": [
    "stones = [3,2,4,1]\n",
    "k = 2\n",
    "# Output: 20"
   ]
  },
  {
   "cell_type": "code",
   "execution_count": null,
   "id": "ad2e0094",
   "metadata": {},
   "outputs": [
    {
     "data": {
      "text/plain": [
       "20"
      ]
     },
     "execution_count": 4,
     "metadata": {},
     "output_type": "execute_result"
    }
   ],
   "source": [
    "def mergeStones(stones, k):\n",
    "    n = len(stones)\n",
    "\n",
    "    # Each merge operation reduces the number of piles by (k - 1).\n",
    "    # So starting from n piles, to end up with 1 pile:\n",
    "    #     we need (n - 1) % (k - 1) == 0\n",
    "    if (n - 1) % (k - 1) != 0:\n",
    "        return -1\n",
    "    \n",
    "    # dp[i][j] = the minimum cost to merge piles from index i to j (inclusive) into 1 pile.\n",
    "    dp = [[float('inf')] * n for _ in range(n)]\n",
    "    for i in range(n):\n",
    "        dp[i][i] = 0\n",
    "\n",
    "    prefix = [0] * (n + 1)\n",
    "    for i in range(n):\n",
    "        prefix[i + 1] = prefix[i] + stones[i]\n",
    "\n",
    "    for l in range(2, n + 1):\n",
    "        for i in range(n - l + 1):\n",
    "            j = i + l - 1\n",
    "            for m in range(i, j, k - 1):\n",
    "                dp[i][j] = min(dp[i][j], dp[i][m] + dp[m + 1][j])\n",
    "\n",
    "            # Merging happens only when (l - 1) % (k - 1) == 0,\n",
    "            if (l - 1) % (k - 1) == 0:\n",
    "                dp[i][j] += prefix[j + 1] - prefix[i]\n",
    "\n",
    "    return dp[0][n - 1]\n",
    "\n",
    "mergeStones(stones, k) # time O(n^3 / k), space O(n^2)\n"
   ]
  }
 ],
 "metadata": {
  "kernelspec": {
   "display_name": "base",
   "language": "python",
   "name": "python3"
  },
  "language_info": {
   "codemirror_mode": {
    "name": "ipython",
    "version": 3
   },
   "file_extension": ".py",
   "mimetype": "text/x-python",
   "name": "python",
   "nbconvert_exporter": "python",
   "pygments_lexer": "ipython3",
   "version": "3.9.7"
  }
 },
 "nbformat": 4,
 "nbformat_minor": 5
}
