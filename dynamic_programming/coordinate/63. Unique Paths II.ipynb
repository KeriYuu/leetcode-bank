{
 "cells": [
  {
   "cell_type": "code",
   "execution_count": 1,
   "id": "7259727c",
   "metadata": {},
   "outputs": [],
   "source": [
    "obstacleGrid = [[0,0,0],[0,1,0],[0,0,0]]\n",
    "# Output: 2"
   ]
  },
  {
   "cell_type": "code",
   "execution_count": 2,
   "id": "01ecfd7b",
   "metadata": {},
   "outputs": [
    {
     "data": {
      "text/plain": [
       "2"
      ]
     },
     "execution_count": 2,
     "metadata": {},
     "output_type": "execute_result"
    }
   ],
   "source": [
    "def uniquePathsWithObstacles(obstacleGrid):\n",
    "    m, n = len(obstacleGrid), len(obstacleGrid[0])\n",
    "    dp = [[0] * n for _ in range(m)]\n",
    "    \n",
    "    for i in range(m):\n",
    "        if obstacleGrid[i][0] == 1:\n",
    "            break\n",
    "        dp[i][0] = 1\n",
    "    \n",
    "    for j in range(n):\n",
    "        if obstacleGrid[0][j] == 1:\n",
    "            break\n",
    "        dp[0][j] = 1\n",
    "\n",
    "    for i in range(1, m):\n",
    "        for j in range(1, n):\n",
    "            if obstacleGrid[i][j] == 1:\n",
    "                dp[i][j] = 0\n",
    "            else:\n",
    "                dp[i][j] = dp[i-1][j] + dp[i][j-1]\n",
    "    return dp[m-1][n-1]\n",
    "\n",
    "uniquePathsWithObstacles(obstacleGrid) # time O(m*n), space O(m*n)\n"
   ]
  }
 ],
 "metadata": {
  "kernelspec": {
   "display_name": "base",
   "language": "python",
   "name": "python3"
  },
  "language_info": {
   "codemirror_mode": {
    "name": "ipython",
    "version": 3
   },
   "file_extension": ".py",
   "mimetype": "text/x-python",
   "name": "python",
   "nbconvert_exporter": "python",
   "pygments_lexer": "ipython3",
   "version": "3.9.7"
  }
 },
 "nbformat": 4,
 "nbformat_minor": 5
}
