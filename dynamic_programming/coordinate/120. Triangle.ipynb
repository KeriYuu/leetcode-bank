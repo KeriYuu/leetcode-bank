{
 "cells": [
  {
   "cell_type": "code",
   "execution_count": 4,
   "id": "94fa79be",
   "metadata": {},
   "outputs": [],
   "source": [
    "triangle = [[2],[3,4],[6,5,7],[4,1,8,3]]\n",
    "# Output: 11"
   ]
  },
  {
   "cell_type": "code",
   "execution_count": 5,
   "id": "e8b1da47",
   "metadata": {},
   "outputs": [
    {
     "data": {
      "text/plain": [
       "11"
      ]
     },
     "execution_count": 5,
     "metadata": {},
     "output_type": "execute_result"
    }
   ],
   "source": [
    "def minimumTotal(triangle):\n",
    "    n = len(triangle)\n",
    "    dp = [[float('inf')] * n for _ in range(n)]\n",
    "    dp[0][0] = triangle[0][0]\n",
    "    for i in range(1, n):\n",
    "        for j in range(i + 1):\n",
    "            if j == 0:\n",
    "                dp[i][j] = dp[i-1][j] + triangle[i][j]\n",
    "            elif j == i:\n",
    "                dp[i][j] = dp[i-1][j-1] + triangle[i][j]\n",
    "            else:\n",
    "                dp[i][j] = min(dp[i-1][j-1], dp[i-1][j]) + triangle[i][j]\n",
    "    return min(dp[n-1])\n",
    "\n",
    "minimumTotal(triangle) # time O(n^2) space O(n^2)"
   ]
  },
  {
   "cell_type": "code",
   "execution_count": 8,
   "id": "e3e5783e",
   "metadata": {},
   "outputs": [
    {
     "data": {
      "text/plain": [
       "11"
      ]
     },
     "execution_count": 8,
     "metadata": {},
     "output_type": "execute_result"
    }
   ],
   "source": [
    "def minimumTotal_rolling_array(triangle):\n",
    "    n = len(triangle)\n",
    "    dp = [[float('inf')] * n for _ in range(2)]\n",
    "    dp[0][0] = triangle[0][0]\n",
    "    for i in range(1, n):\n",
    "        for j in range(i):\n",
    "            if j == 0:\n",
    "                dp[i % 2][j] = dp[(i - 1) % 2][j] + triangle[i][j]\n",
    "            elif j == i:\n",
    "                dp[i % 2][j] = dp[(i - 1) % 2][j - 1] + triangle[i][j]\n",
    "            else:\n",
    "                dp[i % 2][j] = min(dp[(i - 1) % 2][j - 1], dp[(i - 1) % 2][j]) + triangle[i][j]\n",
    "    return min(dp[(n - 1) % 2])\n",
    "\n",
    "minimumTotal_rolling_array(triangle) # time O(n^2) space O(n)\n",
    "\n"
   ]
  }
 ],
 "metadata": {
  "kernelspec": {
   "display_name": "base",
   "language": "python",
   "name": "python3"
  },
  "language_info": {
   "codemirror_mode": {
    "name": "ipython",
    "version": 3
   },
   "file_extension": ".py",
   "mimetype": "text/x-python",
   "name": "python",
   "nbconvert_exporter": "python",
   "pygments_lexer": "ipython3",
   "version": "3.9.7"
  }
 },
 "nbformat": 4,
 "nbformat_minor": 5
}
