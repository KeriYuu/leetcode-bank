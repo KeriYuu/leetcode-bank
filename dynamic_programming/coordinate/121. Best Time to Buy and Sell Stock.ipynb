{
 "cells": [
  {
   "cell_type": "code",
   "execution_count": 1,
   "id": "7259727c",
   "metadata": {},
   "outputs": [],
   "source": [
    "prices = [7,1,5,3,6,4]\n",
    "# Output: 5"
   ]
  },
  {
   "cell_type": "code",
   "execution_count": 2,
   "id": "f4569ccf",
   "metadata": {},
   "outputs": [
    {
     "data": {
      "text/plain": [
       "5"
      ]
     },
     "execution_count": 2,
     "metadata": {},
     "output_type": "execute_result"
    }
   ],
   "source": [
    "def maxProfit1(prices):\n",
    "    max_profit = 0\n",
    "    min_price = float('inf')\n",
    "    for price in prices:\n",
    "        max_profit = max(max_profit, price - min_price)\n",
    "        min_price = min(min_price, price)\n",
    "    return max_profit\n",
    "\n",
    "maxProfit1(prices) # time O(n), space O(1)\n"
   ]
  },
  {
   "cell_type": "code",
   "execution_count": 3,
   "id": "bf7e4b9c",
   "metadata": {},
   "outputs": [
    {
     "data": {
      "text/plain": [
       "5"
      ]
     },
     "execution_count": 3,
     "metadata": {},
     "output_type": "execute_result"
    }
   ],
   "source": [
    "def maxProfit2(prices):\n",
    "    max_profit = 0\n",
    "    max_price = 0\n",
    "    for price in prices[::-1]:\n",
    "        max_profit = max(max_profit, max_price - price)\n",
    "        max_price = max(max_price, price)\n",
    "    return max_profit\n",
    "\n",
    "maxProfit2(prices) # time O(n), space O(1)\n"
   ]
  }
 ],
 "metadata": {
  "kernelspec": {
   "display_name": "base",
   "language": "python",
   "name": "python3"
  },
  "language_info": {
   "codemirror_mode": {
    "name": "ipython",
    "version": 3
   },
   "file_extension": ".py",
   "mimetype": "text/x-python",
   "name": "python",
   "nbconvert_exporter": "python",
   "pygments_lexer": "ipython3",
   "version": "3.9.7"
  }
 },
 "nbformat": 4,
 "nbformat_minor": 5
}
