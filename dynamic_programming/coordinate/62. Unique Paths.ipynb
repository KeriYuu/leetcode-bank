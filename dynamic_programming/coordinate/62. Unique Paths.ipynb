{
 "cells": [
  {
   "cell_type": "code",
   "execution_count": 1,
   "id": "7259727c",
   "metadata": {},
   "outputs": [],
   "source": [
    "m = 3\n",
    "n = 2\n",
    "# Output: 3"
   ]
  },
  {
   "cell_type": "code",
   "execution_count": 2,
   "id": "8990ecd7",
   "metadata": {},
   "outputs": [
    {
     "data": {
      "text/plain": [
       "3"
      ]
     },
     "execution_count": 2,
     "metadata": {},
     "output_type": "execute_result"
    }
   ],
   "source": [
    "# top-down\n",
    "def uniquePaths(m, n):\n",
    "    dp = [[0] * n for _ in range(m)]\n",
    "    for i in range(m):\n",
    "        dp[i][0] = 1\n",
    "    for j in range(n):\n",
    "        dp[0][j] = 1\n",
    "    for i in range(1, m):\n",
    "        for j in range(1, n):\n",
    "            dp[i][j] = dp[i - 1][j] + dp[i][j - 1]\n",
    "    return dp[-1][-1]\n",
    "\n",
    "uniquePaths(m, n) # time O(m*n), space O(m*n)\n"
   ]
  },
  {
   "cell_type": "code",
   "execution_count": 3,
   "id": "b504cf67",
   "metadata": {},
   "outputs": [
    {
     "data": {
      "text/plain": [
       "3"
      ]
     },
     "execution_count": 3,
     "metadata": {},
     "output_type": "execute_result"
    }
   ],
   "source": [
    "#bottom-up\n",
    "def uniquePaths(m, n):\n",
    "    dp = [[0] * n for _ in range(m)]\n",
    "    for i in range(m):\n",
    "        dp[i][-1] = 1\n",
    "    for j in range(n):\n",
    "        dp[-1][j] = 1\n",
    "\n",
    "    for i in range(m - 2, -1, -1):\n",
    "        for j in range(n - 2, -1, -1):\n",
    "            dp[i][j] = dp[i + 1][j] + dp[i][j + 1]\n",
    "    return dp[0][0]\n",
    "\n",
    "uniquePaths(m, n) # time O(m*n), space O(m*n)\n"
   ]
  }
 ],
 "metadata": {
  "kernelspec": {
   "display_name": "base",
   "language": "python",
   "name": "python3"
  },
  "language_info": {
   "codemirror_mode": {
    "name": "ipython",
    "version": 3
   },
   "file_extension": ".py",
   "mimetype": "text/x-python",
   "name": "python",
   "nbconvert_exporter": "python",
   "pygments_lexer": "ipython3",
   "version": "3.9.7"
  }
 },
 "nbformat": 4,
 "nbformat_minor": 5
}
