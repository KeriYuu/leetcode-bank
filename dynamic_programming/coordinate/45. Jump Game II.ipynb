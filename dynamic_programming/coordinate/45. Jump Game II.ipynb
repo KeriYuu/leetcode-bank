{
 "cells": [
  {
   "cell_type": "code",
   "execution_count": 3,
   "id": "7259727c",
   "metadata": {},
   "outputs": [],
   "source": [
    "nums = [2,3,1,1,4]\n",
    "# Output: 2"
   ]
  },
  {
   "cell_type": "code",
   "execution_count": 4,
   "id": "8ee6adb0",
   "metadata": {},
   "outputs": [
    {
     "data": {
      "text/plain": [
       "2"
      ]
     },
     "execution_count": 4,
     "metadata": {},
     "output_type": "execute_result"
    }
   ],
   "source": [
    "import sys\n",
    "def canJump(nums):\n",
    "    n = len(nums)\n",
    "    dp = [sys.maxsize] * n\n",
    "    dp[0] = 0\n",
    "    for i in range(1, n):\n",
    "        for j in range(i):\n",
    "            if nums[j] >= i - j:\n",
    "                dp[i] = min(dp[i], dp[j] + 1)\n",
    "    return dp[n-1] if dp[n-1] != sys.maxsize else -1\n",
    "\n",
    "canJump(nums) # time O(n**2), space O(n), time limit exceeded\n",
    "\n"
   ]
  }
 ],
 "metadata": {
  "kernelspec": {
   "display_name": "base",
   "language": "python",
   "name": "python3"
  },
  "language_info": {
   "codemirror_mode": {
    "name": "ipython",
    "version": 3
   },
   "file_extension": ".py",
   "mimetype": "text/x-python",
   "name": "python",
   "nbconvert_exporter": "python",
   "pygments_lexer": "ipython3",
   "version": "3.9.7"
  }
 },
 "nbformat": 4,
 "nbformat_minor": 5
}
