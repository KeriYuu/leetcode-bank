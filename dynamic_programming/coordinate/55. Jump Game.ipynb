{
 "cells": [
  {
   "cell_type": "code",
   "execution_count": 1,
   "id": "7259727c",
   "metadata": {},
   "outputs": [],
   "source": [
    "nums = [2,3,1,1,4]\n",
    "# Output: true"
   ]
  },
  {
   "cell_type": "code",
   "execution_count": 2,
   "id": "8ee6adb0",
   "metadata": {},
   "outputs": [
    {
     "data": {
      "text/plain": [
       "True"
      ]
     },
     "execution_count": 2,
     "metadata": {},
     "output_type": "execute_result"
    }
   ],
   "source": [
    "def canJump(nums):\n",
    "    n = len(nums)\n",
    "    dp = [False] * n\n",
    "    dp[0] = True\n",
    "    for i in range(1, n):\n",
    "        for j in range(i):\n",
    "            if dp[j] and nums[j] >= i - j:\n",
    "                dp[i] = True\n",
    "                break\n",
    "    return dp[n-1]\n",
    "\n",
    "canJump(nums) # time O(n**2), space O(n), time limit exceeded\n",
    "\n"
   ]
  }
 ],
 "metadata": {
  "kernelspec": {
   "display_name": "base",
   "language": "python",
   "name": "python3"
  },
  "language_info": {
   "codemirror_mode": {
    "name": "ipython",
    "version": 3
   },
   "file_extension": ".py",
   "mimetype": "text/x-python",
   "name": "python",
   "nbconvert_exporter": "python",
   "pygments_lexer": "ipython3",
   "version": "3.9.7"
  }
 },
 "nbformat": 4,
 "nbformat_minor": 5
}
