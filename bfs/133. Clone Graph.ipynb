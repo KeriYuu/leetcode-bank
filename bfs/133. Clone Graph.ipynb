{
 "cells": [
  {
   "cell_type": "code",
   "execution_count": 4,
   "id": "21f5be5a",
   "metadata": {},
   "outputs": [],
   "source": [
    "from collections import deque\n",
    "\n",
    "class Node:\n",
    "    def __init__(self, val = 0, neighbors = None):\n",
    "        self.val = val\n",
    "        self.neighbors = neighbors if neighbors is not None else []\n",
    "\n",
    "def buildGraph(arr):\n",
    "    if not arr:\n",
    "        return None\n",
    "    nodes = {i + 1: Node(i + 1) for i in range(len(arr))}\n",
    "    for i in range(len(arr)):\n",
    "        for j in range(len(arr[i])):\n",
    "            nodes[i + 1].neighbors.append(nodes[arr[i][j]])\n",
    "    return nodes[1]\n",
    "\n",
    "def serialize(node):\n",
    "    if not node:\n",
    "        return []\n",
    "    visited = set()\n",
    "    q = deque([node])\n",
    "    while q:\n",
    "        current = q.popleft()\n",
    "        for neighbor in current.neighbors:\n",
    "            if neighbor not in visited:\n",
    "                visited.add(neighbor)\n",
    "                q.append(neighbor)\n",
    "    return [[neighbor.val for neighbor in node.neighbors] for node in visited]\n",
    "\n"
   ]
  },
  {
   "cell_type": "code",
   "execution_count": 5,
   "id": "befeaeba",
   "metadata": {},
   "outputs": [
    {
     "name": "stdout",
     "output_type": "stream",
     "text": [
      "<__main__.Node object at 0x7f809094efa0> neighbors: [2, 4]\n"
     ]
    },
    {
     "data": {
      "text/plain": [
       "[[1, 3], [1, 3], [2, 4], [2, 4]]"
      ]
     },
     "execution_count": 5,
     "metadata": {},
     "output_type": "execute_result"
    }
   ],
   "source": [
    "adj = [[2,4],[1,3],[2,4],[1,3]]\n",
    "start = buildGraph(adj)\n",
    "print(start, \"neighbors:\", [n.val for n in start.neighbors])  # Node(1) neighbors: [2, 4]\n",
    "serialize(start)"
   ]
  },
  {
   "cell_type": "code",
   "execution_count": 6,
   "id": "cff3defc",
   "metadata": {},
   "outputs": [],
   "source": [
    "def cloneGraph(node):\n",
    "    if not node:\n",
    "        return None\n",
    "    node_map = {node.val: Node(node.val)}\n",
    "    q = deque([node])\n",
    "    while q:\n",
    "        current = q.popleft()\n",
    "        for neighbor in current.neighbors:\n",
    "            if neighbor.val not in node_map:\n",
    "                node_map[neighbor.val] = Node(neighbor.val)\n",
    "                q.append(neighbor)\n",
    "            node_map[current.val].neighbors.append(node_map[neighbor.val])\n",
    "    return node_map[node.val]\n"
   ]
  },
  {
   "cell_type": "code",
   "execution_count": 7,
   "id": "1e640e9e",
   "metadata": {},
   "outputs": [
    {
     "name": "stdout",
     "output_type": "stream",
     "text": [
      "<__main__.Node object at 0x7f8090968c10> neighbors: [2, 4]\n"
     ]
    },
    {
     "data": {
      "text/plain": [
       "[[2, 4], [1, 3], [1, 3], [2, 4]]"
      ]
     },
     "execution_count": 7,
     "metadata": {},
     "output_type": "execute_result"
    }
   ],
   "source": [
    "new_node = cloneGraph(start)\n",
    "print(new_node, \"neighbors:\", [n.val for n in new_node.neighbors])  # Node(1) neighbors: [2, 4]\n",
    "serialize(new_node)"
   ]
  },
  {
   "cell_type": "code",
   "execution_count": null,
   "id": "60ebc007",
   "metadata": {},
   "outputs": [],
   "source": [
    "# time O(n+m), space O(n+m)"
   ]
  }
 ],
 "metadata": {
  "kernelspec": {
   "display_name": "base",
   "language": "python",
   "name": "python3"
  },
  "language_info": {
   "codemirror_mode": {
    "name": "ipython",
    "version": 3
   },
   "file_extension": ".py",
   "mimetype": "text/x-python",
   "name": "python",
   "nbconvert_exporter": "python",
   "pygments_lexer": "ipython3",
   "version": "3.9.7"
  }
 },
 "nbformat": 4,
 "nbformat_minor": 5
}
