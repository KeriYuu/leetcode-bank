{
 "cells": [
  {
   "cell_type": "code",
   "execution_count": 4,
   "id": "e1f35bad",
   "metadata": {},
   "outputs": [],
   "source": [
    "beginWord = \"hit\"\n",
    "endWord = \"cog\"\n",
    "wordList = [\"hot\",\"dot\",\"dog\",\"lot\",\"log\",\"cog\"]\n",
    "# Output: 5"
   ]
  },
  {
   "cell_type": "code",
   "execution_count": 5,
   "id": "b5fa94c9",
   "metadata": {},
   "outputs": [],
   "source": [
    "from collections import deque\n",
    "def ladderLength(beginWord, endWord, wordList):\n",
    "    wordSet = set(wordList)\n",
    "    if endWord not in wordSet:\n",
    "        return 0\n",
    "    q = deque([beginWord])\n",
    "    distance = {beginWord: 1}\n",
    "    while q:\n",
    "        currWord = q.popleft()\n",
    "        if currWord == endWord:\n",
    "            return distance[currWord]\n",
    "        for i in range(len(currWord)):\n",
    "            for c in 'abcdefghijklmnopqrstuvwxyz':\n",
    "                nextWord = currWord[:i] + c + currWord[i+1:]\n",
    "                if nextWord in wordSet and nextWord not in distance:\n",
    "                    distance[nextWord] = distance[currWord] + 1\n",
    "                    q.append(nextWord)\n",
    "    return 0\n"
   ]
  },
  {
   "cell_type": "code",
   "execution_count": null,
   "id": "903d4c59",
   "metadata": {},
   "outputs": [
    {
     "data": {
      "text/plain": [
       "5"
      ]
     },
     "execution_count": 6,
     "metadata": {},
     "output_type": "execute_result"
    }
   ],
   "source": [
    "ladderLength(beginWord, endWord, wordList) \n",
    "# N: number of words in wordList, L: length of each word\n",
    "# O(L) hashset lookup\n",
    "# time O(L^2 * N * 26), space O(N)\n"
   ]
  }
 ],
 "metadata": {
  "kernelspec": {
   "display_name": "base",
   "language": "python",
   "name": "python3"
  },
  "language_info": {
   "codemirror_mode": {
    "name": "ipython",
    "version": 3
   },
   "file_extension": ".py",
   "mimetype": "text/x-python",
   "name": "python",
   "nbconvert_exporter": "python",
   "pygments_lexer": "ipython3",
   "version": "3.9.7"
  }
 },
 "nbformat": 4,
 "nbformat_minor": 5
}
