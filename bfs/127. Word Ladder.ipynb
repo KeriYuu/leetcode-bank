{
 "cells": [
  {
   "cell_type": "code",
   "execution_count": 5,
   "id": "e1f35bad",
   "metadata": {},
   "outputs": [],
   "source": [
    "beginWord = \"hit\"\n",
    "endWord = \"cog\"\n",
    "wordList = [\"hot\",\"dot\",\"dog\",\"lot\",\"log\",\"cog\"]\n",
    "# Output: 5"
   ]
  },
  {
   "cell_type": "code",
   "execution_count": 6,
   "id": "b5fa94c9",
   "metadata": {},
   "outputs": [],
   "source": [
    "from collections import deque\n",
    "def ladderLength(beginWord, endWord, wordList):\n",
    "    wordSet = set(wordList)\n",
    "    if endWord not in wordSet:\n",
    "        return 0\n",
    "    q = deque([beginWord])\n",
    "    distance = {beginWord: 1}\n",
    "    while q:\n",
    "        currWord = q.popleft()\n",
    "        if currWord == endWord:\n",
    "            return distance[currWord]\n",
    "        for i in range(len(currWord)):\n",
    "            for c in 'abcdefghijklmnopqrstuvwxyz':\n",
    "                nextWord = currWord[:i] + c + currWord[i+1:]\n",
    "                if nextWord in wordSet and nextWord not in distance:\n",
    "                    distance[nextWord] = distance[currWord] + 1\n",
    "                    q.append(nextWord)\n",
    "    return 0\n"
   ]
  },
  {
   "cell_type": "code",
   "execution_count": null,
   "id": "903d4c59",
   "metadata": {},
   "outputs": [
    {
     "data": {
      "text/plain": [
       "5"
      ]
     },
     "execution_count": 7,
     "metadata": {},
     "output_type": "execute_result"
    }
   ],
   "source": [
    "ladderLength(beginWord, endWord, wordList) \n",
    "# N: number of words in wordList, L: length of each word\n",
    "# O(L) hashset lookup\n",
    "# time O(L^2 * N * 26), space O(N * L)\n"
   ]
  },
  {
   "cell_type": "code",
   "execution_count": null,
   "id": "626b7f08",
   "metadata": {},
   "outputs": [
    {
     "data": {
      "text/plain": [
       "5"
      ]
     },
     "execution_count": 8,
     "metadata": {},
     "output_type": "execute_result"
    }
   ],
   "source": [
    "def extend_queue(q, visited, opposite_visited, wordSet):\n",
    "    for _ in range(len(q)):\n",
    "        word = q.popleft()\n",
    "        for nextWord in get_next_words(word, wordSet):\n",
    "            if nextWord in visited:\n",
    "                continue\n",
    "            if nextWord in opposite_visited:\n",
    "                return True\n",
    "            visited.add(nextWord)\n",
    "            q.append(nextWord)\n",
    "    return False\n",
    "\n",
    "def get_next_words(word, wordSet):\n",
    "    for i in range(len(word)):\n",
    "        for c in 'abcdefghijklmnopqrstuvwxyz':\n",
    "            if c == word[i]:\n",
    "                continue\n",
    "            nextWord = word[:i] + c + word[i+1:]\n",
    "            if nextWord in wordSet:\n",
    "                yield nextWord\n",
    "\n",
    "\n",
    "def ladderLength_biBFS(beginWord, endWord, wordList):\n",
    "    wordSet = set(wordList)\n",
    "    if endWord not in wordSet:\n",
    "        return 0\n",
    "    forward_q, backward_q = deque([beginWord]), deque([endWord])\n",
    "    forward_visited, backward_visited = set([beginWord]), set([endWord])\n",
    "    distance = 1\n",
    "    while forward_q and backward_q:\n",
    "        distance += 1\n",
    "        if extend_queue(forward_q, forward_visited, backward_visited, wordSet):\n",
    "            return distance\n",
    "\n",
    "        distance += 1\n",
    "        if extend_queue(backward_q, backward_visited, forward_visited, wordSet):\n",
    "            return distance\n",
    "    return 0\n",
    "\n",
    "\n",
    "ladderLength_biBFS(beginWord, endWord, wordList)    \n",
    "\n",
    "# time O(L^2 * sqrt(N) * 26), space O(N * L)"
   ]
  }
 ],
 "metadata": {
  "kernelspec": {
   "display_name": "base",
   "language": "python",
   "name": "python3"
  },
  "language_info": {
   "codemirror_mode": {
    "name": "ipython",
    "version": 3
   },
   "file_extension": ".py",
   "mimetype": "text/x-python",
   "name": "python",
   "nbconvert_exporter": "python",
   "pygments_lexer": "ipython3",
   "version": "3.9.7"
  }
 },
 "nbformat": 4,
 "nbformat_minor": 5
}
