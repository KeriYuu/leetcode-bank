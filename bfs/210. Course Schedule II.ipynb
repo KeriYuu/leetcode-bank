{
 "cells": [
  {
   "cell_type": "code",
   "execution_count": 4,
   "id": "b294444f",
   "metadata": {},
   "outputs": [],
   "source": [
    "numCourses = 4\n",
    "prerequisites = [[1,0],[2,0],[3,1],[3,2]]\n",
    "# Output: [0,2,1,3]"
   ]
  },
  {
   "cell_type": "code",
   "execution_count": 5,
   "id": "67b972b1",
   "metadata": {},
   "outputs": [],
   "source": [
    "from collections import deque, defaultdict\n",
    "\n",
    "def findOrder(numCourses, prerequisites):\n",
    "    allCourses = set(range(numCourses))\n",
    "    graph = defaultdict(list)\n",
    "    in_degree = {i: 0 for i in allCourses}\n",
    "    for course, pre in prerequisites:\n",
    "        graph[pre].append(course)\n",
    "        in_degree[course] += 1\n",
    "\n",
    "    q = deque([course for course in allCourses if in_degree[course] == 0])\n",
    "    result = []\n",
    "    while q:\n",
    "        course = q.popleft()\n",
    "        result.append(course)\n",
    "        for neighbor in graph[course]:\n",
    "            in_degree[neighbor] -= 1\n",
    "            if in_degree[neighbor] == 0:\n",
    "                q.append(neighbor)\n",
    "\n",
    "    if len(result) == numCourses:\n",
    "        return result[::-1]\n",
    "    else:\n",
    "        return []\n",
    "                \n"
   ]
  },
  {
   "cell_type": "code",
   "execution_count": 6,
   "id": "db58936d",
   "metadata": {},
   "outputs": [
    {
     "data": {
      "text/plain": [
       "[3, 2, 1, 0]"
      ]
     },
     "execution_count": 6,
     "metadata": {},
     "output_type": "execute_result"
    }
   ],
   "source": [
    "findOrder(numCourses, prerequisites) # time: O(m * n), space: O(m * n)"
   ]
  }
 ],
 "metadata": {
  "kernelspec": {
   "display_name": "base",
   "language": "python",
   "name": "python3"
  },
  "language_info": {
   "codemirror_mode": {
    "name": "ipython",
    "version": 3
   },
   "file_extension": ".py",
   "mimetype": "text/x-python",
   "name": "python",
   "nbconvert_exporter": "python",
   "pygments_lexer": "ipython3",
   "version": "3.9.7"
  }
 },
 "nbformat": 4,
 "nbformat_minor": 5
}
