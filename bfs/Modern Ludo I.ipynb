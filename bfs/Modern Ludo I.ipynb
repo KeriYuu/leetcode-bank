{
 "cells": [
  {
   "cell_type": "code",
   "execution_count": 3,
   "id": "e1f35bad",
   "metadata": {},
   "outputs": [],
   "source": [
    "length = 15\n",
    "connections = [[2, 8], [6, 9]]\n",
    "# Output: 2"
   ]
  },
  {
   "cell_type": "code",
   "execution_count": null,
   "id": "7d1c07e5",
   "metadata": {},
   "outputs": [
    {
     "data": {
      "text/plain": [
       "2"
      ]
     },
     "execution_count": 4,
     "metadata": {},
     "output_type": "execute_result"
    }
   ],
   "source": [
    "from collections import deque\n",
    "\n",
    "# Method 1: The outer BFS finds the shortest path, and the inner BFS finds connected components.\n",
    "def modern_ludo1(length, connections):\n",
    "\n",
    "    graph = build_graph(length, connections)\n",
    "\n",
    "    q = deque([1])\n",
    "    dist = {1: 0}\n",
    "    for init_node in graph[1]:\n",
    "        q.append(init_node)\n",
    "        dist[init_node] = 0\n",
    "\n",
    "    while q:\n",
    "        node = q.popleft()\n",
    "        for next_node in range(node+1, min(node+7, length+1)):\n",
    "            for conn in expand(next_node, graph, dist):\n",
    "                dist[conn] = dist[node] + 1\n",
    "                q.append(conn)\n",
    "\n",
    "    return dist[length]\n",
    "\n",
    "def expand(node, graph, dist):\n",
    "    q = deque([node])\n",
    "    seen = set()\n",
    "    while q:\n",
    "        node = q.popleft()\n",
    "        # Because enqueueing and marking are not done simultaneously\n",
    "        if node in dist or node in seen:\n",
    "            continue\n",
    "        seen.add(node)\n",
    "        for conn in graph[node]:\n",
    "            q.append(conn)\n",
    "    return list(seen)\n",
    "\n",
    "\n",
    "def build_graph(length, connections):\n",
    "    graph = {i : set() for i in range(1, length+1)}\n",
    "    for a, b in connections:\n",
    "        graph[a].add(b)\n",
    "    return graph\n",
    "\n",
    "modern_ludo1(length, connections) # time O(n + m), space O(n + m), n: length, m: len(connections)\n",
    "        "
   ]
  },
  {
   "cell_type": "code",
   "execution_count": null,
   "id": "62350254",
   "metadata": {},
   "outputs": [
    {
     "data": {
      "text/plain": [
       "2"
      ]
     },
     "execution_count": 5,
     "metadata": {},
     "output_type": "execute_result"
    }
   ],
   "source": [
    "# Method 2: Use two queues, which preserves the property that each queue contains nodes from the same level.\n",
    "\n",
    "def modern_ludo2(length, connections):\n",
    "    graph = build_graph(length, connections)\n",
    "\n",
    "    q = deque([1])\n",
    "    dist = {1: 0}\n",
    "\n",
    "    while q:\n",
    "        for current_node in q:\n",
    "            for direct_node in graph[current_node]:\n",
    "                if direct_node in dist:\n",
    "                    continue\n",
    "                dist[direct_node] = dist[current_node]\n",
    "                q.append(direct_node)\n",
    "        next_q = []\n",
    "        for node in q:\n",
    "            for next_node in range(node+1, min(node+7, length+1)):\n",
    "                if next_node in dist:\n",
    "                    continue\n",
    "                dist[next_node] = dist[node] + 1\n",
    "                next_q.append(next_node)\n",
    "        q = next_q\n",
    "    return dist[length]\n",
    "\n",
    "modern_ludo2(length, connections) # time O(n + m), space O(n + m), n: length, m: len(connections)"
   ]
  }
 ],
 "metadata": {
  "kernelspec": {
   "display_name": "base",
   "language": "python",
   "name": "python3"
  },
  "language_info": {
   "codemirror_mode": {
    "name": "ipython",
    "version": 3
   },
   "file_extension": ".py",
   "mimetype": "text/x-python",
   "name": "python",
   "nbconvert_exporter": "python",
   "pygments_lexer": "ipython3",
   "version": "3.9.7"
  }
 },
 "nbformat": 4,
 "nbformat_minor": 5
}
