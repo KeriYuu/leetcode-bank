{
 "cells": [
  {
   "cell_type": "code",
   "execution_count": 1,
   "id": "b294444f",
   "metadata": {},
   "outputs": [],
   "source": [
    "grid = [\n",
    "  [\"1\",\"1\",\"0\",\"0\",\"0\"],\n",
    "  [\"1\",\"1\",\"0\",\"0\",\"0\"],\n",
    "  [\"0\",\"0\",\"1\",\"0\",\"0\"],\n",
    "  [\"0\",\"0\",\"0\",\"1\",\"1\"]\n",
    "]\n",
    "# Output: 3"
   ]
  },
  {
   "cell_type": "code",
   "execution_count": 2,
   "id": "67b972b1",
   "metadata": {},
   "outputs": [],
   "source": [
    "from collections import deque\n",
    "\n",
    "def bfs(i, j, grid, visited, m, n):\n",
    "    q = deque([(i, j)])\n",
    "    visited[i][j] = True\n",
    "    while q:\n",
    "        x, y = q.popleft()\n",
    "        for dx, dy in [(-1, 0), (1, 0), (0, -1), (0, 1)]:\n",
    "            nx, ny = x + dx, y + dy\n",
    "            if 0 <= nx < m and 0 <= ny < n and grid[nx][ny] == \"1\" and not visited[nx][ny]:\n",
    "                visited[nx][ny] = True\n",
    "                q.append((nx, ny))\n",
    "\n",
    "def numIslands(grid):\n",
    "    m, n = len(grid), len(grid[0])\n",
    "    visited = [[False] * n for _ in range(m)]\n",
    "    islands = 0\n",
    "    for i in range(m):\n",
    "        for j in range(n):\n",
    "            if grid[i][j] == \"0\" or visited[i][j]:\n",
    "                continue\n",
    "            islands += 1\n",
    "            bfs(i, j, grid, visited, m, n)\n",
    "    return islands\n",
    "\n",
    "                "
   ]
  },
  {
   "cell_type": "code",
   "execution_count": 3,
   "id": "db58936d",
   "metadata": {},
   "outputs": [
    {
     "data": {
      "text/plain": [
       "3"
      ]
     },
     "execution_count": 3,
     "metadata": {},
     "output_type": "execute_result"
    }
   ],
   "source": [
    "numIslands(grid) # time: O(m * n), space: O(m * n)"
   ]
  }
 ],
 "metadata": {
  "kernelspec": {
   "display_name": "base",
   "language": "python",
   "name": "python3"
  },
  "language_info": {
   "codemirror_mode": {
    "name": "ipython",
    "version": 3
   },
   "file_extension": ".py",
   "mimetype": "text/x-python",
   "name": "python",
   "nbconvert_exporter": "python",
   "pygments_lexer": "ipython3",
   "version": "3.9.7"
  }
 },
 "nbformat": 4,
 "nbformat_minor": 5
}
