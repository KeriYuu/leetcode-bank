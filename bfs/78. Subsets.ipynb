{
 "cells": [
  {
   "cell_type": "code",
   "execution_count": 1,
   "id": "e1f35bad",
   "metadata": {},
   "outputs": [],
   "source": [
    "nums = [1,2,3]\n",
    "# Output: [[],[1],[2],[1,2],[3],[1,3],[2,3],[1,2,3]]"
   ]
  },
  {
   "cell_type": "code",
   "execution_count": 2,
   "id": "adac3a57",
   "metadata": {},
   "outputs": [],
   "source": [
    "#                     []\n",
    "#           /            |            \\\n",
    "#        [1]            [2]            [3]\n",
    "#       /   \\             \\\n",
    "#   [1,2]   [1,3]        [2,3]\n",
    "#      |\n",
    "#   [1,2,3]\n"
   ]
  },
  {
   "cell_type": "code",
   "execution_count": 3,
   "id": "921d3968",
   "metadata": {},
   "outputs": [
    {
     "data": {
      "text/plain": [
       "[[], [1], [2], [3], [1, 2], [1, 3], [2, 3], [1, 2, 3]]"
      ]
     },
     "execution_count": 3,
     "metadata": {},
     "output_type": "execute_result"
    }
   ],
   "source": [
    "def subsets(nums):\n",
    "    q = [[]]\n",
    "    index = 0\n",
    "    while index < len(q):\n",
    "        curr = q[index]\n",
    "        index += 1\n",
    "        for num in nums:\n",
    "            if curr and num <= curr[-1]:\n",
    "                continue\n",
    "            q.append(curr + [num])\n",
    "    return q\n",
    "\n",
    "subsets(nums)"
   ]
  },
  {
   "cell_type": "code",
   "execution_count": 4,
   "id": "230676ee",
   "metadata": {},
   "outputs": [],
   "source": [
    "#                            []                  ← start\n",
    "#                     /                \\\n",
    "#               skip 1                  take 1\n",
    "#                /                         \\\n",
    "#              []                         [1]\n",
    "#            /    \\                     /      \\\n",
    "#       skip2    take2             skip2       take2\n",
    "#        / \\       / \\              / \\          / \\\n",
    "#  skip3 take3 skip3 take3    skip3 take3   skip3   take3\n",
    "#    |     |     |     |        |     |       |       |\n",
    "#   []    [3]   [2]  [2,3]     [1]  [1,3]   [1,2]  [1,2,3]\n"
   ]
  },
  {
   "cell_type": "code",
   "execution_count": 5,
   "id": "bafee398",
   "metadata": {},
   "outputs": [
    {
     "data": {
      "text/plain": [
       "[[], [1], [2], [1, 2], [3], [1, 3], [2, 3], [1, 2, 3]]"
      ]
     },
     "execution_count": 5,
     "metadata": {},
     "output_type": "execute_result"
    }
   ],
   "source": [
    "def subsets(nums):\n",
    "    q = [[]]\n",
    "    for num in nums:\n",
    "        subsets = [item for item in q]\n",
    "        for subset in subsets:\n",
    "            q.append(subset + [num])\n",
    "    return q\n",
    "\n",
    "subsets(nums)\n"
   ]
  }
 ],
 "metadata": {
  "kernelspec": {
   "display_name": "base",
   "language": "python",
   "name": "python3"
  },
  "language_info": {
   "codemirror_mode": {
    "name": "ipython",
    "version": 3
   },
   "file_extension": ".py",
   "mimetype": "text/x-python",
   "name": "python",
   "nbconvert_exporter": "python",
   "pygments_lexer": "ipython3",
   "version": "3.9.7"
  }
 },
 "nbformat": 4,
 "nbformat_minor": 5
}
