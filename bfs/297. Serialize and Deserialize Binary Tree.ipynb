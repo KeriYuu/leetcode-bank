{
 "cells": [
  {
   "cell_type": "code",
   "execution_count": null,
   "id": "d775a4ab",
   "metadata": {},
   "outputs": [],
   "source": [
    "l = \"{1,2,3,#,#,4,5}\"\n",
    "# Output: \"{1,2,3,#,#,4,5}\""
   ]
  },
  {
   "cell_type": "code",
   "execution_count": null,
   "id": "cbdcdb45",
   "metadata": {},
   "outputs": [
    {
     "data": {
      "text/plain": [
       "'{1,2,3,#,#,4,5}'"
      ]
     },
     "execution_count": 6,
     "metadata": {},
     "output_type": "execute_result"
    }
   ],
   "source": [
    "class TreeNode(object):\n",
    "    def __init__(self, x):\n",
    "        self.val = x\n",
    "        self.left = None\n",
    "        self.right = None\n",
    "\n",
    "def deserialize_index(data):\n",
    "    if data == '{}':\n",
    "        return None\n",
    "    vals = data[1:-1].split(',')\n",
    "    root = TreeNode(int(vals[0]))\n",
    "    q = [root]\n",
    "    index = 0\n",
    "    left = True \n",
    "    for val in vals[1:]:\n",
    "        if val != '#':\n",
    "            node = TreeNode(int(val))\n",
    "            if left:\n",
    "                q[index].left = node\n",
    "            else:\n",
    "                q[index].right = node\n",
    "            q.append(node)\n",
    "        if not left:\n",
    "            index += 1\n",
    "        left = not left\n",
    "    return root\n",
    "\n",
    "def serialize_index(root):\n",
    "    if not root:\n",
    "        return '{}'\n",
    "    q = [root]\n",
    "    result = []\n",
    "    index = 0\n",
    "    while index < len(q):\n",
    "        node = q[index]\n",
    "        if node:\n",
    "            result.append(str(node.val))\n",
    "            q.append(node.left)\n",
    "            q.append(node.right)\n",
    "        else:\n",
    "            result.append('#')\n",
    "        index += 1\n",
    "    while result and result[-1] == '#':\n",
    "        result.pop()\n",
    "    return '{' + ','.join(result) + '}'\n",
    "\n",
    "root = deserialize_index(l)\n",
    "serialize_index(root)\n"
   ]
  },
  {
   "cell_type": "code",
   "execution_count": 10,
   "id": "822f0484",
   "metadata": {},
   "outputs": [
    {
     "data": {
      "text/plain": [
       "'{1,2,3,#,#,4,5}'"
      ]
     },
     "execution_count": 10,
     "metadata": {},
     "output_type": "execute_result"
    }
   ],
   "source": [
    "from collections import deque\n",
    "def serialize(root):\n",
    "    q = deque([root])\n",
    "    result = []\n",
    "    while q:\n",
    "        node = q.popleft()\n",
    "        if node:\n",
    "            result.append(str(node.val))\n",
    "            q.append(node.left)\n",
    "            q.append(node.right)\n",
    "        else:\n",
    "            result.append('#')\n",
    "    while result and result[-1] == '#':\n",
    "        result.pop()\n",
    "    return '{' + ','.join(result) + '}'\n",
    "\n",
    "serialize(root)"
   ]
  }
 ],
 "metadata": {
  "kernelspec": {
   "display_name": "base",
   "language": "python",
   "name": "python3"
  },
  "language_info": {
   "codemirror_mode": {
    "name": "ipython",
    "version": 3
   },
   "file_extension": ".py",
   "mimetype": "text/x-python",
   "name": "python",
   "nbconvert_exporter": "python",
   "pygments_lexer": "ipython3",
   "version": "3.9.7"
  }
 },
 "nbformat": 4,
 "nbformat_minor": 5
}
