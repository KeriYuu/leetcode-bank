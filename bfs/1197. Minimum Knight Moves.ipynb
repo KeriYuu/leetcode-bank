{
 "cells": [
  {
   "cell_type": "code",
   "execution_count": 4,
   "id": "1670606a",
   "metadata": {},
   "outputs": [],
   "source": [
    "class Point:\n",
    "    def __init__(self, x=0, y=0):\n",
    "        self.x = x\n",
    "        self.y = y\n",
    "\n",
    "source = Point(2, 0)\n",
    "destination = Point(2, 2)\n",
    "grid = [[0,0,0],\n",
    " [0,0,0],\n",
    " [0,0,0]]\n",
    "# Output: 2\n"
   ]
  },
  {
   "cell_type": "code",
   "execution_count": 5,
   "id": "74c08739",
   "metadata": {},
   "outputs": [],
   "source": [
    "from collections import deque\n",
    "\n",
    "\n",
    "def extend_queue(grid, q, visited, opposite_visited):\n",
    "    for _ in range(len(q)):\n",
    "        x, y = q.popleft()\n",
    "        for dx, dy in [(1, 2), (1, -2), (-1, 2), (-1, -2), (2, 1), (2, -1), (-2, 1), (-2, -1)]:\n",
    "            nx, ny = x + dx, y + dy\n",
    "            if not valid(nx, ny, grid, visited):\n",
    "                continue\n",
    "            if (nx, ny) in opposite_visited:\n",
    "                return True\n",
    "            visited.add((nx, ny))\n",
    "            q.append((nx, ny))\n",
    "    return False\n",
    "\n",
    "def valid(x, y, grid, visited):\n",
    "    if x < 0 or x >= len(grid) or y < 0 or y >= len(grid[0]):\n",
    "        return False\n",
    "    if (x, y) in visited:\n",
    "        return False\n",
    "    if grid[x][y] == 1:\n",
    "        return False\n",
    "    return True\n",
    "\n",
    "def shortest_path(grid, source, destination):\n",
    "    if (source.x == destination.x and source.y == destination.y):\n",
    "        return 0\n",
    "\n",
    "    forward_q, forward_visited = deque([(source.x, source.y)]), set([(source.x, source.y)])\n",
    "    backward_q, backward_visited = deque([(destination.x, destination.y)]), set([(destination.x, destination.y)])\n",
    "\n",
    "    distance = 0\n",
    "\n",
    "    while forward_q and backward_q:\n",
    "        distance += 1\n",
    "        if extend_queue(grid, forward_q, forward_visited, backward_visited):\n",
    "            return distance\n",
    "        distance += 1\n",
    "        if extend_queue(grid, backward_q, backward_visited, forward_visited):\n",
    "            return distance\n",
    "    return -1\n",
    "        "
   ]
  },
  {
   "cell_type": "code",
   "execution_count": 6,
   "id": "57749192",
   "metadata": {},
   "outputs": [
    {
     "data": {
      "text/plain": [
       "2"
      ]
     },
     "execution_count": 6,
     "metadata": {},
     "output_type": "execute_result"
    }
   ],
   "source": [
    "shortest_path(grid, source, destination) # time O(sqrt(N)), space O(N)"
   ]
  }
 ],
 "metadata": {
  "kernelspec": {
   "display_name": "base",
   "language": "python",
   "name": "python3"
  },
  "language_info": {
   "codemirror_mode": {
    "name": "ipython",
    "version": 3
   },
   "file_extension": ".py",
   "mimetype": "text/x-python",
   "name": "python",
   "nbconvert_exporter": "python",
   "pygments_lexer": "ipython3",
   "version": "3.9.7"
  }
 },
 "nbformat": 4,
 "nbformat_minor": 5
}
