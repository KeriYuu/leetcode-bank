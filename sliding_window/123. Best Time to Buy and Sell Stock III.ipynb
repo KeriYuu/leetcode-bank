{
 "cells": [
  {
   "cell_type": "code",
   "execution_count": 1,
   "id": "5693365a",
   "metadata": {},
   "outputs": [],
   "source": [
    "prices = [3,3,5,0,0,3,1,4]\n",
    "# Output: 6"
   ]
  },
  {
   "cell_type": "code",
   "execution_count": 2,
   "id": "b11954a7",
   "metadata": {},
   "outputs": [
    {
     "data": {
      "text/plain": [
       "6"
      ]
     },
     "execution_count": 2,
     "metadata": {},
     "output_type": "execute_result"
    }
   ],
   "source": [
    "def maxProfit(prices):\n",
    "    n = len(prices)\n",
    "\n",
    "    left = [0] * n\n",
    "    left_min = prices[0]\n",
    "    for i in range(1, n):\n",
    "        left[i] = max(left[i-1], prices[i] - left_min)\n",
    "        left_min = min(left_min, prices[i])\n",
    "\n",
    "    right = [0] * n\n",
    "    right_max = prices[-1]\n",
    "    for i in range(n-2, -1, -1):\n",
    "        right[i] = max(right[i+1], right_max - prices[i])\n",
    "        right_max = max(right_max, prices[i])\n",
    "\n",
    "    max_profit = 0\n",
    "    for i in range(n):\n",
    "        max_profit = max(max_profit, left[i] + right[i])\n",
    "\n",
    "    return max_profit\n",
    "\n",
    "maxProfit(prices) # time O(n), space O(n)\n"
   ]
  }
 ],
 "metadata": {
  "kernelspec": {
   "display_name": "base",
   "language": "python",
   "name": "python3"
  },
  "language_info": {
   "codemirror_mode": {
    "name": "ipython",
    "version": 3
   },
   "file_extension": ".py",
   "mimetype": "text/x-python",
   "name": "python",
   "nbconvert_exporter": "python",
   "pygments_lexer": "ipython3",
   "version": "3.9.7"
  }
 },
 "nbformat": 4,
 "nbformat_minor": 5
}
