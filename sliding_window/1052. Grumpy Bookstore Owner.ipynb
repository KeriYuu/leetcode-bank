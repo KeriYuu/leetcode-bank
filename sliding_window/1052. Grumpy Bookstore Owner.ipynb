{
 "cells": [
  {
   "cell_type": "code",
   "execution_count": 5,
   "id": "e55244ee",
   "metadata": {},
   "outputs": [],
   "source": [
    "customers = [1,0,1,2,1,1,7,5]\n",
    "grumpy = [0,1,0,1,0,1,0,1]\n",
    "minutes = 3\n",
    "\n",
    "# Output: 16"
   ]
  },
  {
   "cell_type": "code",
   "execution_count": 6,
   "id": "56ab0cf6",
   "metadata": {},
   "outputs": [
    {
     "data": {
      "text/plain": [
       "16"
      ]
     },
     "execution_count": 6,
     "metadata": {},
     "output_type": "execute_result"
    }
   ],
   "source": [
    "def maxSatisfied(customers, grumpy, minutes):\n",
    "    n = len(customers)\n",
    "    satisfied = 0\n",
    "    for i in range(n):\n",
    "        if grumpy[i] == 0:\n",
    "            satisfied += customers[i]\n",
    "\n",
    "    left = 0\n",
    "    max_improvement = 0\n",
    "    improvement = 0\n",
    "    for right in range(n):\n",
    "        if grumpy[right] == 1:\n",
    "            improvement += customers[right]\n",
    "        if right - left + 1 > minutes:\n",
    "            if grumpy[left] == 1:\n",
    "                improvement -= customers[left]\n",
    "            left += 1\n",
    "        max_improvement = max(max_improvement, improvement)\n",
    "\n",
    "    return max_improvement + satisfied\n",
    "\n",
    "maxSatisfied(customers, grumpy, minutes) # time O(n), space O(1)"
   ]
  }
 ],
 "metadata": {
  "kernelspec": {
   "display_name": "base",
   "language": "python",
   "name": "python3"
  },
  "language_info": {
   "codemirror_mode": {
    "name": "ipython",
    "version": 3
   },
   "file_extension": ".py",
   "mimetype": "text/x-python",
   "name": "python",
   "nbconvert_exporter": "python",
   "pygments_lexer": "ipython3",
   "version": "3.9.7"
  }
 },
 "nbformat": 4,
 "nbformat_minor": 5
}
