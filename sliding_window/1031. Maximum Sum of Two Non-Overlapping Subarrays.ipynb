{
 "cells": [
  {
   "cell_type": "code",
   "execution_count": 3,
   "id": "5693365a",
   "metadata": {},
   "outputs": [],
   "source": [
    "nums = [0,6,5,2,2,5,1,9,4]\n",
    "firstLen = 1\n",
    "secondLen = 2\n",
    "# Output: 20"
   ]
  },
  {
   "cell_type": "code",
   "execution_count": 4,
   "id": "055bff71",
   "metadata": {},
   "outputs": [
    {
     "data": {
      "text/plain": [
       "20"
      ]
     },
     "execution_count": 4,
     "metadata": {},
     "output_type": "execute_result"
    }
   ],
   "source": [
    "def maxSumTwoNoOverlap(nums, firstLen, secondLen):\n",
    "    return max(solve(nums, firstLen, secondLen), solve(nums, secondLen, firstLen))\n",
    "\n",
    "def solve(nums, L, R):\n",
    "    n = len(nums)\n",
    "    Wl, Wr = window_sum(nums, L), window_sum(nums, R)\n",
    "\n",
    "    pref = Wl[:]\n",
    "    for i in range(1, len(pref)):\n",
    "        pref[i] = max(pref[i - 1], pref[i])\n",
    "\n",
    "    suff = Wr[:]\n",
    "    for i in range(len(suff) - 2, -1, -1):\n",
    "        suff[i] = max(suff[i + 1], suff[i])\n",
    "\n",
    "    max_sum = 0\n",
    "    for i in range(n - L - R + 1):\n",
    "        max_sum = max(max_sum, pref[i] + suff[i + L])\n",
    "\n",
    "    return max_sum\n",
    "\n",
    "def window_sum(nums, m):\n",
    "    n = len(nums)\n",
    "    W = [0] * (n - m + 1)\n",
    "    s = sum(nums[:m])\n",
    "    W[0] = s\n",
    "    for i in range(m, n):\n",
    "        s += nums[i] - nums[i-m]\n",
    "        W[i - m + 1] = s\n",
    "    return W\n",
    "\n",
    "maxSumTwoNoOverlap(nums, firstLen, secondLen) # time O(n), space O(n)\n",
    "    \n",
    "    "
   ]
  }
 ],
 "metadata": {
  "kernelspec": {
   "display_name": "base",
   "language": "python",
   "name": "python3"
  },
  "language_info": {
   "codemirror_mode": {
    "name": "ipython",
    "version": 3
   },
   "file_extension": ".py",
   "mimetype": "text/x-python",
   "name": "python",
   "nbconvert_exporter": "python",
   "pygments_lexer": "ipython3",
   "version": "3.9.7"
  }
 },
 "nbformat": 4,
 "nbformat_minor": 5
}
