{
 "cells": [
  {
   "cell_type": "code",
   "execution_count": 1,
   "id": "7afd23cc",
   "metadata": {},
   "outputs": [],
   "source": [
    "s = \"abcabcabca\"\n",
    "k = 4\n",
    "# Output: 0"
   ]
  },
  {
   "cell_type": "code",
   "execution_count": 2,
   "id": "014ea186",
   "metadata": {},
   "outputs": [
    {
     "data": {
      "text/plain": [
       "0"
      ]
     },
     "execution_count": 2,
     "metadata": {},
     "output_type": "execute_result"
    }
   ],
   "source": [
    "def k_distinct_characters(s, k):\n",
    "    n = len(s)\n",
    "    ans = 0\n",
    "    j = 0\n",
    "    counter = {}\n",
    "    different_count = 0\n",
    "    for i in range(n):\n",
    "        while j < n and different_count < k:\n",
    "            counter[s[j]] = counter.get(s[j], 0) + 1\n",
    "            if counter[s[j]] == 1:\n",
    "                different_count += 1\n",
    "            j += 1\n",
    "\n",
    "        if different_count == k:\n",
    "            ans += n - j + 1\n",
    "        counter[s[i]] -= 1\n",
    "        if counter[s[i]] == 0:\n",
    "            different_count -= 1\n",
    "    return ans\n",
    "\n",
    "k_distinct_characters(s, k) # time O(n), space O(k)\n"
   ]
  }
 ],
 "metadata": {
  "kernelspec": {
   "display_name": "base",
   "language": "python",
   "name": "python3"
  },
  "language_info": {
   "codemirror_mode": {
    "name": "ipython",
    "version": 3
   },
   "file_extension": ".py",
   "mimetype": "text/x-python",
   "name": "python",
   "nbconvert_exporter": "python",
   "pygments_lexer": "ipython3",
   "version": "3.9.7"
  }
 },
 "nbformat": 4,
 "nbformat_minor": 5
}
