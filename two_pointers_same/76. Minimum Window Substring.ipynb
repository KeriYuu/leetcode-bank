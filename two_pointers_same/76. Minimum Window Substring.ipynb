{
 "cells": [
  {
   "cell_type": "code",
   "execution_count": 1,
   "id": "7259727c",
   "metadata": {},
   "outputs": [],
   "source": [
    "s = \"ADOBECODEBANC\"\n",
    "t = \"ABC\"\n",
    "# Output: \"BANC\""
   ]
  },
  {
   "cell_type": "code",
   "execution_count": 2,
   "id": "bfeeda3e",
   "metadata": {},
   "outputs": [
    {
     "data": {
      "text/plain": [
       "'BANC'"
      ]
     },
     "execution_count": 2,
     "metadata": {},
     "output_type": "execute_result"
    }
   ],
   "source": [
    "def minWindow(s, t):\n",
    "    n, m = len(s), len(t)\n",
    "    if n == 0 or m == 0:\n",
    "        return \"\"\n",
    "    \n",
    "    target_dic = {}\n",
    "    for char in t:\n",
    "        target_dic[char] = target_dic.get(char, 0) + 1\n",
    "\n",
    "    working_dic = {}\n",
    "    j = 0\n",
    "    min_len = float('inf')\n",
    "    matched = 0\n",
    "    target_count = len(target_dic)\n",
    "    start = -1\n",
    "\n",
    "    for i in range(n):\n",
    "        while j < n and matched < target_count:\n",
    "            working_dic[s[j]] = working_dic.get(s[j], 0) + 1\n",
    "            if working_dic[s[j]] == target_dic.get(s[j], 0):\n",
    "                matched += 1\n",
    "            j += 1\n",
    "        \n",
    "        if matched == target_count:\n",
    "            if j - i < min_len:\n",
    "                min_len = j - i\n",
    "                start = i\n",
    "        \n",
    "        working_dic[s[i]] -= 1\n",
    "        if working_dic[s[i]] < target_dic.get(s[i], 0):\n",
    "            matched -= 1\n",
    "    \n",
    "    return s[start:start + min_len] if start != -1 else \"\"\n",
    "\n",
    "minWindow(s, t) # time O(n + m), space O(|s| + |t|)\n",
    "    \n"
   ]
  }
 ],
 "metadata": {
  "kernelspec": {
   "display_name": "base",
   "language": "python",
   "name": "python3"
  },
  "language_info": {
   "codemirror_mode": {
    "name": "ipython",
    "version": 3
   },
   "file_extension": ".py",
   "mimetype": "text/x-python",
   "name": "python",
   "nbconvert_exporter": "python",
   "pygments_lexer": "ipython3",
   "version": "3.9.7"
  }
 },
 "nbformat": 4,
 "nbformat_minor": 5
}
