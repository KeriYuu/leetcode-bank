{
 "cells": [
  {
   "cell_type": "code",
   "execution_count": 6,
   "id": "416344d0",
   "metadata": {},
   "outputs": [],
   "source": [
    "l = [3,2,0,-4]\n",
    "pos = 1\n",
    "# Output: tail connects to node index 1"
   ]
  },
  {
   "cell_type": "code",
   "execution_count": 7,
   "id": "98890f48",
   "metadata": {},
   "outputs": [],
   "source": [
    "class ListNode:\n",
    "    def __init__(self, val=0, next=None):\n",
    "        self.val = val\n",
    "        self.next = next\n",
    "\n",
    "def build_cycle_list(l, pos):\n",
    "    if not l:\n",
    "        return None\n",
    "    nodes = [ListNode(val) for val in l]\n",
    "    for i in range(len(l) - 1):\n",
    "        nodes[i].next = nodes[i + 1]\n",
    "    if pos >= 0:\n",
    "        nodes[-1].next = nodes[pos]\n",
    "    return nodes[0]\n",
    "\n",
    "head = build_cycle_list(l, pos)\n"
   ]
  },
  {
   "cell_type": "code",
   "execution_count": 8,
   "id": "237512f5",
   "metadata": {},
   "outputs": [
    {
     "name": "stdout",
     "output_type": "stream",
     "text": [
      "tail connects to node index 1\n"
     ]
    },
    {
     "data": {
      "text/plain": [
       "2"
      ]
     },
     "execution_count": 8,
     "metadata": {},
     "output_type": "execute_result"
    }
   ],
   "source": [
    "def detectCycle(head):\n",
    "    if not head:\n",
    "        return None\n",
    "    slow = head\n",
    "    fast = head\n",
    "    while fast and fast.next:\n",
    "        slow = slow.next\n",
    "        fast = fast.next.next\n",
    "        if slow == fast:\n",
    "            break\n",
    "    else:\n",
    "        return None\n",
    "    p1, p2 = head, slow\n",
    "    count = 0\n",
    "    while p1 != p2:\n",
    "        p1 = p1.next\n",
    "        p2 = p2.next\n",
    "        count += 1\n",
    "    print('tail connects to node index', count)\n",
    "    return p1\n",
    "\n",
    "detectCycle(head).val"
   ]
  }
 ],
 "metadata": {
  "kernelspec": {
   "display_name": "base",
   "language": "python",
   "name": "python3"
  },
  "language_info": {
   "codemirror_mode": {
    "name": "ipython",
    "version": 3
   },
   "file_extension": ".py",
   "mimetype": "text/x-python",
   "name": "python",
   "nbconvert_exporter": "python",
   "pygments_lexer": "ipython3",
   "version": "3.9.7"
  }
 },
 "nbformat": 4,
 "nbformat_minor": 5
}
