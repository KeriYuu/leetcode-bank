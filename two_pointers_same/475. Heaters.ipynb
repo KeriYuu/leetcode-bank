{
 "cells": [
  {
   "cell_type": "code",
   "execution_count": 3,
   "id": "5693365a",
   "metadata": {},
   "outputs": [],
   "source": [
    "houses = [1,2,3]\n",
    "heaters = [2]\n",
    "# Output: 1"
   ]
  },
  {
   "cell_type": "code",
   "execution_count": 4,
   "id": "b7fa8471",
   "metadata": {},
   "outputs": [
    {
     "data": {
      "text/plain": [
       "1"
      ]
     },
     "execution_count": 4,
     "metadata": {},
     "output_type": "execute_result"
    }
   ],
   "source": [
    "def findRadius(houses, heaters):\n",
    "    heaters.sort()\n",
    "    houses.sort()\n",
    "    i, j = 0, 0\n",
    "    m, n = len(houses), len(heaters)\n",
    "    radius = 0\n",
    "    for i in range(m):\n",
    "        # abs(heaters[j] - houses[i]) <= abs(heaters[j + 1] - houses[i])\n",
    "        while j < n - 1 and heaters[j] + heaters[j + 1] <= 2 * houses[i]:\n",
    "            j += 1\n",
    "        radius = max(radius, abs(heaters[j] - houses[i]))\n",
    "    return radius\n",
    "\n",
    "findRadius(houses, heaters) # time O(nlogn + mlogm + n + m), if sorted -> O(n + m), space O(1)"
   ]
  }
 ],
 "metadata": {
  "kernelspec": {
   "display_name": "base",
   "language": "python",
   "name": "python3"
  },
  "language_info": {
   "codemirror_mode": {
    "name": "ipython",
    "version": 3
   },
   "file_extension": ".py",
   "mimetype": "text/x-python",
   "name": "python",
   "nbconvert_exporter": "python",
   "pygments_lexer": "ipython3",
   "version": "3.9.7"
  }
 },
 "nbformat": 4,
 "nbformat_minor": 5
}
