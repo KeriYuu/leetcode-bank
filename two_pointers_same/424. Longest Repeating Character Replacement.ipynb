{
 "cells": [
  {
   "cell_type": "code",
   "execution_count": 3,
   "id": "7259727c",
   "metadata": {},
   "outputs": [],
   "source": [
    "s = \"ABAB\"\n",
    "k = 2\n",
    "# Output: 4"
   ]
  },
  {
   "cell_type": "code",
   "execution_count": 4,
   "id": "77be4491",
   "metadata": {},
   "outputs": [],
   "source": [
    "def characterReplacement(s, k):\n",
    "    n = len(s)\n",
    "    j = 0\n",
    "    count = {}\n",
    "    max_length = 0\n",
    "    ans = 0\n",
    "    for i in range(n):\n",
    "        while j < n and (j - i - max_length) <= k:\n",
    "            count[s[j]] = count.get(s[j], 0) + 1\n",
    "            max_length = max(max_length, count[s[j]])\n",
    "            j += 1\n",
    "        if j - i - max_length > k:\n",
    "            ans = max(ans, j - i - 1)\n",
    "        else:\n",
    "            ans = max(ans, j - i)\n",
    "        count[s[i]] -= 1\n",
    "        max_length = max(count.values())\n",
    "    return ans"
   ]
  },
  {
   "cell_type": "code",
   "execution_count": 5,
   "id": "afae9129",
   "metadata": {},
   "outputs": [
    {
     "data": {
      "text/plain": [
       "4"
      ]
     },
     "execution_count": 5,
     "metadata": {},
     "output_type": "execute_result"
    }
   ],
   "source": [
    "characterReplacement(s, k) # time O(n), space O(1)"
   ]
  }
 ],
 "metadata": {
  "kernelspec": {
   "display_name": "base",
   "language": "python",
   "name": "python3"
  },
  "language_info": {
   "codemirror_mode": {
    "name": "ipython",
    "version": 3
   },
   "file_extension": ".py",
   "mimetype": "text/x-python",
   "name": "python",
   "nbconvert_exporter": "python",
   "pygments_lexer": "ipython3",
   "version": "3.9.7"
  }
 },
 "nbformat": 4,
 "nbformat_minor": 5
}
