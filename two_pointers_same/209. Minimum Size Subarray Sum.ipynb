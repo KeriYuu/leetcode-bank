{
 "cells": [
  {
   "cell_type": "code",
   "execution_count": 1,
   "id": "7259727c",
   "metadata": {},
   "outputs": [],
   "source": [
    "target = 7\n",
    "nums = [2,3,1,2,4,3]\n",
    "# Output: 2"
   ]
  },
  {
   "cell_type": "code",
   "execution_count": 2,
   "id": "0caf97bd",
   "metadata": {},
   "outputs": [
    {
     "data": {
      "text/plain": [
       "2"
      ]
     },
     "execution_count": 2,
     "metadata": {},
     "output_type": "execute_result"
    }
   ],
   "source": [
    "def minSubArrayLen(nums, target):\n",
    "    n = len(nums)\n",
    "    ans = float('inf')\n",
    "    j = 0\n",
    "    current_sum = 0\n",
    "    for i in range(n):\n",
    "        while j < n and current_sum < target:\n",
    "            current_sum += nums[j]\n",
    "            j += 1\n",
    "        if current_sum >= target:\n",
    "            ans = min(ans, j - i)\n",
    "        current_sum -= nums[i]\n",
    "    return ans if ans != float('inf') else 0\n",
    "\n",
    "minSubArrayLen(nums, target) # time O(n), space O(1)"
   ]
  }
 ],
 "metadata": {
  "kernelspec": {
   "display_name": "base",
   "language": "python",
   "name": "python3"
  },
  "language_info": {
   "codemirror_mode": {
    "name": "ipython",
    "version": 3
   },
   "file_extension": ".py",
   "mimetype": "text/x-python",
   "name": "python",
   "nbconvert_exporter": "python",
   "pygments_lexer": "ipython3",
   "version": "3.9.7"
  }
 },
 "nbformat": 4,
 "nbformat_minor": 5
}
