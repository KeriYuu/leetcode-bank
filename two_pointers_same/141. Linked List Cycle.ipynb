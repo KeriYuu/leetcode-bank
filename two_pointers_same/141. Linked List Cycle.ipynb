{
 "cells": [
  {
   "cell_type": "code",
   "execution_count": 2,
   "id": "416344d0",
   "metadata": {},
   "outputs": [],
   "source": [
    "l = [3,2,0,-4]\n",
    "pos = 1\n",
    "# Output: true"
   ]
  },
  {
   "cell_type": "code",
   "execution_count": 3,
   "id": "98890f48",
   "metadata": {},
   "outputs": [],
   "source": [
    "class ListNode:\n",
    "    def __init__(self, val=0, next=None):\n",
    "        self.val = val\n",
    "        self.next = next\n",
    "\n",
    "def build_cycle_list(l, pos):\n",
    "    if not l:\n",
    "        return None\n",
    "    nodes = [ListNode(val) for val in l]\n",
    "    for i in range(len(l) - 1):\n",
    "        nodes[i].next = nodes[i + 1]\n",
    "    if pos >= 0:\n",
    "        nodes[-1].next = nodes[pos]\n",
    "    return nodes[0]\n",
    "\n",
    "head = build_cycle_list(l, pos)\n"
   ]
  },
  {
   "cell_type": "code",
   "execution_count": 4,
   "id": "237512f5",
   "metadata": {},
   "outputs": [
    {
     "data": {
      "text/plain": [
       "True"
      ]
     },
     "execution_count": 4,
     "metadata": {},
     "output_type": "execute_result"
    }
   ],
   "source": [
    "def hasCycle(head):\n",
    "    if not head:\n",
    "        return False\n",
    "    slow = head\n",
    "    fast = head\n",
    "    while fast and fast.next:\n",
    "        slow = slow.next\n",
    "        fast = fast.next.next\n",
    "        if slow == fast:\n",
    "            return True\n",
    "    return False\n",
    "\n",
    "hasCycle(head)"
   ]
  }
 ],
 "metadata": {
  "kernelspec": {
   "display_name": "base",
   "language": "python",
   "name": "python3"
  },
  "language_info": {
   "codemirror_mode": {
    "name": "ipython",
    "version": 3
   },
   "file_extension": ".py",
   "mimetype": "text/x-python",
   "name": "python",
   "nbconvert_exporter": "python",
   "pygments_lexer": "ipython3",
   "version": "3.9.7"
  }
 },
 "nbformat": 4,
 "nbformat_minor": 5
}
