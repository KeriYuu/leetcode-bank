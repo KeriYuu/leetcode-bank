{
 "cells": [
  {
   "cell_type": "code",
   "execution_count": 5,
   "id": "7259727c",
   "metadata": {},
   "outputs": [],
   "source": [
    "s = \"0110111\"\n",
    "# Output: 9"
   ]
  },
  {
   "cell_type": "code",
   "execution_count": 6,
   "id": "a5d2ce89",
   "metadata": {},
   "outputs": [
    {
     "data": {
      "text/plain": [
       "9"
      ]
     },
     "execution_count": 6,
     "metadata": {},
     "output_type": "execute_result"
    }
   ],
   "source": [
    "def numSub(s):\n",
    "    n = len(s)\n",
    "    ans = 0\n",
    "    i, j = 0, 0\n",
    "    for i in range(n):\n",
    "        if s[i] != '1':\n",
    "            continue\n",
    "        j = max(j, i + 1)\n",
    "        while j < n and s[j] == '1':\n",
    "            j += 1\n",
    "        ans += (j - i)\n",
    "    return ans\n",
    "\n",
    "numSub(s) #time O(n), space O(1)"
   ]
  }
 ],
 "metadata": {
  "kernelspec": {
   "display_name": "base",
   "language": "python",
   "name": "python3"
  },
  "language_info": {
   "codemirror_mode": {
    "name": "ipython",
    "version": 3
   },
   "file_extension": ".py",
   "mimetype": "text/x-python",
   "name": "python",
   "nbconvert_exporter": "python",
   "pygments_lexer": "ipython3",
   "version": "3.9.7"
  }
 },
 "nbformat": 4,
 "nbformat_minor": 5
}
