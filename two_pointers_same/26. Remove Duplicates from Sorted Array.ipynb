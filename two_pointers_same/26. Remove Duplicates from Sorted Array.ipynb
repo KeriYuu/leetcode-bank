{
 "cells": [
  {
   "cell_type": "code",
   "execution_count": 5,
   "id": "7259727c",
   "metadata": {},
   "outputs": [],
   "source": [
    "nums = [1,1,2]\n",
    "# Output: 2, nums = [1,2,_]"
   ]
  },
  {
   "cell_type": "code",
   "execution_count": 6,
   "id": "77be4491",
   "metadata": {},
   "outputs": [
    {
     "name": "stdout",
     "output_type": "stream",
     "text": [
      "[1, 2, '_']\n"
     ]
    },
    {
     "data": {
      "text/plain": [
       "2"
      ]
     },
     "execution_count": 6,
     "metadata": {},
     "output_type": "execute_result"
    }
   ],
   "source": [
    "def removeDuplicates(nums):\n",
    "    n = len(nums)\n",
    "    j = 1\n",
    "    for i in range(n):\n",
    "        while j < n and nums[j] == nums[i]:\n",
    "            j += 1\n",
    "        if j >= n:\n",
    "            break\n",
    "        nums[i + 1] = nums[j]\n",
    "    for k in range(i + 1, n):\n",
    "        nums[k] = '_'\n",
    "    print(nums)\n",
    "    return i + 1\n",
    "\n",
    "removeDuplicates(nums) #time O(n), space O(1)\n"
   ]
  }
 ],
 "metadata": {
  "kernelspec": {
   "display_name": "base",
   "language": "python",
   "name": "python3"
  },
  "language_info": {
   "codemirror_mode": {
    "name": "ipython",
    "version": 3
   },
   "file_extension": ".py",
   "mimetype": "text/x-python",
   "name": "python",
   "nbconvert_exporter": "python",
   "pygments_lexer": "ipython3",
   "version": "3.9.7"
  }
 },
 "nbformat": 4,
 "nbformat_minor": 5
}
