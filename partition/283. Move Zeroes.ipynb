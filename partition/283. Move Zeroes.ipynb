{
 "cells": [
  {
   "cell_type": "code",
   "execution_count": 6,
   "id": "7259727c",
   "metadata": {},
   "outputs": [],
   "source": [
    "nums = [0,1,0,3,12]\n",
    "# Output: [1,3,12,0,0]"
   ]
  },
  {
   "cell_type": "code",
   "execution_count": 7,
   "id": "782872b0",
   "metadata": {},
   "outputs": [],
   "source": [
    "def moveZeroes1(nums):\n",
    "    left, right = 0, 0\n",
    "    operations = 0\n",
    "    while right < len(nums):\n",
    "        if nums[right] != 0:\n",
    "            nums[left], nums[right] = nums[right], nums[left]\n",
    "            left += 1\n",
    "            operations += 2\n",
    "        right += 1\n",
    "    print(f\"operations: {operations}\")\n",
    "    return nums"
   ]
  },
  {
   "cell_type": "code",
   "execution_count": 8,
   "id": "1852abf1",
   "metadata": {},
   "outputs": [],
   "source": [
    "def moveZeroes2(nums):\n",
    "    operations = 0\n",
    "    left, right = 0, 0\n",
    "    while right < len(nums):\n",
    "        if nums[right] != 0:\n",
    "            nums[left] = nums[right]\n",
    "            left += 1\n",
    "            operations += 1\n",
    "        right += 1\n",
    "    while left < len(nums):\n",
    "        nums[left] = 0\n",
    "        left += 1\n",
    "        operations += 1\n",
    "    print(f\"operations: {operations}\")\n",
    "    return nums"
   ]
  },
  {
   "cell_type": "code",
   "execution_count": 9,
   "id": "37e36c56",
   "metadata": {},
   "outputs": [
    {
     "name": "stdout",
     "output_type": "stream",
     "text": [
      "operations: 6\n"
     ]
    },
    {
     "data": {
      "text/plain": [
       "[1, 3, 12, 0, 0]"
      ]
     },
     "execution_count": 9,
     "metadata": {},
     "output_type": "execute_result"
    }
   ],
   "source": [
    "moveZeroes1(nums)"
   ]
  },
  {
   "cell_type": "code",
   "execution_count": 10,
   "id": "9571b08c",
   "metadata": {},
   "outputs": [
    {
     "name": "stdout",
     "output_type": "stream",
     "text": [
      "operations: 5\n"
     ]
    },
    {
     "data": {
      "text/plain": [
       "[1, 3, 12, 0, 0]"
      ]
     },
     "execution_count": 10,
     "metadata": {},
     "output_type": "execute_result"
    }
   ],
   "source": [
    "moveZeroes2(nums)"
   ]
  },
  {
   "cell_type": "markdown",
   "id": "b14c2cbb",
   "metadata": {},
   "source": [
    "time O(n), space O(1)"
   ]
  }
 ],
 "metadata": {
  "kernelspec": {
   "display_name": "base",
   "language": "python",
   "name": "python3"
  },
  "language_info": {
   "codemirror_mode": {
    "name": "ipython",
    "version": 3
   },
   "file_extension": ".py",
   "mimetype": "text/x-python",
   "name": "python",
   "nbconvert_exporter": "python",
   "pygments_lexer": "ipython3",
   "version": "3.9.7"
  }
 },
 "nbformat": 4,
 "nbformat_minor": 5
}
