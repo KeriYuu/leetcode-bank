{
 "cells": [
  {
   "cell_type": "code",
   "execution_count": 1,
   "id": "7259727c",
   "metadata": {},
   "outputs": [],
   "source": [
    "nums = [2,0,2,1,1,0]\n",
    "# Output: [0,0,1,1,2,2]"
   ]
  },
  {
   "cell_type": "code",
   "execution_count": 2,
   "id": "f501d36a",
   "metadata": {},
   "outputs": [],
   "source": [
    "def sortColors(nums):\n",
    "    low, mid, high = 0, 0, len(nums) - 1\n",
    "    while mid <= high:\n",
    "        if nums[mid] == 0:\n",
    "            nums[low], nums[mid] = nums[mid], nums[low]\n",
    "            low += 1\n",
    "            mid += 1\n",
    "        elif nums[mid] == 2:\n",
    "            nums[mid], nums[high] = nums[high], nums[mid]\n",
    "            high -= 1\n",
    "            # don't move mid pointer since we don't know what nums[high] is\n",
    "        else:\n",
    "            mid += 1\n",
    "    return nums     \n"
   ]
  },
  {
   "cell_type": "code",
   "execution_count": null,
   "id": "7355187a",
   "metadata": {},
   "outputs": [],
   "source": [
    "def sortRainbow_divide_conquer(nums):\n",
    "    def sort(nums, start, end, left_color, right_color):\n",
    "        if start >= end or left_color >= right_color:\n",
    "            return \n",
    "        mid_color = (left_color + right_color) // 2 + 1\n",
    "        left, right = start, end\n",
    "        while left <= right:\n",
    "            while left <= right and nums[left] < mid_color:\n",
    "                left += 1\n",
    "            while left <= right and nums[right] >= mid_color: # mid should be included in the right partition when mid is ceil\n",
    "                right -= 1    \n",
    "            if left <= right:\n",
    "                nums[left], nums[right] = nums[right], nums[left]\n",
    "                left += 1\n",
    "                right -= 1\n",
    "        sort(nums, start, right, left_color, mid_color - 1)  \n",
    "        sort(nums, left, end, mid_color, right_color)\n",
    "    sort(nums, 0, len(nums) - 1, 0, 2)\n",
    "    return nums\n"
   ]
  },
  {
   "cell_type": "code",
   "execution_count": 23,
   "id": "298d9e93",
   "metadata": {},
   "outputs": [],
   "source": [
    "def sortRainbow(nums, k):\n",
    "    left, right = 0, len(nums) - 1\n",
    "    for idx in range(k // 2):\n",
    "        i = left\n",
    "        left_color = idx\n",
    "        right_color = k - 1 - idx\n",
    "        while i <= right:\n",
    "            if nums[i] == left_color:\n",
    "                nums[i], nums[left] = nums[left], nums[i]\n",
    "                left += 1\n",
    "                i += 1\n",
    "            elif nums[i] == right_color:\n",
    "                nums[i], nums[right] = nums[right], nums[i]\n",
    "                right -= 1\n",
    "            else:\n",
    "                i += 1\n",
    "\n",
    "    return nums\n",
    "                "
   ]
  },
  {
   "cell_type": "code",
   "execution_count": 24,
   "id": "b8412a6f",
   "metadata": {},
   "outputs": [
    {
     "data": {
      "text/plain": [
       "[0, 0, 1, 1, 2, 2]"
      ]
     },
     "execution_count": 24,
     "metadata": {},
     "output_type": "execute_result"
    }
   ],
   "source": [
    "sortRainbow_divide_conquer(nums) #O(k) space"
   ]
  },
  {
   "cell_type": "code",
   "execution_count": null,
   "id": "3ca6b673",
   "metadata": {},
   "outputs": [
    {
     "data": {
      "text/plain": [
       "[0, 0, 1, 1, 2, 2]"
      ]
     },
     "execution_count": 3,
     "metadata": {},
     "output_type": "execute_result"
    }
   ],
   "source": [
    "sortColors(nums) # time O(n), space O(1)"
   ]
  }
 ],
 "metadata": {
  "kernelspec": {
   "display_name": "base",
   "language": "python",
   "name": "python3"
  },
  "language_info": {
   "codemirror_mode": {
    "name": "ipython",
    "version": 3
   },
   "file_extension": ".py",
   "mimetype": "text/x-python",
   "name": "python",
   "nbconvert_exporter": "python",
   "pygments_lexer": "ipython3",
   "version": "3.9.7"
  }
 },
 "nbformat": 4,
 "nbformat_minor": 5
}
