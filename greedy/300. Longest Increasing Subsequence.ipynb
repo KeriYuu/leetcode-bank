{
 "cells": [
  {
   "cell_type": "code",
   "execution_count": 3,
   "id": "94fa79be",
   "metadata": {},
   "outputs": [],
   "source": [
    "nums = [10,9,2,5,3,7,101,18]\n",
    "# Output: 4"
   ]
  },
  {
   "cell_type": "code",
   "execution_count": null,
   "id": "36fccc17",
   "metadata": {},
   "outputs": [
    {
     "data": {
      "text/plain": [
       "4"
      ]
     },
     "execution_count": 4,
     "metadata": {},
     "output_type": "execute_result"
    }
   ],
   "source": [
    "def lengthOfLIS(nums):\n",
    "    # lis[L] represents the minimum possible ending value of an increasing subsequence of length L\n",
    "    lis = [float('inf')] * (len(nums) + 1)\n",
    "    lis[0] = float('-inf')\n",
    "    longest = 0\n",
    "    for num in nums:\n",
    "        # find the first position i that satisfies lis[index] >= num\n",
    "        # num can replace lis[index] to make the subsequence ending smaller\n",
    "        index = first_greater(lis, num)\n",
    "        lis[index] = num\n",
    "        longest = max(longest, index)\n",
    "    return longest\n",
    "\n",
    "def first_greater(lis, num):\n",
    "    left, right = 0, len(lis) - 1\n",
    "    while left + 1 < right:\n",
    "        mid = (left + right) // 2\n",
    "        if lis[mid] < num:\n",
    "            left = mid\n",
    "        else:\n",
    "            right = mid\n",
    "    if lis[left] >= num:\n",
    "        return left\n",
    "    return right\n",
    "\n",
    "lengthOfLIS(nums) # time: O(n * log(n)), space: O(n)\n"
   ]
  }
 ],
 "metadata": {
  "kernelspec": {
   "display_name": "base",
   "language": "python",
   "name": "python3"
  },
  "language_info": {
   "codemirror_mode": {
    "name": "ipython",
    "version": 3
   },
   "file_extension": ".py",
   "mimetype": "text/x-python",
   "name": "python",
   "nbconvert_exporter": "python",
   "pygments_lexer": "ipython3",
   "version": "3.9.7"
  }
 },
 "nbformat": 4,
 "nbformat_minor": 5
}
