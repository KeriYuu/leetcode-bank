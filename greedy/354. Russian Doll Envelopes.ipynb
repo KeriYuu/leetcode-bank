{
 "cells": [
  {
   "cell_type": "code",
   "execution_count": 3,
   "id": "94fa79be",
   "metadata": {},
   "outputs": [],
   "source": [
    "envelopes = [[5,4],[6,4],[6,7],[2,3]]\n",
    "# Output: 3"
   ]
  },
  {
   "cell_type": "code",
   "execution_count": 4,
   "id": "54a0b877",
   "metadata": {},
   "outputs": [
    {
     "data": {
      "text/plain": [
       "3"
      ]
     },
     "execution_count": 4,
     "metadata": {},
     "output_type": "execute_result"
    }
   ],
   "source": [
    "def first_greater(lis, height):\n",
    "    left, right = 0, len(lis) - 1\n",
    "    while left + 1 < right:\n",
    "        mid = (left + right) // 2\n",
    "        if lis[mid] < height:\n",
    "            left = mid\n",
    "        else:\n",
    "            right = mid\n",
    "    if lis[left] >= height:\n",
    "        return left\n",
    "    return right\n",
    "\n",
    "def maxEnvelopes(envelopes):\n",
    "    # height in descending order to prevent same width envelopes\n",
    "    envelopes.sort(key=lambda x: (x[0], -x[1]))\n",
    "    lis = [float('inf')] * (len(envelopes) + 1)\n",
    "    lis[0] = float('-inf')\n",
    "    longest = 0\n",
    "    for _, height in envelopes:\n",
    "        index = first_greater(lis, height)\n",
    "        lis[index] = height\n",
    "        longest = max(longest, index)\n",
    "    return longest\n",
    "\n",
    "maxEnvelopes(envelopes) # time: O(n * log(n)), space: O(n)\n"
   ]
  }
 ],
 "metadata": {
  "kernelspec": {
   "display_name": "base",
   "language": "python",
   "name": "python3"
  },
  "language_info": {
   "codemirror_mode": {
    "name": "ipython",
    "version": 3
   },
   "file_extension": ".py",
   "mimetype": "text/x-python",
   "name": "python",
   "nbconvert_exporter": "python",
   "pygments_lexer": "ipython3",
   "version": "3.9.7"
  }
 },
 "nbformat": 4,
 "nbformat_minor": 5
}
