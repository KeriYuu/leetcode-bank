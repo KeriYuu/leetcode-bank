{
 "cells": [
  {
   "cell_type": "code",
   "execution_count": 4,
   "id": "94fa79be",
   "metadata": {},
   "outputs": [],
   "source": [
    "nums = [1,1,1,2,2,3]\n",
    "k = 2\n",
    "\n",
    "# Output: [1,2]"
   ]
  },
  {
   "cell_type": "code",
   "execution_count": 5,
   "id": "7333118a",
   "metadata": {},
   "outputs": [],
   "source": [
    "import heapq\n",
    "def topKFrequent(nums, k):\n",
    "    count = {}\n",
    "    for num in nums:\n",
    "        count[num] = count.get(num, 0) + 1\n",
    "    heap = []\n",
    "    for num, freq in count.items():\n",
    "        heapq.heappush(heap, (freq, num))\n",
    "        if len(heap) > k:\n",
    "            heapq.heappop(heap)\n",
    "    return [num for _, num in heap]\n",
    "    #     heapq.heappush(heap, (-freq, num))\n",
    "    # return [heapq.heappop(heap)[1] for _ in range(k)]"
   ]
  },
  {
   "cell_type": "code",
   "execution_count": 6,
   "id": "b36a9209",
   "metadata": {},
   "outputs": [
    {
     "data": {
      "text/plain": [
       "[2, 1]"
      ]
     },
     "execution_count": 6,
     "metadata": {},
     "output_type": "execute_result"
    }
   ],
   "source": [
    "topKFrequent(nums, k) # time O(nlogn) space O(n)"
   ]
  }
 ],
 "metadata": {
  "kernelspec": {
   "display_name": "base",
   "language": "python",
   "name": "python3"
  },
  "language_info": {
   "codemirror_mode": {
    "name": "ipython",
    "version": 3
   },
   "file_extension": ".py",
   "mimetype": "text/x-python",
   "name": "python",
   "nbconvert_exporter": "python",
   "pygments_lexer": "ipython3",
   "version": "3.9.7"
  }
 },
 "nbformat": 4,
 "nbformat_minor": 5
}
