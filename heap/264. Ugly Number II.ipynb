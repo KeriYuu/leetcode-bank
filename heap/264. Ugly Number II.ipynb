{
 "cells": [
  {
   "cell_type": "code",
   "execution_count": 1,
   "id": "94fa79be",
   "metadata": {},
   "outputs": [],
   "source": [
    "n = 10\n",
    "# Output: 12"
   ]
  },
  {
   "cell_type": "code",
   "execution_count": 2,
   "id": "7333118a",
   "metadata": {},
   "outputs": [
    {
     "data": {
      "text/plain": [
       "12"
      ]
     },
     "execution_count": 2,
     "metadata": {},
     "output_type": "execute_result"
    }
   ],
   "source": [
    "import heapq\n",
    "def nthUglyNumber_heap(n):\n",
    "    heap = [1]\n",
    "    seen = set(heap)\n",
    "    for _ in range(n):\n",
    "        ugly = heapq.heappop(heap)\n",
    "        for factor in [2, 3, 5]:\n",
    "            new_ugly = ugly * factor\n",
    "            if new_ugly not in seen:\n",
    "                heapq.heappush(heap, new_ugly)\n",
    "                seen.add(new_ugly)\n",
    "    return ugly\n",
    "nthUglyNumber_heap(n) # time O(nlogn) space O(n)"
   ]
  }
 ],
 "metadata": {
  "kernelspec": {
   "display_name": "base",
   "language": "python",
   "name": "python3"
  },
  "language_info": {
   "codemirror_mode": {
    "name": "ipython",
    "version": 3
   },
   "file_extension": ".py",
   "mimetype": "text/x-python",
   "name": "python",
   "nbconvert_exporter": "python",
   "pygments_lexer": "ipython3",
   "version": "3.9.7"
  }
 },
 "nbformat": 4,
 "nbformat_minor": 5
}
