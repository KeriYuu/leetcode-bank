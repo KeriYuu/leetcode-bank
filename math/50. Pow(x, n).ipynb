{
 "cells": [
  {
   "cell_type": "code",
   "execution_count": 1,
   "id": "ab6b92fb",
   "metadata": {},
   "outputs": [],
   "source": [
    "x = 2.00000\n",
    "n = 10\n",
    "# Output: 1024.00000"
   ]
  },
  {
   "cell_type": "code",
   "execution_count": 2,
   "id": "51595596",
   "metadata": {},
   "outputs": [
    {
     "data": {
      "text/plain": [
       "1024.0"
      ]
     },
     "execution_count": 2,
     "metadata": {},
     "output_type": "execute_result"
    }
   ],
   "source": [
    "# recursive\n",
    "def myPow(x, n):\n",
    "    if n == 0:\n",
    "        return 1\n",
    "    if n < 0:\n",
    "        x = 1 / x\n",
    "        n = -n\n",
    "\n",
    "    power = myPow(x, n // 2)\n",
    "    if n % 2 == 0:\n",
    "        return power * power\n",
    "    else:\n",
    "        return x * power * power\n",
    "\n",
    "\n",
    "\n",
    "myPow(x, n) # time O(logn), space O(logn)\n",
    "\n"
   ]
  },
  {
   "cell_type": "code",
   "execution_count": 3,
   "id": "5e763e38",
   "metadata": {},
   "outputs": [
    {
     "data": {
      "text/plain": [
       "1024.0"
      ]
     },
     "execution_count": 3,
     "metadata": {},
     "output_type": "execute_result"
    }
   ],
   "source": [
    "# binary\n",
    "def myPow(x, n):\n",
    "    if n < 0:\n",
    "        x = 1 / x\n",
    "        n = -n\n",
    "    result = 1\n",
    "    while n > 0:\n",
    "        if n % 2 == 1:\n",
    "            result *= x\n",
    "        x *= x\n",
    "        n //= 2\n",
    "    return result\n",
    "myPow(x, n) # time O(logn), space O(1)\n"
   ]
  }
 ],
 "metadata": {
  "kernelspec": {
   "display_name": "base",
   "language": "python",
   "name": "python3"
  },
  "language_info": {
   "codemirror_mode": {
    "name": "ipython",
    "version": 3
   },
   "file_extension": ".py",
   "mimetype": "text/x-python",
   "name": "python",
   "nbconvert_exporter": "python",
   "pygments_lexer": "ipython3",
   "version": "3.9.7"
  }
 },
 "nbformat": 4,
 "nbformat_minor": 5
}
