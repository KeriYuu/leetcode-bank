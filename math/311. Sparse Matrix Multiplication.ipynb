{
 "cells": [
  {
   "cell_type": "code",
   "execution_count": 1,
   "id": "3fcab126",
   "metadata": {},
   "outputs": [],
   "source": [
    "A = [[1,0,0],[-1,0,3]]\n",
    "B = [[7,0,0],[0,0,0],[0,0,1]]\n",
    "\n",
    "# C = [[7,0,0],[-7,0,3]]"
   ]
  },
  {
   "cell_type": "code",
   "execution_count": 3,
   "id": "24c96462",
   "metadata": {},
   "outputs": [
    {
     "data": {
      "text/plain": [
       "[[7, 0, 0], [-7, 0, 3]]"
      ]
     },
     "execution_count": 3,
     "metadata": {},
     "output_type": "execute_result"
    }
   ],
   "source": [
    "def multiply(A, B):\n",
    "\n",
    "    m, k, n = len(A), len(A[0]), len(B[0])\n",
    "    C = [[0] * n for _ in range(m)]\n",
    "\n",
    "    a_rows = []\n",
    "    for i in range(m):\n",
    "        a_col = [(p, A[i][p]) for p in range(k) if A[i][p] != 0]\n",
    "        a_rows.append(a_col)\n",
    "    \n",
    "    b_rows = []\n",
    "    for p in range(k):\n",
    "        b_col = [(j, B[p][j]) for j in range(n) if B[p][j] != 0]\n",
    "        b_rows.append(b_col)\n",
    "    \n",
    "    for i in range(m):\n",
    "        for p, a_val in a_rows[i]:\n",
    "            for j, b_val in b_rows[p]:\n",
    "                C[i][j] += a_val * b_val\n",
    "    \n",
    "    return C\n",
    "\n",
    "multiply(A, B)"
   ]
  }
 ],
 "metadata": {
  "kernelspec": {
   "display_name": "base",
   "language": "python",
   "name": "python3"
  },
  "language_info": {
   "codemirror_mode": {
    "name": "ipython",
    "version": 3
   },
   "file_extension": ".py",
   "mimetype": "text/x-python",
   "name": "python",
   "nbconvert_exporter": "python",
   "pygments_lexer": "ipython3",
   "version": "3.9.7"
  }
 },
 "nbformat": 4,
 "nbformat_minor": 5
}
