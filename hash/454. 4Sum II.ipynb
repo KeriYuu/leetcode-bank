{
 "cells": [
  {
   "cell_type": "code",
   "execution_count": 7,
   "id": "7259727c",
   "metadata": {},
   "outputs": [],
   "source": [
    "nums1 = [1,2]\n",
    "nums2 = [-2,-1]\n",
    "nums3 = [-1,2]\n",
    "nums4 = [0,2]\n",
    "# Output: 2"
   ]
  },
  {
   "cell_type": "code",
   "execution_count": 8,
   "id": "f501d36a",
   "metadata": {},
   "outputs": [],
   "source": [
    "def FourSum(nums1, nums2, nums3, nums4):\n",
    "    res = 0\n",
    "    seen = {}\n",
    "    for i in nums1:\n",
    "        for j in nums2:\n",
    "            seen[i+j] = seen.get(i+j, 0) + 1\n",
    "    for k in nums3:\n",
    "        for l in nums4:\n",
    "            res += seen.get(-(k+l), 0)\n",
    "    return res\n",
    "\n",
    "\n",
    "            \n"
   ]
  },
  {
   "cell_type": "code",
   "execution_count": 9,
   "id": "3ca6b673",
   "metadata": {},
   "outputs": [
    {
     "data": {
      "text/plain": [
       "2"
      ]
     },
     "execution_count": 9,
     "metadata": {},
     "output_type": "execute_result"
    }
   ],
   "source": [
    "FourSum(nums1, nums2, nums3, nums4)"
   ]
  },
  {
   "cell_type": "markdown",
   "id": "b14c2cbb",
   "metadata": {},
   "source": [
    "time O(n^2), space O(n^2)"
   ]
  }
 ],
 "metadata": {
  "kernelspec": {
   "display_name": "base",
   "language": "python",
   "name": "python3"
  },
  "language_info": {
   "codemirror_mode": {
    "name": "ipython",
    "version": 3
   },
   "file_extension": ".py",
   "mimetype": "text/x-python",
   "name": "python",
   "nbconvert_exporter": "python",
   "pygments_lexer": "ipython3",
   "version": "3.9.7"
  }
 },
 "nbformat": 4,
 "nbformat_minor": 5
}
