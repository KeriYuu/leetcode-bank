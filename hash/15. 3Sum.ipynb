{
 "cells": [
  {
   "cell_type": "code",
   "execution_count": 1,
   "id": "7259727c",
   "metadata": {},
   "outputs": [],
   "source": [
    "nums = [0,0,0,0]\n",
    "# Output: [[0,0,0]]"
   ]
  },
  {
   "cell_type": "code",
   "execution_count": 2,
   "id": "f501d36a",
   "metadata": {},
   "outputs": [],
   "source": [
    "def ThreeSum(nums):\n",
    "    res = set()\n",
    "    n = len(nums)\n",
    "    for i in range(n):\n",
    "        seen = set()\n",
    "        target = -nums[i]\n",
    "        for j in range(i+1, n):\n",
    "            complement = target - nums[j]\n",
    "            if complement in seen:\n",
    "                res.add(tuple(sorted([nums[i], complement, nums[j]])))\n",
    "            seen.add(nums[j])\n",
    "    return [list(i) for i in res]\n",
    "\n",
    "\n",
    "            \n"
   ]
  },
  {
   "cell_type": "code",
   "execution_count": null,
   "id": "3ca6b673",
   "metadata": {},
   "outputs": [
    {
     "data": {
      "text/plain": [
       "[[0, 0, 0]]"
      ]
     },
     "execution_count": 3,
     "metadata": {},
     "output_type": "execute_result"
    }
   ],
   "source": [
    "ThreeSum(nums) # time O(n**2), space O(n)"
   ]
  }
 ],
 "metadata": {
  "kernelspec": {
   "display_name": "base",
   "language": "python",
   "name": "python3"
  },
  "language_info": {
   "codemirror_mode": {
    "name": "ipython",
    "version": 3
   },
   "file_extension": ".py",
   "mimetype": "text/x-python",
   "name": "python",
   "nbconvert_exporter": "python",
   "pygments_lexer": "ipython3",
   "version": "3.9.7"
  }
 },
 "nbformat": 4,
 "nbformat_minor": 5
}
