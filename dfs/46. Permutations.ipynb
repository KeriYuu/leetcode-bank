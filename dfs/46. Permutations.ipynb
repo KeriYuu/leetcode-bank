{
 "cells": [
  {
   "cell_type": "code",
   "execution_count": 7,
   "id": "7259727c",
   "metadata": {},
   "outputs": [],
   "source": [
    "nums = [1,2,3]\n",
    "# Output: [[1,2,3],[1,3,2],[2,1,3],[2,3,1],[3,1,2],[3,2,1]]"
   ]
  },
  {
   "cell_type": "code",
   "execution_count": 8,
   "id": "172ab73c",
   "metadata": {},
   "outputs": [
    {
     "data": {
      "text/plain": [
       "[[1, 2, 3], [1, 3, 2], [2, 1, 3], [2, 3, 1], [3, 1, 2], [3, 2, 1]]"
      ]
     },
     "execution_count": 8,
     "metadata": {},
     "output_type": "execute_result"
    }
   ],
   "source": [
    "def dfs(nums, path, res, visited):\n",
    "    if len(path) == len(nums):\n",
    "        res.append(path[:])\n",
    "        return\n",
    "    for num in nums:\n",
    "        if num in visited:\n",
    "            continue\n",
    "        visited.add(num)\n",
    "        path.append(num)\n",
    "        dfs(nums, path, res, visited)\n",
    "        path.pop()\n",
    "        visited.remove(num)\n",
    "\n",
    "def permute(nums):\n",
    "    res = []\n",
    "    dfs(nums, [], res, set())\n",
    "    return res\n",
    "\n",
    "permute(nums) # time: O(n!), space: O(n)\n"
   ]
  }
 ],
 "metadata": {
  "kernelspec": {
   "display_name": "base",
   "language": "python",
   "name": "python3"
  },
  "language_info": {
   "codemirror_mode": {
    "name": "ipython",
    "version": 3
   },
   "file_extension": ".py",
   "mimetype": "text/x-python",
   "name": "python",
   "nbconvert_exporter": "python",
   "pygments_lexer": "ipython3",
   "version": "3.9.7"
  }
 },
 "nbformat": 4,
 "nbformat_minor": 5
}
