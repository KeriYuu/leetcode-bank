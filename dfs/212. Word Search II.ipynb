{
 "cells": [
  {
   "cell_type": "code",
   "execution_count": 10,
   "id": "5169441b",
   "metadata": {},
   "outputs": [],
   "source": [
    "board = [[\"o\",\"a\",\"a\",\"n\"],[\"e\",\"t\",\"a\",\"e\"],[\"i\",\"h\",\"k\",\"r\"],[\"i\",\"f\",\"l\",\"v\"]]\n",
    "words = [\"oath\",\"pea\",\"eat\",\"rain\"]\n",
    "# Output: [\"eat\",\"oath\"]"
   ]
  },
  {
   "cell_type": "code",
   "execution_count": 11,
   "id": "6da7756a",
   "metadata": {},
   "outputs": [],
   "source": [
    "from collections import defaultdict\n",
    "def dfs(res, path, board, i, j, visited, prefix_in_words, m, n):\n",
    "    if path not in prefix_in_words:\n",
    "        return\n",
    "    if prefix_in_words[path]:\n",
    "        res.append(path)\n",
    "        prefix_in_words[path] = False\n",
    "\n",
    "    directions = [(0, 1), (1, 0), (0, -1), (-1, 0)]\n",
    "    for dx, dy in directions:\n",
    "        x, y = i + dx, j + dy\n",
    "        if 0 <= x < m and 0 <= y < n and not visited[x][y]:\n",
    "            visited[x][y] = True\n",
    "            dfs(res, path + board[x][y], board, x, y, visited, prefix_in_words, m, n)\n",
    "            visited[x][y] = False\n",
    "        \n",
    "def findWords(board, words):\n",
    "    res = []\n",
    "    m, n = len(board), len(board[0])\n",
    "    visited = [[False] * n for _ in range(m)]\n",
    "    prefix_in_words = defaultdict(bool)\n",
    "    for word in words:\n",
    "        for i in range(len(word)):\n",
    "            prefix_in_words[word[:i+1]] = False\n",
    "        prefix_in_words[word] = True\n",
    "\n",
    "    for i in range(m):\n",
    "        for j in range(n):\n",
    "            if board[i][j] not in prefix_in_words:\n",
    "                continue\n",
    "            path = board[i][j]\n",
    "            visited[i][j] = True\n",
    "            dfs(res, path, board, i, j, visited, prefix_in_words, m, n)\n",
    "            visited[i][j] = False\n",
    "            path = path[:-1]\n",
    "\n",
    "    return res\n",
    "\n"
   ]
  },
  {
   "cell_type": "code",
   "execution_count": null,
   "id": "e67e6adc",
   "metadata": {},
   "outputs": [
    {
     "data": {
      "text/plain": [
       "['oath', 'eat']"
      ]
     },
     "execution_count": 12,
     "metadata": {},
     "output_type": "execute_result"
    }
   ],
   "source": [
    "findWords(board, words) # time: O(m*n*4^k), space: O(m*n)"
   ]
  }
 ],
 "metadata": {
  "kernelspec": {
   "display_name": "base",
   "language": "python",
   "name": "python3"
  },
  "language_info": {
   "codemirror_mode": {
    "name": "ipython",
    "version": 3
   },
   "file_extension": ".py",
   "mimetype": "text/x-python",
   "name": "python",
   "nbconvert_exporter": "python",
   "pygments_lexer": "ipython3",
   "version": "3.9.7"
  }
 },
 "nbformat": 4,
 "nbformat_minor": 5
}
