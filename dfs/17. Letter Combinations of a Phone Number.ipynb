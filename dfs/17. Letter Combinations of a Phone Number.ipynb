{
 "cells": [
  {
   "cell_type": "code",
   "execution_count": 10,
   "id": "7259727c",
   "metadata": {},
   "outputs": [],
   "source": [
    "digits = \"23\"\n",
    "# Output: [\"ad\",\"ae\",\"af\",\"bd\",\"be\",\"bf\",\"cd\",\"ce\",\"cf\"]"
   ]
  },
  {
   "cell_type": "code",
   "execution_count": 11,
   "id": "0d9ae105",
   "metadata": {},
   "outputs": [],
   "source": [
    "def letterCombinations(digits):\n",
    "    if not digits:\n",
    "        return []\n",
    "    \n",
    "    phone = {\n",
    "        '2': \"abc\", '3': \"def\", '4': \"ghi\", '5': \"jkl\",\n",
    "        '6': \"mno\", '7': \"pqrs\", '8': \"tuv\", '9': \"wxyz\"\n",
    "    }\n",
    "\n",
    "    res = []\n",
    "    dfs(res, digits, 0, [], phone)\n",
    "    return res\n",
    "\n",
    "def dfs(res, digits, index, path, phone):\n",
    "    if len(path) == len(digits):\n",
    "        res.append(''.join(path))\n",
    "        return\n",
    "\n",
    "    for i in range(index, len(digits)):\n",
    "        for j in range(len(phone[digits[i]])):\n",
    "            path.append(phone[digits[i]][j])\n",
    "            dfs(res, digits, i + 1, path, phone)\n",
    "            path.pop()\n",
    "\n",
    "\n",
    "            \n",
    "\n"
   ]
  },
  {
   "cell_type": "code",
   "execution_count": 12,
   "id": "27b2a72d",
   "metadata": {},
   "outputs": [
    {
     "data": {
      "text/plain": [
       "['ad', 'ae', 'af', 'bd', 'be', 'bf', 'cd', 'ce', 'cf']"
      ]
     },
     "execution_count": 12,
     "metadata": {},
     "output_type": "execute_result"
    }
   ],
   "source": [
    "letterCombinations(digits) # time: O(4^n), space: O(n)"
   ]
  }
 ],
 "metadata": {
  "kernelspec": {
   "display_name": "base",
   "language": "python",
   "name": "python3"
  },
  "language_info": {
   "codemirror_mode": {
    "name": "ipython",
    "version": 3
   },
   "file_extension": ".py",
   "mimetype": "text/x-python",
   "name": "python",
   "nbconvert_exporter": "python",
   "pygments_lexer": "ipython3",
   "version": "3.9.7"
  }
 },
 "nbformat": 4,
 "nbformat_minor": 5
}
