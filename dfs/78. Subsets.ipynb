{
 "cells": [
  {
   "cell_type": "code",
   "execution_count": 6,
   "id": "e1f35bad",
   "metadata": {},
   "outputs": [],
   "source": [
    "nums = [1,2,3]\n",
    "# Output: [[],[1],[2],[1,2],[3],[1,3],[2,3],[1,2,3]]"
   ]
  },
  {
   "cell_type": "code",
   "execution_count": 7,
   "id": "86869ad7",
   "metadata": {},
   "outputs": [],
   "source": [
    "#                     []\n",
    "#           /            |            \\\n",
    "#        [1]            [2]            [3]\n",
    "#       /   \\             \\\n",
    "#   [1,2]   [1,3]        [2,3]\n",
    "#      |\n",
    "#   [1,2,3]\n"
   ]
  },
  {
   "cell_type": "code",
   "execution_count": 8,
   "id": "3ad1b47a",
   "metadata": {},
   "outputs": [
    {
     "data": {
      "text/plain": [
       "[[], [1], [1, 2], [1, 2, 3], [1, 3], [2], [2, 3], [3]]"
      ]
     },
     "execution_count": 8,
     "metadata": {},
     "output_type": "execute_result"
    }
   ],
   "source": [
    "def subsets(nums):\n",
    "    def dfs(i, path, nums, res):\n",
    "        res.append(path[:])\n",
    "        for i in range(i, len(nums)):\n",
    "            dfs(i + 1, path + [nums[i]], nums, res)\n",
    "    res = []\n",
    "    dfs(0, [], nums, res)\n",
    "    return res\n",
    "subsets(nums)"
   ]
  },
  {
   "cell_type": "code",
   "execution_count": 9,
   "id": "de4d59ce",
   "metadata": {},
   "outputs": [],
   "source": [
    "#                            []                  ← start\n",
    "#                     /                \\\n",
    "#               skip 1                  take 1\n",
    "#                /                         \\\n",
    "#              []                         [1]\n",
    "#            /    \\                     /      \\\n",
    "#       skip2    take2             skip2       take2\n",
    "#        / \\       / \\              / \\          / \\\n",
    "#  skip3 take3 skip3 take3    skip3 take3   skip3   take3\n",
    "#    |     |     |     |        |     |       |       |\n",
    "#   []    [3]   [2]  [2,3]     [1]  [1,3]   [1,2]  [1,2,3]\n"
   ]
  },
  {
   "cell_type": "code",
   "execution_count": 10,
   "id": "18124c0b",
   "metadata": {},
   "outputs": [
    {
     "data": {
      "text/plain": [
       "[[], [3], [2], [2, 3], [1], [1, 3], [1, 2], [1, 2, 3]]"
      ]
     },
     "execution_count": 10,
     "metadata": {},
     "output_type": "execute_result"
    }
   ],
   "source": [
    "def subsets(nums):\n",
    "    def dfs(i, path, nums, res):\n",
    "        if i == len(nums):\n",
    "            res.append(path[:])\n",
    "            return\n",
    "        dfs(i + 1, path, nums, res)\n",
    "\n",
    "        path.append(nums[i])\n",
    "        dfs(i + 1, path, nums, res)\n",
    "        path.pop()\n",
    "        \n",
    "    res = []\n",
    "    dfs(0, [], nums, res)\n",
    "    return res\n",
    "subsets(nums)\n"
   ]
  }
 ],
 "metadata": {
  "kernelspec": {
   "display_name": "base",
   "language": "python",
   "name": "python3"
  },
  "language_info": {
   "codemirror_mode": {
    "name": "ipython",
    "version": 3
   },
   "file_extension": ".py",
   "mimetype": "text/x-python",
   "name": "python",
   "nbconvert_exporter": "python",
   "pygments_lexer": "ipython3",
   "version": "3.9.7"
  }
 },
 "nbformat": 4,
 "nbformat_minor": 5
}
