{
 "cells": [
  {
   "cell_type": "code",
   "execution_count": 1,
   "id": "7259727c",
   "metadata": {},
   "outputs": [],
   "source": [
    "nums = [1,1,2]\n",
    "# Output:\n",
    "# [[1,1,2],\n",
    "#  [1,2,1],\n",
    "#  [2,1,1]]"
   ]
  },
  {
   "cell_type": "code",
   "execution_count": 2,
   "id": "172ab73c",
   "metadata": {},
   "outputs": [
    {
     "data": {
      "text/plain": [
       "[[1, 1, 2], [1, 2, 1], [2, 1, 1]]"
      ]
     },
     "execution_count": 2,
     "metadata": {},
     "output_type": "execute_result"
    }
   ],
   "source": [
    "def dfs(nums, path, res, visited):\n",
    "    if len(path) == len(nums):\n",
    "        res.append(path[:])\n",
    "        return\n",
    "    for i, num in enumerate(nums):\n",
    "        if visited[i]:\n",
    "            continue\n",
    "        if i > 0 and nums[i] == nums[i-1] and not visited[i-1]:\n",
    "            continue\n",
    "        visited[i] = True\n",
    "        path.append(num)\n",
    "        dfs(nums, path, res, visited)\n",
    "        path.pop()\n",
    "        visited[i] = False\n",
    "\n",
    "def permute(nums):\n",
    "    res = []\n",
    "    visited = [False for _ in range(len(nums))]\n",
    "    dfs(nums, [], res, visited)\n",
    "    return res\n",
    "\n",
    "permute(nums) # time: O(n!), space: O(n)\n"
   ]
  }
 ],
 "metadata": {
  "kernelspec": {
   "display_name": "base",
   "language": "python",
   "name": "python3"
  },
  "language_info": {
   "codemirror_mode": {
    "name": "ipython",
    "version": 3
   },
   "file_extension": ".py",
   "mimetype": "text/x-python",
   "name": "python",
   "nbconvert_exporter": "python",
   "pygments_lexer": "ipython3",
   "version": "3.9.7"
  }
 },
 "nbformat": 4,
 "nbformat_minor": 5
}
