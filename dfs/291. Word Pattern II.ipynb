{
 "cells": [
  {
   "cell_type": "code",
   "execution_count": 1,
   "id": "d353c27b",
   "metadata": {},
   "outputs": [],
   "source": [
    "p = \"abab\"\n",
    "s = \"redblueredblue\"\n",
    "# Output: true"
   ]
  },
  {
   "cell_type": "code",
   "execution_count": 2,
   "id": "4e4892e7",
   "metadata": {},
   "outputs": [],
   "source": [
    "def wordPatternMatch(p, s):\n",
    "    return dfs(p, s, {}, set())\n",
    "\n",
    "def dfs(p, s, mapping, used):\n",
    "    if not p:\n",
    "        return not s\n",
    "    char = p[0]\n",
    "    if char in mapping:\n",
    "        if not s.startswith(mapping[char]):\n",
    "            return False\n",
    "        return dfs(p[1: ], s[len(mapping[char]): ], mapping, used)\n",
    "    \n",
    "    for i in range(len(s)):\n",
    "        word = s[:i + 1]\n",
    "        if word in used:\n",
    "            continue\n",
    "        mapping[char] = word\n",
    "        used.add(word)\n",
    "        if dfs(p[1: ], s[i + 1: ], mapping, used):\n",
    "            return True\n",
    "        del mapping[char]\n",
    "        used.remove(word)\n",
    "    \n",
    "    return False"
   ]
  },
  {
   "cell_type": "code",
   "execution_count": null,
   "id": "512f2bd6",
   "metadata": {},
   "outputs": [
    {
     "data": {
      "text/plain": [
       "True"
      ]
     },
     "execution_count": 3,
     "metadata": {},
     "output_type": "execute_result"
    }
   ],
   "source": [
    "wordPatternMatch(p, s) # time O(s^p), space O(s + p)\n",
    "\n",
    "# Because results depend on the changing mappings, not just indices, so subproblems aren’t repeatable, so we can't use DP\n"
   ]
  }
 ],
 "metadata": {
  "kernelspec": {
   "display_name": "base",
   "language": "python",
   "name": "python3"
  },
  "language_info": {
   "codemirror_mode": {
    "name": "ipython",
    "version": 3
   },
   "file_extension": ".py",
   "mimetype": "text/x-python",
   "name": "python",
   "nbconvert_exporter": "python",
   "pygments_lexer": "ipython3",
   "version": "3.9.7"
  }
 },
 "nbformat": 4,
 "nbformat_minor": 5
}
