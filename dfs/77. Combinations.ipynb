{
 "cells": [
  {
   "cell_type": "code",
   "execution_count": 1,
   "id": "7259727c",
   "metadata": {},
   "outputs": [],
   "source": [
    "n = 4\n",
    "k = 2\n",
    "# Output: [[1,2],[1,3],[1,4],[2,3],[2,4],[3,4]]"
   ]
  },
  {
   "cell_type": "code",
   "execution_count": 3,
   "id": "172ab73c",
   "metadata": {},
   "outputs": [
    {
     "data": {
      "text/plain": [
       "[[1, 2], [1, 3], [1, 4], [2, 3], [2, 4], [3, 4]]"
      ]
     },
     "execution_count": 3,
     "metadata": {},
     "output_type": "execute_result"
    }
   ],
   "source": [
    "def dfs(res, n, k, index, path):\n",
    "    if len(path) == k:\n",
    "        res.append(path[:])\n",
    "        return\n",
    "    for i in range(index, n + 1):\n",
    "        path.append(i)\n",
    "        dfs(res, n, k, i + 1, path)\n",
    "        path.pop()\n",
    "\n",
    "def combine(n, k):\n",
    "    res = []\n",
    "    dfs(res, n, k, 1, [])\n",
    "    return res\n",
    "\n",
    "combine(n, k) # time: O(n!), space: O(n)1\n"
   ]
  },
  {
   "cell_type": "code",
   "execution_count": null,
   "id": "0d9ae105",
   "metadata": {},
   "outputs": [],
   "source": []
  }
 ],
 "metadata": {
  "kernelspec": {
   "display_name": "base",
   "language": "python",
   "name": "python3"
  },
  "language_info": {
   "codemirror_mode": {
    "name": "ipython",
    "version": 3
   },
   "file_extension": ".py",
   "mimetype": "text/x-python",
   "name": "python",
   "nbconvert_exporter": "python",
   "pygments_lexer": "ipython3",
   "version": "3.9.7"
  }
 },
 "nbformat": 4,
 "nbformat_minor": 5
}
