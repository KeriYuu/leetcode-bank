{
 "cells": [
  {
   "cell_type": "code",
   "execution_count": 36,
   "id": "7259727c",
   "metadata": {},
   "outputs": [],
   "source": [
    "board = [[\"5\",\"3\",\".\",\".\",\"7\",\".\",\".\",\".\",\".\"],[\"6\",\".\",\".\",\"1\",\"9\",\"5\",\".\",\".\",\".\"],[\".\",\"9\",\"8\",\".\",\".\",\".\",\".\",\"6\",\".\"],[\"8\",\".\",\".\",\".\",\"6\",\".\",\".\",\".\",\"3\"],[\"4\",\".\",\".\",\"8\",\".\",\"3\",\".\",\".\",\"1\"],[\"7\",\".\",\".\",\".\",\"2\",\".\",\".\",\".\",\"6\"],[\".\",\"6\",\".\",\".\",\".\",\".\",\"2\",\"8\",\".\"],[\".\",\".\",\".\",\"4\",\"1\",\"9\",\".\",\".\",\"5\"],[\".\",\".\",\".\",\".\",\"8\",\".\",\".\",\"7\",\"9\"]]\n",
    "Output = [[\"5\",\"3\",\"4\",\"6\",\"7\",\"8\",\"9\",\"1\",\"2\"],[\"6\",\"7\",\"2\",\"1\",\"9\",\"5\",\"3\",\"4\",\"8\"],[\"1\",\"9\",\"8\",\"3\",\"4\",\"2\",\"5\",\"6\",\"7\"],[\"8\",\"5\",\"9\",\"7\",\"6\",\"1\",\"4\",\"2\",\"3\"],[\"4\",\"2\",\"6\",\"8\",\"5\",\"3\",\"7\",\"9\",\"1\"],[\"7\",\"1\",\"3\",\"9\",\"2\",\"4\",\"8\",\"5\",\"6\"],[\"9\",\"6\",\"1\",\"5\",\"3\",\"7\",\"2\",\"8\",\"4\"],[\"2\",\"8\",\"7\",\"4\",\"1\",\"9\",\"6\",\"3\",\"5\"],[\"3\",\"4\",\"5\",\"2\",\"8\",\"6\",\"1\",\"7\",\"9\"]]"
   ]
  },
  {
   "cell_type": "code",
   "execution_count": null,
   "id": "cd394f5c",
   "metadata": {},
   "outputs": [],
   "source": [
    "def init_set(board):\n",
    "    used = {\n",
    "        \"rows\": [set() for _ in range(9)],\n",
    "        \"cols\": [set() for _ in range(9)],\n",
    "        \"boxes\": [set() for _ in range(9)]\n",
    "    }\n",
    "    for i in range(9):\n",
    "        for j in range(9):\n",
    "            if board[i][j] != \".\":\n",
    "                used[\"rows\"][i].add(board[i][j])\n",
    "                used[\"cols\"][j].add(board[i][j])\n",
    "                used[\"boxes\"][i // 3 * 3 + j // 3].add(board[i][j])\n",
    "    return  used\n",
    "\n",
    "def is_valid(board, var, i, j, used):\n",
    "    if var in used[\"rows\"][i]:\n",
    "        return False\n",
    "    if var in used[\"cols\"][j]:\n",
    "        return False\n",
    "    if var in used[\"boxes\"][i // 3 * 3 + j // 3]:\n",
    "        return False\n",
    "    return True\n",
    "\n",
    "def dfs(index, board, used):\n",
    "    if index == 81:\n",
    "        return True\n",
    "    i, j = index // 9, index % 9\n",
    "    if board[i][j] != \".\":\n",
    "        return dfs(index + 1, board, used)\n",
    "    for var in range(1, 10):\n",
    "        var = str(var)\n",
    "        if not is_valid(board, var, i, j, used):\n",
    "            continue\n",
    "        board[i][j] = var\n",
    "        used[\"rows\"][i].add(var)\n",
    "        used[\"cols\"][j].add(var)\n",
    "        used[\"boxes\"][i // 3 * 3 + j // 3].add(var)\n",
    "        if dfs(index + 1, board, used):\n",
    "            return True\n",
    "        board[i][j] = \".\"\n",
    "        used[\"rows\"][i].remove(var)\n",
    "        used[\"cols\"][j].remove(var)\n",
    "        used[\"boxes\"][i // 3 * 3 + j // 3].remove(var)\n",
    "    return False\n",
    "\n",
    "def solveSudoku(board):\n",
    "    used = init_set(board)\n",
    "    dfs(0, board, used)\n",
    "    return board\n",
    "        "
   ]
  },
  {
   "cell_type": "code",
   "execution_count": null,
   "id": "46532f70",
   "metadata": {},
   "outputs": [],
   "source": [
    "result = solveSudoku(board) # time O(9^m) space O(m), m=81\n",
    "result == Output"
   ]
  },
  {
   "cell_type": "code",
   "execution_count": 39,
   "id": "f1c5a702",
   "metadata": {},
   "outputs": [],
   "source": [
    "def find_least_choices(board, used):\n",
    "    x, y, best = None, None, ['.'] * 10\n",
    "    for i in range(9):\n",
    "        for j in range(9):\n",
    "            if board[i][j] != \".\":\n",
    "                continue\n",
    "            choices = []\n",
    "            for var in range(1, 10):\n",
    "                var = str(var)\n",
    "                if is_valid(board, var, i, j, used):\n",
    "                    choices.append(var)\n",
    "            if len(choices) < len(best):\n",
    "                x, y, best = i, j, choices\n",
    "    return x, y, best\n",
    "\n",
    "def dfs_optimized(board, used):\n",
    "    i, j, choices = find_least_choices(board, used)\n",
    "    if i is None:\n",
    "        return True\n",
    "    for var in choices:\n",
    "        board[i][j] = var\n",
    "        used[\"rows\"][i].add(var)\n",
    "        used[\"cols\"][j].add(var)\n",
    "        used[\"boxes\"][i // 3 * 3 + j // 3].add(var)\n",
    "        if dfs_optimized(board, used):\n",
    "            return True\n",
    "        board[i][j] = \".\"\n",
    "        used[\"rows\"][i].remove(var)\n",
    "        used[\"cols\"][j].remove(var)\n",
    "        used[\"boxes\"][i // 3 * 3 + j // 3].remove(var)\n",
    "    return False\n",
    "\n",
    "def solveSudoku_optimized(board):\n",
    "    used = init_set(board)\n",
    "    dfs_optimized(board, used)\n",
    "    return board\n",
    "                        "
   ]
  },
  {
   "cell_type": "code",
   "execution_count": 40,
   "id": "b09ae479",
   "metadata": {},
   "outputs": [
    {
     "data": {
      "text/plain": [
       "True"
      ]
     },
     "execution_count": 40,
     "metadata": {},
     "output_type": "execute_result"
    }
   ],
   "source": [
    "result = solveSudoku_optimized(board) # time O(9^m) space O(m), m=81\n",
    "result == Output"
   ]
  }
 ],
 "metadata": {
  "kernelspec": {
   "display_name": "base",
   "language": "python",
   "name": "python3"
  },
  "language_info": {
   "codemirror_mode": {
    "name": "ipython",
    "version": 3
   },
   "file_extension": ".py",
   "mimetype": "text/x-python",
   "name": "python",
   "nbconvert_exporter": "python",
   "pygments_lexer": "ipython3",
   "version": "3.9.7"
  }
 },
 "nbformat": 4,
 "nbformat_minor": 5
}
