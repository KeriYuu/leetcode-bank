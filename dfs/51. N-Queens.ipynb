{
 "cells": [
  {
   "cell_type": "code",
   "execution_count": 1,
   "id": "7259727c",
   "metadata": {},
   "outputs": [],
   "source": [
    "n = 4\n",
    "# Output: [[\".Q..\",\"...Q\",\"Q...\",\"..Q.\"],[\"..Q.\",\"Q...\",\"...Q\",\".Q..\"]]"
   ]
  },
  {
   "cell_type": "code",
   "execution_count": 2,
   "id": "0b8d621b",
   "metadata": {},
   "outputs": [
    {
     "data": {
      "text/plain": [
       "[['.Q..', '...Q', 'Q...', '..Q.'], ['..Q.', 'Q...', '...Q', '.Q..']]"
      ]
     },
     "execution_count": 2,
     "metadata": {},
     "output_type": "execute_result"
    }
   ],
   "source": [
    "def is_valid(path, new_row, new_col):\n",
    "    for row, col in enumerate(path):\n",
    "        if col == new_col:\n",
    "            return False\n",
    "        if col - row == new_col - new_row:\n",
    "            return False\n",
    "        if col + row == new_col + new_row:\n",
    "            return False\n",
    "    return True\n",
    "\n",
    "def print_board(path, n):\n",
    "    return [\".\" * col + \"Q\" + \".\" * (n - col - 1) for col in path]\n",
    "\n",
    "def dfs(res, n, row, path):\n",
    "    if row == n:\n",
    "        res.append(print_board(path, n))\n",
    "        return\n",
    "    for col in range(n):\n",
    "        if not is_valid(path, row, col):\n",
    "            continue\n",
    "        path.append(col)\n",
    "        dfs(res, n, row + 1, path)\n",
    "        path.pop()\n",
    "def solveNQueens(n):\n",
    "    res = []\n",
    "    dfs(res, n, 0, [])\n",
    "    return res\n",
    "\n",
    "solveNQueens(n) # time: O(n!), space: O(n)\n"
   ]
  }
 ],
 "metadata": {
  "kernelspec": {
   "display_name": "base",
   "language": "python",
   "name": "python3"
  },
  "language_info": {
   "codemirror_mode": {
    "name": "ipython",
    "version": 3
   },
   "file_extension": ".py",
   "mimetype": "text/x-python",
   "name": "python",
   "nbconvert_exporter": "python",
   "pygments_lexer": "ipython3",
   "version": "3.9.7"
  }
 },
 "nbformat": 4,
 "nbformat_minor": 5
}
