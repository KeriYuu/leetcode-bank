{
 "cells": [
  {
   "cell_type": "code",
   "execution_count": 6,
   "id": "e8613d6c",
   "metadata": {},
   "outputs": [],
   "source": [
    "from pathlib import Path\n",
    "\n",
    "def count_ipynb_in_subfolders(root_dir: str):\n",
    "    root = Path(root_dir)\n",
    "    per_folder = {}\n",
    "    total = 0\n",
    "\n",
    "    for p in root.iterdir():\n",
    "        if p.is_dir():\n",
    "            cnt = sum(\n",
    "                1\n",
    "                for f in p.glob(\"*.ipynb\")\n",
    "                if \".ipynb_checkpoints\" not in f.parts\n",
    "            )\n",
    "            per_folder[p.name] = cnt\n",
    "            total += cnt\n",
    "\n",
    "    return per_folder, total\n",
    "\n",
    "\n",
    "def find_ipynb_by_substring(root_dir: str, keyword: str, case_sensitive: bool = False):\n",
    "    root = Path(root_dir)\n",
    "    matches = []\n",
    "\n",
    "    key = keyword if case_sensitive else keyword.lower()\n",
    "\n",
    "    for f in root.rglob(\"*.ipynb\"):\n",
    "        # 跳过 .ipynb_checkpoints\n",
    "        if any(part == \".ipynb_checkpoints\" for part in f.parts):\n",
    "            continue\n",
    "\n",
    "        name = f.name if case_sensitive else f.name.lower()\n",
    "        if key in name:\n",
    "            matches.append(str(f.resolve()))\n",
    "\n",
    "    return matches\n"
   ]
  },
  {
   "cell_type": "code",
   "execution_count": 7,
   "id": "556b1b5c",
   "metadata": {},
   "outputs": [
    {
     "data": {
      "text/plain": [
       "({'tree': 6,\n",
       "  'dfs': 5,\n",
       "  'sort': 3,\n",
       "  'hash': 3,\n",
       "  'recursion': 1,\n",
       "  'binary_search': 5,\n",
       "  'dynamic_programming': 1,\n",
       "  'bfs': 4,\n",
       "  'two_pointers_opp': 6,\n",
       "  'partition': 2,\n",
       "  '.git': 0},\n",
       " 36)"
      ]
     },
     "execution_count": 7,
     "metadata": {},
     "output_type": "execute_result"
    }
   ],
   "source": [
    "count_ipynb_in_subfolders('.')"
   ]
  },
  {
   "cell_type": "code",
   "execution_count": 8,
   "id": "38d57471",
   "metadata": {},
   "outputs": [
    {
     "data": {
      "text/plain": [
       "['/Users/kerunyu/Desktop/learnings/leetcode-bank/tree/144. Binary Tree Preorder Traversal.ipynb',\n",
       " '/Users/kerunyu/Desktop/learnings/leetcode-bank/tree/270. Closest Binary Search Tree Value.ipynb',\n",
       " '/Users/kerunyu/Desktop/learnings/leetcode-bank/tree/114. Flatten Binary Tree to Linked List.ipynb',\n",
       " '/Users/kerunyu/Desktop/learnings/leetcode-bank/tree/236. Lowest Common Ancestor of a Binary Tree.ipynb',\n",
       " '/Users/kerunyu/Desktop/learnings/leetcode-bank/tree/94. Binary Tree Inorder Traversal.ipynb',\n",
       " '/Users/kerunyu/Desktop/learnings/leetcode-bank/recursion/110. Balanced Binary Tree.ipynb']"
      ]
     },
     "execution_count": 8,
     "metadata": {},
     "output_type": "execute_result"
    }
   ],
   "source": [
    "find_ipynb_by_substring('.', 'tree')"
   ]
  }
 ],
 "metadata": {
  "kernelspec": {
   "display_name": "base",
   "language": "python",
   "name": "python3"
  },
  "language_info": {
   "codemirror_mode": {
    "name": "ipython",
    "version": 3
   },
   "file_extension": ".py",
   "mimetype": "text/x-python",
   "name": "python",
   "nbconvert_exporter": "python",
   "pygments_lexer": "ipython3",
   "version": "3.9.7"
  }
 },
 "nbformat": 4,
 "nbformat_minor": 5
}
