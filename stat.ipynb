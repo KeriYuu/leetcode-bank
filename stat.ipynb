{
 "cells": [
  {
   "cell_type": "code",
   "execution_count": 4,
   "id": "e8613d6c",
   "metadata": {},
   "outputs": [],
   "source": [
    "from pathlib import Path\n",
    "\n",
    "def count_ipynb_in_subfolders(root_dir: str):\n",
    "    root = Path(root_dir)\n",
    "    per_folder = {}\n",
    "    total = 0\n",
    "\n",
    "    for p in root.rglob(\"*\"):\n",
    "        if (\n",
    "            p.is_dir()\n",
    "            and p != root\n",
    "            and not any(part.startswith(\".\") for part in p.parts)\n",
    "            and \".ipynb_checkpoints\" not in p.parts\n",
    "        ):\n",
    "            cnt = sum(\n",
    "                1\n",
    "                for f in p.glob(\"*.ipynb\")\n",
    "                if not any(part.startswith(\".\") for part in f.parts)\n",
    "                and \".ipynb_checkpoints\" not in f.parts\n",
    "            )\n",
    "            per_folder[str(p.relative_to(root))] = cnt\n",
    "            total += cnt\n",
    "\n",
    "    return per_folder, total\n",
    "\n",
    "\n",
    "def find_ipynb_by_substring(root_dir: str, keyword: str, case_sensitive: bool = False):\n",
    "    root = Path(root_dir)\n",
    "    matches = []\n",
    "\n",
    "    key = keyword if case_sensitive else keyword.lower()\n",
    "\n",
    "    for f in root.rglob(\"*.ipynb\"):\n",
    "        if any(part.startswith(\".\") for part in f.parts) or any(part == \".ipynb_checkpoints\" for part in f.parts):\n",
    "            continue\n",
    "\n",
    "        name = f.name if case_sensitive else f.name.lower()\n",
    "        if key in name:\n",
    "            matches.append(str(f.resolve()))\n",
    "\n",
    "    return matches\n"
   ]
  },
  {
   "cell_type": "code",
   "execution_count": 5,
   "id": "556b1b5c",
   "metadata": {},
   "outputs": [
    {
     "data": {
      "text/plain": [
       "({'tree': 6,\n",
       "  'data_structure': 8,\n",
       "  'dfs': 10,\n",
       "  'sort': 7,\n",
       "  'hash': 3,\n",
       "  'recursion': 1,\n",
       "  'binary_search': 9,\n",
       "  'dynamic_programming': 0,\n",
       "  'math': 2,\n",
       "  'heap': 2,\n",
       "  'bfs': 7,\n",
       "  'two_pointers_same': 6,\n",
       "  'greedy': 2,\n",
       "  'memoization_search': 5,\n",
       "  'two_pointers_opp': 6,\n",
       "  'partition': 2,\n",
       "  'dynamic_programming/matching': 3,\n",
       "  'dynamic_programming/knapsack': 5,\n",
       "  'dynamic_programming/interval': 3,\n",
       "  'dynamic_programming/chaining': 4,\n",
       "  'dynamic_programming/partition': 3,\n",
       "  'dynamic_programming/coordinate': 5},\n",
       " 99)"
      ]
     },
     "execution_count": 5,
     "metadata": {},
     "output_type": "execute_result"
    }
   ],
   "source": [
    "count_ipynb_in_subfolders('.')"
   ]
  },
  {
   "cell_type": "code",
   "execution_count": 6,
   "id": "38d57471",
   "metadata": {},
   "outputs": [
    {
     "data": {
      "text/plain": [
       "['/Users/kerunyu/Desktop/learnings/leetcode-bank/tree/144. Binary Tree Preorder Traversal.ipynb',\n",
       " '/Users/kerunyu/Desktop/learnings/leetcode-bank/tree/270. Closest Binary Search Tree Value.ipynb',\n",
       " '/Users/kerunyu/Desktop/learnings/leetcode-bank/tree/114. Flatten Binary Tree to Linked List.ipynb',\n",
       " '/Users/kerunyu/Desktop/learnings/leetcode-bank/tree/236. Lowest Common Ancestor of a Binary Tree.ipynb',\n",
       " '/Users/kerunyu/Desktop/learnings/leetcode-bank/tree/94. Binary Tree Inorder Traversal.ipynb',\n",
       " '/Users/kerunyu/Desktop/learnings/leetcode-bank/recursion/110. Balanced Binary Tree.ipynb',\n",
       " '/Users/kerunyu/Desktop/learnings/leetcode-bank/bfs/297. Serialize and Deserialize Binary Tree.ipynb']"
      ]
     },
     "execution_count": 6,
     "metadata": {},
     "output_type": "execute_result"
    }
   ],
   "source": [
    "find_ipynb_by_substring('.', 'tree')"
   ]
  }
 ],
 "metadata": {
  "kernelspec": {
   "display_name": "base",
   "language": "python",
   "name": "python3"
  },
  "language_info": {
   "codemirror_mode": {
    "name": "ipython",
    "version": 3
   },
   "file_extension": ".py",
   "mimetype": "text/x-python",
   "name": "python",
   "nbconvert_exporter": "python",
   "pygments_lexer": "ipython3",
   "version": "3.9.7"
  }
 },
 "nbformat": 4,
 "nbformat_minor": 5
}
