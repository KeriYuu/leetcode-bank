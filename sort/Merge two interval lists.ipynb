{
 "cells": [
  {
   "cell_type": "code",
   "execution_count": 1,
   "id": "9aee49c2",
   "metadata": {},
   "outputs": [],
   "source": [
    "A =  [[1,5], [10,14], [16,18]]\n",
    "B =  [[2,6], [8,10], [11,20]]\n",
    "\n",
    "# output [[1,6], [8, 20]]"
   ]
  },
  {
   "cell_type": "code",
   "execution_count": 2,
   "id": "b4e5aec9",
   "metadata": {},
   "outputs": [
    {
     "data": {
      "text/plain": [
       "[[1, 6], [8, 20]]"
      ]
     },
     "execution_count": 2,
     "metadata": {},
     "output_type": "execute_result"
    }
   ],
   "source": [
    "def push_interval(res, interval):\n",
    "    if not res or res[-1][1] < interval[0]:\n",
    "        res.append(interval)\n",
    "    else:\n",
    "        res[-1][1] = max(res[-1][1], interval[1])\n",
    "\n",
    "def mergeTwoIntervals(A, B):\n",
    "    m, n = len(A), len(B)\n",
    "    i, j = 0, 0\n",
    "    res = []\n",
    "    while i < m and j < n:\n",
    "        if A[i][0] < B[j][0]:\n",
    "            push_interval(res, A[i])\n",
    "            i += 1\n",
    "        else:\n",
    "            push_interval(res, B[j])\n",
    "            j += 1\n",
    "    while i < m:\n",
    "        push_interval(res, A[i])\n",
    "        i += 1\n",
    "    while j < n:\n",
    "        push_interval(res, B[j])\n",
    "        j += 1\n",
    "    return res\n",
    "\n",
    "mergeTwoIntervals(A, B) # time O(m + n), space O(1)"
   ]
  }
 ],
 "metadata": {
  "kernelspec": {
   "display_name": "base",
   "language": "python",
   "name": "python3"
  },
  "language_info": {
   "codemirror_mode": {
    "name": "ipython",
    "version": 3
   },
   "file_extension": ".py",
   "mimetype": "text/x-python",
   "name": "python",
   "nbconvert_exporter": "python",
   "pygments_lexer": "ipython3",
   "version": "3.9.7"
  }
 },
 "nbformat": 4,
 "nbformat_minor": 5
}
