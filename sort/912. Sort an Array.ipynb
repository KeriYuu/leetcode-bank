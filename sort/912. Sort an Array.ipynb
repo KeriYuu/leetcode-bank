{
 "cells": [
  {
   "cell_type": "code",
   "execution_count": 1,
   "id": "7259727c",
   "metadata": {},
   "outputs": [],
   "source": [
    "nums = [5,2,3,1]\n",
    "# Output: [1,2,3,5]"
   ]
  },
  {
   "cell_type": "code",
   "execution_count": null,
   "id": "f501d36a",
   "metadata": {},
   "outputs": [],
   "source": [
    "def sort1(nums):\n",
    "    return mergeSort(nums, 0, len(nums) - 1)\n",
    "\n",
    "def mergeSort(nums, left, right):\n",
    "    if left >= right:\n",
    "        return\n",
    "    mid = (left + right) // 2\n",
    "    mergeSort(nums, left, mid)\n",
    "    mergeSort(nums, mid + 1, right)\n",
    "    merge(nums, left, mid, right)\n",
    "\n",
    "def merge(nums, left, mid, right):\n",
    "    temp = []\n",
    "    i, j = left, mid + 1\n",
    "    while i <= mid and j <= right:\n",
    "        if nums[i] <= nums[j]:\n",
    "            temp.append(nums[i])\n",
    "            i += 1\n",
    "        else:\n",
    "            temp.append(nums[j])\n",
    "            j += 1\n",
    "    while i <= mid:\n",
    "        temp.append(nums[i])\n",
    "        i += 1\n",
    "    while j <= right:\n",
    "        temp.append(nums[j])\n",
    "\n",
    "    nums[left:right+1] = temp"
   ]
  },
  {
   "cell_type": "code",
   "execution_count": null,
   "id": "69e3d8fa",
   "metadata": {},
   "outputs": [
    {
     "data": {
      "text/plain": [
       "[1, 2, 3, 5]"
      ]
     },
     "execution_count": 3,
     "metadata": {},
     "output_type": "execute_result"
    }
   ],
   "source": [
    "sort1(nums) #time O(nlogn), space O(n)\n",
    "nums"
   ]
  },
  {
   "cell_type": "code",
   "execution_count": 2,
   "id": "20f8d29d",
   "metadata": {},
   "outputs": [],
   "source": [
    "import random\n",
    "def sort2(nums):\n",
    "    return quickSort(nums, 0, len(nums) - 1)\n",
    "\n",
    "def quickSort(nums, start, end):\n",
    "    if start >= end:\n",
    "        return\n",
    "    pivot = nums[random.randint(start, end)]\n",
    "    left, right = start, end\n",
    "    while left <= right:\n",
    "        while nums[left] < pivot:\n",
    "            left += 1\n",
    "        while nums[right] > pivot:\n",
    "            right -= 1\n",
    "        if left <= right:\n",
    "            nums[left], nums[right] = nums[right], nums[left]\n",
    "            left += 1\n",
    "            right -= 1\n",
    "    quickSort(nums, start, right)\n",
    "    quickSort(nums, left, end)\n",
    "\n",
    "    "
   ]
  },
  {
   "cell_type": "code",
   "execution_count": 3,
   "id": "4e478eee",
   "metadata": {},
   "outputs": [],
   "source": [
    "sort2(nums) #time O(nlogn), space O(1)"
   ]
  },
  {
   "cell_type": "code",
   "execution_count": 4,
   "id": "657abdb8",
   "metadata": {},
   "outputs": [
    {
     "data": {
      "text/plain": [
       "[1, 2, 3, 5]"
      ]
     },
     "execution_count": 4,
     "metadata": {},
     "output_type": "execute_result"
    }
   ],
   "source": [
    "nums"
   ]
  },
  {
   "cell_type": "code",
   "execution_count": null,
   "id": "db1cfb83",
   "metadata": {},
   "outputs": [],
   "source": []
  }
 ],
 "metadata": {
  "kernelspec": {
   "display_name": "base",
   "language": "python",
   "name": "python3"
  },
  "language_info": {
   "codemirror_mode": {
    "name": "ipython",
    "version": 3
   },
   "file_extension": ".py",
   "mimetype": "text/x-python",
   "name": "python",
   "nbconvert_exporter": "python",
   "pygments_lexer": "ipython3",
   "version": "3.9.7"
  }
 },
 "nbformat": 4,
 "nbformat_minor": 5
}
