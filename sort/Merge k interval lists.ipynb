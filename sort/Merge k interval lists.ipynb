{
 "cells": [
  {
   "cell_type": "code",
   "execution_count": 6,
   "id": "9aee49c2",
   "metadata": {},
   "outputs": [],
   "source": [
    "lists = [[[1,4],[5,7]], [[2,3],[6,9]], [[8,10]]]\n",
    "# Output: [(1,4),(5,10)]"
   ]
  },
  {
   "cell_type": "code",
   "execution_count": null,
   "id": "3ca82cc9",
   "metadata": {},
   "outputs": [
    {
     "data": {
      "text/plain": [
       "[[1, 4], [5, 10]]"
      ]
     },
     "execution_count": 8,
     "metadata": {},
     "output_type": "execute_result"
    }
   ],
   "source": [
    "import heapq\n",
    "def push_back(res, interval):\n",
    "    if not res or res[-1][1] < interval[0]:\n",
    "        res.append(interval)\n",
    "    else:\n",
    "        res[-1][1] = max(res[-1][1], interval[1])\n",
    "\n",
    "def merge_k_intervals_heap(lists):\n",
    "    heap = []\n",
    "    res = []\n",
    "    for i, interval in enumerate(lists):\n",
    "        if interval:\n",
    "            heapq.heappush(heap, (interval[0][0], i, 0))\n",
    "        \n",
    "    while heap:\n",
    "        _, i, j = heapq.heappop(heap)\n",
    "        interval = lists[i][j]\n",
    "        push_back(res, interval)\n",
    "        if j + 1 < len(lists[i]):\n",
    "            heapq.heappush(heap, (lists[i][j + 1][0], i, j + 1))\n",
    "    return res\n",
    "\n",
    "merge_k_intervals_heap(lists) # time O(n * log k), space O(k)\n"
   ]
  },
  {
   "cell_type": "code",
   "execution_count": 10,
   "id": "10b9dc2a",
   "metadata": {},
   "outputs": [
    {
     "data": {
      "text/plain": [
       "[[1, 4], [5, 10]]"
      ]
     },
     "execution_count": 10,
     "metadata": {},
     "output_type": "execute_result"
    }
   ],
   "source": [
    "def merge_two_intervals(A, B):  \n",
    "    m, n = len(A), len(B)\n",
    "    i, j = 0, 0\n",
    "    res = []\n",
    "    while i < m and j < n:\n",
    "        if A[i][0] < B[j][0]:\n",
    "            push_back(res, A[i])\n",
    "            i += 1\n",
    "        else:\n",
    "            push_back(res, B[j])\n",
    "            j += 1\n",
    "    while i < m:\n",
    "        push_back(res, A[i])\n",
    "        i += 1\n",
    "    while j < n:\n",
    "        push_back(res, B[j])\n",
    "        j += 1\n",
    "    return res\n",
    "\n",
    "def merge_k_intervals_divide_conquer(lists):\n",
    "    if not lists:\n",
    "        return []\n",
    "    n = len(lists)\n",
    "    if n == 1:\n",
    "        return lists[0]\n",
    "    mid = n // 2\n",
    "    left = merge_k_intervals_divide_conquer(lists[:mid])\n",
    "    right = merge_k_intervals_divide_conquer(lists[mid:])\n",
    "    return merge_two_intervals(left, right)\n",
    "\n",
    "merge_k_intervals_divide_conquer(lists) # time O(n * log k), space O(log k)\n"
   ]
  }
 ],
 "metadata": {
  "kernelspec": {
   "display_name": "base",
   "language": "python",
   "name": "python3"
  },
  "language_info": {
   "codemirror_mode": {
    "name": "ipython",
    "version": 3
   },
   "file_extension": ".py",
   "mimetype": "text/x-python",
   "name": "python",
   "nbconvert_exporter": "python",
   "pygments_lexer": "ipython3",
   "version": "3.9.7"
  }
 },
 "nbformat": 4,
 "nbformat_minor": 5
}
