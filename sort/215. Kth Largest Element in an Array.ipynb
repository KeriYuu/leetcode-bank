{
 "cells": [
  {
   "cell_type": "code",
   "execution_count": 3,
   "id": "7259727c",
   "metadata": {},
   "outputs": [],
   "source": [
    "nums = [3,2,1,5,6,4]\n",
    "k = 2\n",
    "# Output: 5"
   ]
  },
  {
   "cell_type": "code",
   "execution_count": 4,
   "id": "f501d36a",
   "metadata": {},
   "outputs": [],
   "source": [
    "def quickSelect(nums, start, end, k):\n",
    "    if start == end:\n",
    "        return nums[start]\n",
    "    pivot = nums[(start + end) // 2]\n",
    "    left, right = start, end\n",
    "    while left <= right:\n",
    "        while nums[left] < pivot:\n",
    "            left += 1\n",
    "        while nums[right] > pivot:\n",
    "            right -= 1\n",
    "        if left <= right:\n",
    "            nums[left], nums[right] = nums[right], nums[left]\n",
    "            left += 1\n",
    "            right -= 1\n",
    "    if k <= right:\n",
    "        return quickSelect(nums, start, right, k)\n",
    "    if k >= left:\n",
    "        return quickSelect(nums, left, end, k - (left - start))\n",
    "    return pivot\n",
    "def findKthLargest(nums, k):\n",
    "    n = len(nums)\n",
    "    return quickSelect(nums, 0, n - 1, n - k + 1)\n",
    "\n"
   ]
  },
  {
   "cell_type": "code",
   "execution_count": null,
   "id": "69e3d8fa",
   "metadata": {},
   "outputs": [
    {
     "data": {
      "text/plain": [
       "5"
      ]
     },
     "execution_count": 5,
     "metadata": {},
     "output_type": "execute_result"
    }
   ],
   "source": [
    "findKthLargest(nums, k)\n",
    "# time O(n), space O(1)\n",
    "# average O(n) = O(n) + O(n/2) + ..."
   ]
  },
  {
   "cell_type": "markdown",
   "id": "b14c2cbb",
   "metadata": {},
   "source": []
  }
 ],
 "metadata": {
  "kernelspec": {
   "display_name": "base",
   "language": "python",
   "name": "python3"
  },
  "language_info": {
   "codemirror_mode": {
    "name": "ipython",
    "version": 3
   },
   "file_extension": ".py",
   "mimetype": "text/x-python",
   "name": "python",
   "nbconvert_exporter": "python",
   "pygments_lexer": "ipython3",
   "version": "3.9.7"
  }
 },
 "nbformat": 4,
 "nbformat_minor": 5
}
