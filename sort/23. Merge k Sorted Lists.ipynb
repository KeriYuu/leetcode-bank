{
 "cells": [
  {
   "cell_type": "code",
   "execution_count": 1,
   "id": "9aee49c2",
   "metadata": {},
   "outputs": [],
   "source": [
    "lists = [[1,4,5],[1,3,4],[2,6]]\n",
    "# Output: [1,1,2,3,4,4,5,6]"
   ]
  },
  {
   "cell_type": "code",
   "execution_count": 2,
   "id": "411dc94d",
   "metadata": {},
   "outputs": [],
   "source": [
    "class ListNode:\n",
    "    def __init__(self, num):\n",
    "        self.val = num\n",
    "        self.next = None\n",
    "\n",
    "def build_linked_list(l):\n",
    "    if not l:\n",
    "        return None\n",
    "    nodes = [ListNode(val) for val in l]\n",
    "    for i in range(len(l) - 1):\n",
    "        nodes[i].next = nodes[i + 1]\n",
    "    return nodes[0]\n",
    "\n",
    "def linked_list_to_list(head):\n",
    "    if not head:\n",
    "        return []\n",
    "    res = []\n",
    "    while head:\n",
    "        res.append(head.val)\n",
    "        head = head.next\n",
    "    return res\n",
    "\n",
    "heads = [None] * len(lists)\n",
    "for i in range(len(lists)):\n",
    "    heads[i] = build_linked_list(lists[i])\n",
    "\n",
    "    "
   ]
  },
  {
   "cell_type": "code",
   "execution_count": 3,
   "id": "f5a574e8",
   "metadata": {},
   "outputs": [],
   "source": [
    "def mergeTwoLists(head1, head2):\n",
    "    dummy = ListNode(0)\n",
    "    tail = dummy\n",
    "    while head1 and head2:\n",
    "        if head1.val <= head2.val:\n",
    "            tail.next = head1\n",
    "            head1 = head1.next\n",
    "        else:\n",
    "            tail.next = head2\n",
    "            head2 = head2.next\n",
    "        tail = tail.next\n",
    "    tail.next = head1 or head2\n",
    "    return dummy.next\n",
    "    "
   ]
  },
  {
   "cell_type": "code",
   "execution_count": 4,
   "id": "5e1e81bb",
   "metadata": {},
   "outputs": [
    {
     "data": {
      "text/plain": [
       "[1, 1, 2, 3, 4, 4, 5, 6]"
      ]
     },
     "execution_count": 4,
     "metadata": {},
     "output_type": "execute_result"
    }
   ],
   "source": [
    "def merge_k_lists_naive(heads):\n",
    "    if not heads:\n",
    "        return None\n",
    "    ans = None\n",
    "    for head in heads:\n",
    "        ans = mergeTwoLists(ans, head)\n",
    "    return ans\n",
    "\n",
    "merged_head_naive = merge_k_lists_naive(heads) # time O(n * k), space O(1)\n",
    "linked_list_to_list(merged_head_naive)\n"
   ]
  },
  {
   "cell_type": "code",
   "execution_count": 5,
   "id": "85f3b74c",
   "metadata": {},
   "outputs": [
    {
     "data": {
      "text/plain": [
       "[1, 1, 2, 3, 4, 4, 5, 6]"
      ]
     },
     "execution_count": 5,
     "metadata": {},
     "output_type": "execute_result"
    }
   ],
   "source": [
    "import heapq\n",
    "\n",
    "def merge_k_lists_heap(heads):\n",
    "    if not heads:\n",
    "        return None\n",
    "    min_heap = []\n",
    "    for i, head in enumerate(heads):\n",
    "        if head:\n",
    "            heapq.heappush(min_heap, (head.val, i, head))\n",
    "            \n",
    "    dummy = ListNode(0)\n",
    "    tail = dummy\n",
    "    while min_heap:\n",
    "        val, i, node = heapq.heappop(min_heap)\n",
    "        tail.next = node\n",
    "        tail = tail.next\n",
    "        if tail.next:\n",
    "            heapq.heappush(min_heap, (tail.next.val, i, tail.next))\n",
    "    return dummy.next\n",
    "\n",
    "merged_head_heap = merge_k_lists_heap(heads) # time O(n * log k), space O(k)\n",
    "linked_list_to_list(merged_head_heap)\n",
    "    "
   ]
  },
  {
   "cell_type": "code",
   "execution_count": 4,
   "id": "bd834452",
   "metadata": {},
   "outputs": [
    {
     "data": {
      "text/plain": [
       "[1, 1, 2, 3, 4, 4, 5, 6]"
      ]
     },
     "execution_count": 4,
     "metadata": {},
     "output_type": "execute_result"
    }
   ],
   "source": [
    "def merge_k_lists_divide_conquer(heads):\n",
    "    if not heads:\n",
    "        return None\n",
    "    n = len(heads)\n",
    "    if n == 1:\n",
    "        return heads[0]\n",
    "    mid = n // 2\n",
    "    left = merge_k_lists_divide_conquer(heads[:mid])\n",
    "    right = merge_k_lists_divide_conquer(heads[mid:])\n",
    "    return mergeTwoLists(left, right)\n",
    "\n",
    "merged_head_divide_conquer = merge_k_lists_divide_conquer(heads) # time O(n * log k), space O(k log k), slicing is O(k) stack space is O(log k)\n",
    "linked_list_to_list(merged_head_divide_conquer)\n"
   ]
  },
  {
   "cell_type": "code",
   "execution_count": 4,
   "id": "75bae5e6",
   "metadata": {},
   "outputs": [
    {
     "data": {
      "text/plain": [
       "[1, 1, 2, 3, 4, 4, 5, 6]"
      ]
     },
     "execution_count": 4,
     "metadata": {},
     "output_type": "execute_result"
    }
   ],
   "source": [
    "def merge_k_lists_divide_conquer_efficient(heads):\n",
    "    def solve(lo, hi):\n",
    "        if lo == hi:\n",
    "            return heads[lo]\n",
    "        mid = (lo + hi) // 2\n",
    "        left = solve(lo, mid)\n",
    "        right = solve(mid + 1, hi)\n",
    "        return mergeTwoLists(left, right)\n",
    "    \n",
    "    if not heads:\n",
    "        return None\n",
    "    return solve(0, len(heads) - 1)\n",
    "\n",
    "merged_head_divide_conquer_efficient = merge_k_lists_divide_conquer_efficient(heads) # time O(n * log k), space O(log k)\n",
    "linked_list_to_list(merged_head_divide_conquer_efficient)\n"
   ]
  }
 ],
 "metadata": {
  "kernelspec": {
   "display_name": "base",
   "language": "python",
   "name": "python3"
  },
  "language_info": {
   "codemirror_mode": {
    "name": "ipython",
    "version": 3
   },
   "file_extension": ".py",
   "mimetype": "text/x-python",
   "name": "python",
   "nbconvert_exporter": "python",
   "pygments_lexer": "ipython3",
   "version": "3.9.7"
  }
 },
 "nbformat": 4,
 "nbformat_minor": 5
}
