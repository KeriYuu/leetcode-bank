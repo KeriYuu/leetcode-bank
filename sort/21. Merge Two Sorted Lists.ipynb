{
 "cells": [
  {
   "cell_type": "code",
   "execution_count": 1,
   "id": "9aee49c2",
   "metadata": {},
   "outputs": [],
   "source": [
    "list1 = [1,2,4]\n",
    "list2 = [1,3,4]\n",
    "# Output: [1,1,2,3,4,4]"
   ]
  },
  {
   "cell_type": "code",
   "execution_count": 2,
   "id": "411dc94d",
   "metadata": {},
   "outputs": [],
   "source": [
    "class ListNode:\n",
    "    def __init__(self, num):\n",
    "        self.val = num\n",
    "        self.next = None\n",
    "\n",
    "def build_linked_list(l):\n",
    "    if not l:\n",
    "        return None\n",
    "    nodes = [ListNode(val) for val in l]\n",
    "    for i in range(len(l) - 1):\n",
    "        nodes[i].next = nodes[i + 1]\n",
    "    return nodes[0]\n",
    "\n",
    "def linked_list_to_list(head):\n",
    "    if not head:\n",
    "        return []\n",
    "    res = []\n",
    "    while head:\n",
    "        res.append(head.val)\n",
    "        head = head.next\n",
    "    return res\n",
    "    \n",
    "head1 = build_linked_list(list1)\n",
    "head2 = build_linked_list(list2)\n",
    "    "
   ]
  },
  {
   "cell_type": "code",
   "execution_count": null,
   "id": "b4e5aec9",
   "metadata": {},
   "outputs": [
    {
     "name": "stdout",
     "output_type": "stream",
     "text": [
      "[1, 1, 2, 3, 4, 4]\n"
     ]
    }
   ],
   "source": [
    "def mergeTwoLists(head1, head2):\n",
    "    dummy = ListNode(0)\n",
    "    tail = dummy\n",
    "    while head1 and head2:\n",
    "        if head1.val <= head2.val:\n",
    "            tail.next = head1\n",
    "            head1 = head1.next\n",
    "        else:\n",
    "            tail.next = head2\n",
    "            head2 = head2.next\n",
    "        tail = tail.next\n",
    "    tail.next = head1 or head2\n",
    "    return dummy.next\n",
    "\n",
    "merged_head = mergeTwoLists(head1, head2) # time O(n + m), space O(1)\n",
    "merged_list = linked_list_to_list(merged_head)\n",
    "print(merged_list)\n"
   ]
  }
 ],
 "metadata": {
  "kernelspec": {
   "display_name": "base",
   "language": "python",
   "name": "python3"
  },
  "language_info": {
   "codemirror_mode": {
    "name": "ipython",
    "version": 3
   },
   "file_extension": ".py",
   "mimetype": "text/x-python",
   "name": "python",
   "nbconvert_exporter": "python",
   "pygments_lexer": "ipython3",
   "version": "3.9.7"
  }
 },
 "nbformat": 4,
 "nbformat_minor": 5
}
