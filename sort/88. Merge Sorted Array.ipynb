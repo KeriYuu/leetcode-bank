{
 "cells": [
  {
   "cell_type": "code",
   "execution_count": 1,
   "id": "7259727c",
   "metadata": {},
   "outputs": [],
   "source": [
    "nums1 = [1,2,3,0,0,0]\n",
    "nums2 = [2,5,6]\n",
    "m = 3\n",
    "n = 3\n",
    "# Output: [1,2,2,3,5,6]"
   ]
  },
  {
   "cell_type": "code",
   "execution_count": 2,
   "id": "f501d36a",
   "metadata": {},
   "outputs": [],
   "source": [
    "def merge(nums1, m, nums2, n):\n",
    "    idx = m + n - 1\n",
    "    tail1, tail2 = m - 1, n - 1\n",
    "    while tail1 >= 0 and tail2 >= 0:\n",
    "        if nums1[tail1] >= nums2[tail2]:\n",
    "            nums1[idx] = nums1[tail1]\n",
    "            idx -= 1\n",
    "            tail1 -= 1\n",
    "        else:\n",
    "            nums1[idx] = nums2[tail2]\n",
    "            idx -= 1\n",
    "            tail2 -= 1\n",
    "    while tail1 >= 0:\n",
    "        nums1[idx] = nums1[tail1]\n",
    "        idx -= 1\n",
    "        tail1 -= 1\n",
    "\n",
    "    while tail2 >= 0:\n",
    "        nums1[idx] = nums2[tail2]\n",
    "        idx -= 1\n",
    "        tail2 -= 1\n",
    "\n",
    "    return nums1"
   ]
  },
  {
   "cell_type": "code",
   "execution_count": 3,
   "id": "69e3d8fa",
   "metadata": {},
   "outputs": [
    {
     "data": {
      "text/plain": [
       "[1, 2, 2, 3, 5, 6]"
      ]
     },
     "execution_count": 3,
     "metadata": {},
     "output_type": "execute_result"
    }
   ],
   "source": [
    "merge(nums1, m, nums2, n)"
   ]
  },
  {
   "cell_type": "markdown",
   "id": "b14c2cbb",
   "metadata": {},
   "source": [
    "time O(n), space O(1)"
   ]
  }
 ],
 "metadata": {
  "kernelspec": {
   "display_name": "base",
   "language": "python",
   "name": "python3"
  },
  "language_info": {
   "codemirror_mode": {
    "name": "ipython",
    "version": 3
   },
   "file_extension": ".py",
   "mimetype": "text/x-python",
   "name": "python",
   "nbconvert_exporter": "python",
   "pygments_lexer": "ipython3",
   "version": "3.9.7"
  }
 },
 "nbformat": 4,
 "nbformat_minor": 5
}
