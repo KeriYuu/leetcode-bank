{
 "cells": [
  {
   "cell_type": "code",
   "execution_count": 5,
   "id": "7259727c",
   "metadata": {},
   "outputs": [],
   "source": [
    "tree = [1,2,2,3,3,None,None,4,4]\n",
    "# Output: false"
   ]
  },
  {
   "cell_type": "code",
   "execution_count": 6,
   "id": "dda497e8",
   "metadata": {},
   "outputs": [
    {
     "name": "stdout",
     "output_type": "stream",
     "text": [
      "[1, 2, 2, 3, 3, None, None, 4, 4]\n"
     ]
    }
   ],
   "source": [
    "from collections import deque\n",
    "\n",
    "class TreeNode:\n",
    "    def __init__(self, val=0, left=None, right=None):\n",
    "        self.val = val\n",
    "        self.left = left\n",
    "        self.right = right\n",
    "\n",
    "def buildTree(arr):\n",
    "    if not arr:\n",
    "        return None\n",
    "    root = TreeNode(arr[0])\n",
    "    queue = deque([root])\n",
    "    n = len(arr)\n",
    "    i = 1\n",
    "    while queue:\n",
    "        node = queue.popleft()\n",
    "        if i < n and arr[i] is not None:\n",
    "            node.left = TreeNode(arr[i])\n",
    "            queue.append(node.left)\n",
    "        i += 1\n",
    "        if i < n and arr[i] is not None:\n",
    "            node.right = TreeNode(arr[i])\n",
    "            queue.append(node.right)\n",
    "        i += 1\n",
    "    return root\n",
    "\n",
    "def serialize(root):\n",
    "    if not root:\n",
    "        return []\n",
    "    queue = deque([root])\n",
    "    result = []\n",
    "    while queue:\n",
    "        node = queue.popleft()\n",
    "        if node:\n",
    "            result.append(node.val)\n",
    "            queue.append(node.left)\n",
    "            queue.append(node.right)\n",
    "        else:\n",
    "            result.append(None)\n",
    "    while result and result[-1] is None:\n",
    "        result.pop()\n",
    "    return result\n",
    "\n",
    "root = buildTree(tree)\n",
    "print(serialize(root))\n",
    "\n"
   ]
  },
  {
   "cell_type": "code",
   "execution_count": null,
   "id": "e81387fa",
   "metadata": {},
   "outputs": [],
   "source": [
    "def isBalanced(root):\n",
    "    flag, height = treeHeight(root)\n",
    "    return flag\n",
    "\n",
    "def treeHeight(root):\n",
    "    if not root:\n",
    "        return True, 0\n",
    "    left_flag, left_height = treeHeight(root.left)\n",
    "    right_flag, right_height = treeHeight(root.right)\n",
    "    flag = left_flag and right_flag and abs(left_height - right_height) <= 1\n",
    "    return flag, max(left_height, right_height) + 1\n",
    "        "
   ]
  },
  {
   "cell_type": "code",
   "execution_count": null,
   "id": "1a973e21",
   "metadata": {},
   "outputs": [],
   "source": [
    "isBalanced(root) # time: O(n), space: O(h)"
   ]
  }
 ],
 "metadata": {
  "kernelspec": {
   "display_name": "base",
   "language": "python",
   "name": "python3"
  },
  "language_info": {
   "codemirror_mode": {
    "name": "ipython",
    "version": 3
   },
   "file_extension": ".py",
   "mimetype": "text/x-python",
   "name": "python",
   "nbconvert_exporter": "python",
   "pygments_lexer": "ipython3",
   "version": "3.9.7"
  }
 },
 "nbformat": 4,
 "nbformat_minor": 5
}
