{
 "cells": [
  {
   "cell_type": "code",
   "execution_count": 1,
   "id": "29d40800",
   "metadata": {},
   "outputs": [],
   "source": [
    "tree = [1,2,5,3,4,None,6]\n",
    "# Output: [1,null,2,null,3,null,4,null,5,null,6]"
   ]
  },
  {
   "cell_type": "code",
   "execution_count": 2,
   "id": "6f28d491",
   "metadata": {},
   "outputs": [
    {
     "name": "stdout",
     "output_type": "stream",
     "text": [
      "[1, 2, 5, 3, 4, None, 6]\n"
     ]
    }
   ],
   "source": [
    "from collections import deque\n",
    "\n",
    "class TreeNode:\n",
    "    def __init__(self, val=0, left=None, right=None):\n",
    "        self.val = val\n",
    "        self.left = left\n",
    "        self.right = right\n",
    "\n",
    "def buildTree(arr):\n",
    "    if not arr:\n",
    "        return None\n",
    "    root = TreeNode(arr[0])\n",
    "    queue = deque([root])\n",
    "    n = len(arr)\n",
    "    i = 1\n",
    "    while queue:\n",
    "        node = queue.popleft()\n",
    "        if i < n and arr[i] is not None:\n",
    "            node.left = TreeNode(arr[i])\n",
    "            queue.append(node.left)\n",
    "        i += 1\n",
    "        if i < n and arr[i] is not None:\n",
    "            node.right = TreeNode(arr[i])\n",
    "            queue.append(node.right)\n",
    "        i += 1\n",
    "    return root\n",
    "\n",
    "def serialize(root):\n",
    "    if not root:\n",
    "        return []\n",
    "    queue = deque([root])\n",
    "    result = []\n",
    "    while queue:\n",
    "        node = queue.popleft()\n",
    "        if node:\n",
    "            result.append(node.val)\n",
    "            queue.append(node.left)\n",
    "            queue.append(node.right)\n",
    "        else:\n",
    "            result.append(None)\n",
    "    while result and result[-1] is None:\n",
    "        result.pop()\n",
    "    return result\n",
    "\n",
    "root = buildTree(tree)\n",
    "print(serialize(root))\n",
    "\n"
   ]
  },
  {
   "cell_type": "code",
   "execution_count": 3,
   "id": "183ae26b",
   "metadata": {},
   "outputs": [
    {
     "name": "stdout",
     "output_type": "stream",
     "text": [
      "[1, None, 2, None, 3, None, 4, None, 5, None, 6]\n"
     ]
    }
   ],
   "source": [
    "def flatten(root):\n",
    "    if not root:\n",
    "        return None\n",
    "    stack = [root]\n",
    "    prev = None\n",
    "    while stack:\n",
    "        node = stack.pop()\n",
    "        if prev:\n",
    "            prev.left = None\n",
    "            prev.right = node\n",
    "        if node.right:\n",
    "            stack.append(node.right)\n",
    "        if node.left:\n",
    "            stack.append(node.left)\n",
    "        prev = node\n",
    "    return root\n",
    "\n",
    "flatten(root) # time: O(n), space: O(n)\n",
    "print(serialize(root))\n",
    "            "
   ]
  },
  {
   "cell_type": "code",
   "execution_count": 4,
   "id": "9d371386",
   "metadata": {},
   "outputs": [
    {
     "name": "stdout",
     "output_type": "stream",
     "text": [
      "[1, None, 2, None, 3, None, 4, None, 5, None, 6]\n"
     ]
    }
   ],
   "source": [
    "def recursive_helper(root):\n",
    "    if not root:\n",
    "        return None\n",
    "    left_tail = recursive_helper(root.left)\n",
    "    right_tail = recursive_helper(root.right)\n",
    "    if left_tail:\n",
    "        left_tail.right = root.right\n",
    "        root.right = root.left\n",
    "        root.left = None\n",
    "    return right_tail or left_tail or root\n",
    "\n",
    "def flatten_recursive(root):\n",
    "    recursive_helper(root)\n",
    "\n",
    "flatten_recursive(root) # time: O(n), space: O(n)\n",
    "print(serialize(root))\n",
    "    "
   ]
  }
 ],
 "metadata": {
  "kernelspec": {
   "display_name": "base",
   "language": "python",
   "name": "python3"
  },
  "language_info": {
   "codemirror_mode": {
    "name": "ipython",
    "version": 3
   },
   "file_extension": ".py",
   "mimetype": "text/x-python",
   "name": "python",
   "nbconvert_exporter": "python",
   "pygments_lexer": "ipython3",
   "version": "3.9.7"
  }
 },
 "nbformat": 4,
 "nbformat_minor": 5
}
