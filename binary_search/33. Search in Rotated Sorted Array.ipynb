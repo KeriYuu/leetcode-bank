{
 "cells": [
  {
   "cell_type": "code",
   "execution_count": 4,
   "id": "7259727c",
   "metadata": {},
   "outputs": [],
   "source": [
    "nums = [4,5,6,7,0,1,2]\n",
    "target = 0\n",
    "# Output: 4"
   ]
  },
  {
   "cell_type": "code",
   "execution_count": 5,
   "id": "9934564d",
   "metadata": {},
   "outputs": [],
   "source": [
    "def search(nums, target):\n",
    "    start, end = 0, len(nums) - 1\n",
    "    while start + 1 < end:\n",
    "        mid = (start + end) // 2\n",
    "        if nums[mid] >= nums[end]:\n",
    "            if nums[start] <= target <= nums[mid]:\n",
    "                end = mid\n",
    "            else:\n",
    "                start = mid\n",
    "        else:\n",
    "            if nums[mid] <= target <= nums[end]:\n",
    "                start = mid\n",
    "            else:\n",
    "                end = mid\n",
    "    if nums[start] == target:\n",
    "        return start\n",
    "    if nums[end] == target:\n",
    "        return end\n",
    "    return -1\n",
    "                "
   ]
  },
  {
   "cell_type": "code",
   "execution_count": 6,
   "id": "69e3d8fa",
   "metadata": {},
   "outputs": [
    {
     "data": {
      "text/plain": [
       "4"
      ]
     },
     "execution_count": 6,
     "metadata": {},
     "output_type": "execute_result"
    }
   ],
   "source": [
    "search(nums, target) # time O(logn), space O(1)"
   ]
  }
 ],
 "metadata": {
  "kernelspec": {
   "display_name": "base",
   "language": "python",
   "name": "python3"
  },
  "language_info": {
   "codemirror_mode": {
    "name": "ipython",
    "version": 3
   },
   "file_extension": ".py",
   "mimetype": "text/x-python",
   "name": "python",
   "nbconvert_exporter": "python",
   "pygments_lexer": "ipython3",
   "version": "3.9.7"
  }
 },
 "nbformat": 4,
 "nbformat_minor": 5
}
