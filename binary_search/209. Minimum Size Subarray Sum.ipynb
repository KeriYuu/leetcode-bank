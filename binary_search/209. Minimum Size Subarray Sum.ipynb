{
 "cells": [
  {
   "cell_type": "code",
   "execution_count": 1,
   "id": "7259727c",
   "metadata": {},
   "outputs": [],
   "source": [
    "target = 7\n",
    "nums = [2,3,1,2,4,3]\n",
    "# Output: 2"
   ]
  },
  {
   "cell_type": "code",
   "execution_count": 3,
   "id": "3fa64f85",
   "metadata": {},
   "outputs": [
    {
     "data": {
      "text/plain": [
       "2"
      ]
     },
     "execution_count": 3,
     "metadata": {},
     "output_type": "execute_result"
    }
   ],
   "source": [
    "def build_prefix_sum(nums):\n",
    "    prefix_sum = [0] * (len(nums) + 1)\n",
    "    for i in range(1, len(nums) + 1):\n",
    "        prefix_sum[i] = prefix_sum[i - 1] + nums[i - 1]\n",
    "    return prefix_sum\n",
    "\n",
    "def binary_search(prefix_sum, start, end, target):\n",
    "    left, right = start, end\n",
    "    while left + 1 < right:\n",
    "        mid = (left + right) // 2\n",
    "        current_sum = prefix_sum[mid + 1] - prefix_sum[start]\n",
    "        if current_sum < target:\n",
    "            left = mid\n",
    "        else:\n",
    "            right = mid\n",
    "    if prefix_sum[right + 1] - prefix_sum[start] >= target:\n",
    "        return right\n",
    "    if prefix_sum[left + 1] - prefix_sum[start] >= target:\n",
    "        return left\n",
    "    return float('inf')\n",
    "\n",
    "def minSubArrayLen(nums, target):\n",
    "    n = len(nums)\n",
    "    ans = float('inf')\n",
    "    prefix_sum = build_prefix_sum(nums)\n",
    "\n",
    "    for start in range(n):\n",
    "        end = binary_search(prefix_sum, start, n - 1, target)\n",
    "        ans = min(ans, end - start + 1)\n",
    "\n",
    "    return ans if ans != float('inf') else 0\n",
    "\n",
    "minSubArrayLen(nums, target) # time O(nlogn), space O(n)\n"
   ]
  }
 ],
 "metadata": {
  "kernelspec": {
   "display_name": "base",
   "language": "python",
   "name": "python3"
  },
  "language_info": {
   "codemirror_mode": {
    "name": "ipython",
    "version": 3
   },
   "file_extension": ".py",
   "mimetype": "text/x-python",
   "name": "python",
   "nbconvert_exporter": "python",
   "pygments_lexer": "ipython3",
   "version": "3.9.7"
  }
 },
 "nbformat": 4,
 "nbformat_minor": 5
}
