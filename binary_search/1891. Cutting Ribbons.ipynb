{
 "cells": [
  {
   "cell_type": "code",
   "execution_count": 1,
   "id": "9cd57b03",
   "metadata": {},
   "outputs": [],
   "source": [
    "ribbons = [232, 124, 456]\n",
    "k = 7\n",
    "# Output: 114"
   ]
  },
  {
   "cell_type": "code",
   "execution_count": 2,
   "id": "cc6e8312",
   "metadata": {},
   "outputs": [
    {
     "data": {
      "text/plain": [
       "114"
      ]
     },
     "execution_count": 2,
     "metadata": {},
     "output_type": "execute_result"
    }
   ],
   "source": [
    "def maxLength(ribbons, k):\n",
    "    if k > sum(ribbons):\n",
    "        return 0\n",
    "    start, end = 0, min(max(ribbons), sum(ribbons) // k)\n",
    "    while start + 1 < end:\n",
    "        mid = (start + end) // 2\n",
    "        count = find_count(ribbons, mid)\n",
    "        if count < k:\n",
    "            end = mid\n",
    "        else:\n",
    "            start = mid\n",
    "    if find_count(ribbons, end) >= k:\n",
    "        return end\n",
    "    return start\n",
    "\n",
    "def find_count(ribbons, length):\n",
    "    count = 0\n",
    "    for ribbon in ribbons:\n",
    "        count += ribbon // length\n",
    "    return count\n",
    "\n",
    "maxLength(ribbons, k) # time O(nlogm), space O(1)\n",
    "\n"
   ]
  }
 ],
 "metadata": {
  "kernelspec": {
   "display_name": "base",
   "language": "python",
   "name": "python3"
  },
  "language_info": {
   "codemirror_mode": {
    "name": "ipython",
    "version": 3
   },
   "file_extension": ".py",
   "mimetype": "text/x-python",
   "name": "python",
   "nbconvert_exporter": "python",
   "pygments_lexer": "ipython3",
   "version": "3.9.7"
  }
 },
 "nbformat": 4,
 "nbformat_minor": 5
}
