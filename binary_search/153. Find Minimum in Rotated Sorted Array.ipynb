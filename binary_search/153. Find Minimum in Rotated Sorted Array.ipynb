{
 "cells": [
  {
   "cell_type": "code",
   "execution_count": 1,
   "id": "7259727c",
   "metadata": {},
   "outputs": [],
   "source": [
    "nums = [3,4,5,1,2]\n",
    "# Output: 1"
   ]
  },
  {
   "cell_type": "code",
   "execution_count": 2,
   "id": "3b7a8679",
   "metadata": {},
   "outputs": [],
   "source": [
    "def findMin(nums):\n",
    "    start, end = 0, len(nums) - 1\n",
    "    while start + 1 < end:\n",
    "        mid = (start + end) // 2\n",
    "        if nums[mid] >= nums[end]:\n",
    "            start = mid \n",
    "        else:\n",
    "            end = mid\n",
    "    return min(nums[start], nums[end])"
   ]
  },
  {
   "cell_type": "code",
   "execution_count": 3,
   "id": "69e3d8fa",
   "metadata": {},
   "outputs": [
    {
     "data": {
      "text/plain": [
       "1"
      ]
     },
     "execution_count": 3,
     "metadata": {},
     "output_type": "execute_result"
    }
   ],
   "source": [
    "findMin(nums) # time O(logn), space O(1)"
   ]
  }
 ],
 "metadata": {
  "kernelspec": {
   "display_name": "base",
   "language": "python",
   "name": "python3"
  },
  "language_info": {
   "codemirror_mode": {
    "name": "ipython",
    "version": 3
   },
   "file_extension": ".py",
   "mimetype": "text/x-python",
   "name": "python",
   "nbconvert_exporter": "python",
   "pygments_lexer": "ipython3",
   "version": "3.9.7"
  }
 },
 "nbformat": 4,
 "nbformat_minor": 5
}
