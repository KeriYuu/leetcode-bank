{
 "cells": [
  {
   "cell_type": "code",
   "execution_count": 1,
   "id": "7259727c",
   "metadata": {},
   "outputs": [],
   "source": [
    "x = 8\n",
    "# Output: 2"
   ]
  },
  {
   "cell_type": "code",
   "execution_count": 2,
   "id": "3b7a8679",
   "metadata": {},
   "outputs": [],
   "source": [
    "def mySqrt(x):\n",
    "    if x == 0:\n",
    "        return 0\n",
    "    start, end = 1, x\n",
    "    while start + 1 < end:\n",
    "        mid = (start + end) // 2\n",
    "        if mid * mid > x:\n",
    "            end = mid\n",
    "        else:\n",
    "            start = mid\n",
    "    if end * end <= x:\n",
    "        return end\n",
    "    return start"
   ]
  },
  {
   "cell_type": "code",
   "execution_count": 3,
   "id": "69e3d8fa",
   "metadata": {},
   "outputs": [
    {
     "data": {
      "text/plain": [
       "2"
      ]
     },
     "execution_count": 3,
     "metadata": {},
     "output_type": "execute_result"
    }
   ],
   "source": [
    "mySqrt(x) # time O(logn), space O(1)"
   ]
  }
 ],
 "metadata": {
  "kernelspec": {
   "display_name": "base",
   "language": "python",
   "name": "python3"
  },
  "language_info": {
   "codemirror_mode": {
    "name": "ipython",
    "version": 3
   },
   "file_extension": ".py",
   "mimetype": "text/x-python",
   "name": "python",
   "nbconvert_exporter": "python",
   "pygments_lexer": "ipython3",
   "version": "3.9.7"
  }
 },
 "nbformat": 4,
 "nbformat_minor": 5
}
