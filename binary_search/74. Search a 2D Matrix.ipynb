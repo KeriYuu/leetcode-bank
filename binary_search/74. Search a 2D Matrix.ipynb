{
 "cells": [
  {
   "cell_type": "code",
   "execution_count": 4,
   "id": "7259727c",
   "metadata": {},
   "outputs": [],
   "source": [
    "matrix = [[1,3,5,7],[10,11,16,20],[23,30,34,60]]\n",
    "target = 3\n",
    "# Output: true"
   ]
  },
  {
   "cell_type": "code",
   "execution_count": 5,
   "id": "69e3d8fa",
   "metadata": {},
   "outputs": [
    {
     "data": {
      "text/plain": [
       "True"
      ]
     },
     "execution_count": 5,
     "metadata": {},
     "output_type": "execute_result"
    }
   ],
   "source": [
    "def index_to_value(index, matrix):\n",
    "    m, n = len(matrix), len(matrix[0])\n",
    "    return matrix[index // n][index % n]\n",
    "def searchMatrix(matrix, target):\n",
    "    m, n = len(matrix), len(matrix[0])\n",
    "    N = m * n\n",
    "    start, end = 0, N - 1\n",
    "    while start + 1 < end:\n",
    "        mid = (start + end) // 2\n",
    "        if index_to_value(mid, matrix) <= target:\n",
    "            start = mid\n",
    "        else:\n",
    "            end = mid\n",
    "    if index_to_value(start, matrix) == target or index_to_value(end, matrix) == target:\n",
    "        return True\n",
    "    return False\n",
    "searchMatrix(matrix, target) # time O(logmn), space O(1)\n",
    "            "
   ]
  }
 ],
 "metadata": {
  "kernelspec": {
   "display_name": "base",
   "language": "python",
   "name": "python3"
  },
  "language_info": {
   "codemirror_mode": {
    "name": "ipython",
    "version": 3
   },
   "file_extension": ".py",
   "mimetype": "text/x-python",
   "name": "python",
   "nbconvert_exporter": "python",
   "pygments_lexer": "ipython3",
   "version": "3.9.7"
  }
 },
 "nbformat": 4,
 "nbformat_minor": 5
}
