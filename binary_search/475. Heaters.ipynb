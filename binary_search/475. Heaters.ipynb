{
 "cells": [
  {
   "cell_type": "code",
   "execution_count": 1,
   "id": "5693365a",
   "metadata": {},
   "outputs": [],
   "source": [
    "houses = [1,2,3]\n",
    "heaters = [2]\n",
    "# Output: 1"
   ]
  },
  {
   "cell_type": "code",
   "execution_count": 2,
   "id": "b7fa8471",
   "metadata": {},
   "outputs": [
    {
     "data": {
      "text/plain": [
       "1"
      ]
     },
     "execution_count": 2,
     "metadata": {},
     "output_type": "execute_result"
    }
   ],
   "source": [
    "def findRadius(houses, heaters):\n",
    "    heaters.sort()\n",
    "    radius = 0\n",
    "    for house in houses:\n",
    "        curr_radius = find_closest_heater(house, heaters)\n",
    "        radius = max(radius, curr_radius)\n",
    "    return radius\n",
    "\n",
    "def find_closest_heater(house, heaters):\n",
    "    left, right = 0, len(heaters) - 1\n",
    "    while left + 1 < right:\n",
    "        mid = (left + right) // 2\n",
    "        if heaters[mid] < house:\n",
    "            left = mid\n",
    "        else:\n",
    "            right = mid\n",
    "    return min(abs(heaters[left] - house), abs(heaters[right] - house))\n",
    "\n",
    "findRadius(houses, heaters) # time O(nlogn + nlogm), space O(1)"
   ]
  }
 ],
 "metadata": {
  "kernelspec": {
   "display_name": "base",
   "language": "python",
   "name": "python3"
  },
  "language_info": {
   "codemirror_mode": {
    "name": "ipython",
    "version": 3
   },
   "file_extension": ".py",
   "mimetype": "text/x-python",
   "name": "python",
   "nbconvert_exporter": "python",
   "pygments_lexer": "ipython3",
   "version": "3.9.7"
  }
 },
 "nbformat": 4,
 "nbformat_minor": 5
}
