{
 "cells": [
  {
   "cell_type": "code",
   "execution_count": 3,
   "id": "69fe92f0",
   "metadata": {},
   "outputs": [],
   "source": [
    "image = [\"0010\",\"0110\",\"0100\"]\n",
    "x=0\n",
    "y=2\n",
    "# Output: 6"
   ]
  },
  {
   "cell_type": "code",
   "execution_count": 4,
   "id": "08c73389",
   "metadata": {},
   "outputs": [
    {
     "data": {
      "text/plain": [
       "6"
      ]
     },
     "execution_count": 4,
     "metadata": {},
     "output_type": "execute_result"
    }
   ],
   "source": [
    "def min_area(image, x, y):\n",
    "    m, n = len(image), len(image[0])\n",
    "    left = find_first(image, 0, y, check_column)\n",
    "    right = find_last(image, y, n - 1, check_column)\n",
    "    top = find_first(image, 0, x, check_row)\n",
    "    bottom = find_last(image, x, m - 1, check_row)\n",
    "    return (right - left + 1) * (bottom - top + 1)\n",
    "\n",
    "def find_first(image, start, end, check_func):\n",
    "    while start + 1 < end:\n",
    "        mid = (start + end) // 2\n",
    "        if check_func(image, mid):\n",
    "            end = mid\n",
    "        else:\n",
    "            start = mid\n",
    "    if check_func(image, start):\n",
    "        return start\n",
    "    return end\n",
    "def find_last(image, start, end, check_func):\n",
    "    while start + 1 < end:\n",
    "        mid = (start + end) // 2\n",
    "        if check_func(image, mid):\n",
    "            start = mid\n",
    "        else:\n",
    "            end = mid\n",
    "    if check_func(image, end):\n",
    "        return end\n",
    "    return start\n",
    "\n",
    "def check_row(image, row):\n",
    "    for j in range(len(image[0])):\n",
    "        if image[row][j] == '1':\n",
    "            return True\n",
    "    return False\n",
    "\n",
    "def check_column(image, col):\n",
    "    for i in range(len(image)):\n",
    "        if image[i][col] == '1':\n",
    "            return True\n",
    "    return False\n",
    "\n",
    "    \n",
    "min_area(image, x, y)\n",
    "                "
   ]
  }
 ],
 "metadata": {
  "kernelspec": {
   "display_name": "base",
   "language": "python",
   "name": "python3"
  },
  "language_info": {
   "codemirror_mode": {
    "name": "ipython",
    "version": 3
   },
   "file_extension": ".py",
   "mimetype": "text/x-python",
   "name": "python",
   "nbconvert_exporter": "python",
   "pygments_lexer": "ipython3",
   "version": "3.9.7"
  }
 },
 "nbformat": 4,
 "nbformat_minor": 5
}
