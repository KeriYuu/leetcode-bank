{
 "cells": [
  {
   "cell_type": "code",
   "execution_count": 3,
   "id": "7259727c",
   "metadata": {},
   "outputs": [],
   "source": [
    "nums = [7,2,5,10,8]\n",
    "k = 2\n",
    "# Output: 18"
   ]
  },
  {
   "cell_type": "code",
   "execution_count": 4,
   "id": "53443b54",
   "metadata": {},
   "outputs": [
    {
     "data": {
      "text/plain": [
       "18"
      ]
     },
     "execution_count": 4,
     "metadata": {},
     "output_type": "execute_result"
    }
   ],
   "source": [
    "def need_split(nums, limit):\n",
    "    count = 1\n",
    "    cur_sum = 0\n",
    "    for num in nums:\n",
    "        if cur_sum + num > limit:\n",
    "            count += 1\n",
    "            cur_sum = 0\n",
    "        cur_sum += num\n",
    "\n",
    "    return count\n",
    "            \n",
    "def splitArray(nums, k):\n",
    "    start, end = max(nums), sum(nums)\n",
    "    while start + 1 < end:\n",
    "        mid = (start + end) // 2\n",
    "        if need_split(nums, mid) > k:\n",
    "            start = mid\n",
    "        else:\n",
    "            end = mid\n",
    "\n",
    "    if need_split(nums, start) <= k:\n",
    "        return start\n",
    "    return end\n",
    "\n",
    "splitArray(nums, k) # time: O(n * log(sum(nums))), space: O(1)"
   ]
  }
 ],
 "metadata": {
  "kernelspec": {
   "display_name": "base",
   "language": "python",
   "name": "python3"
  },
  "language_info": {
   "codemirror_mode": {
    "name": "ipython",
    "version": 3
   },
   "file_extension": ".py",
   "mimetype": "text/x-python",
   "name": "python",
   "nbconvert_exporter": "python",
   "pygments_lexer": "ipython3",
   "version": "3.9.7"
  }
 },
 "nbformat": 4,
 "nbformat_minor": 5
}
