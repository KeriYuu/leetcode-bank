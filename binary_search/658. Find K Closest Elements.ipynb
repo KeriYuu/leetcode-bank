{
 "cells": [
  {
   "cell_type": "code",
   "execution_count": 4,
   "id": "7259727c",
   "metadata": {},
   "outputs": [],
   "source": [
    "arr = [1,2,3,4,5]\n",
    "k = 4\n",
    "x = 3\n",
    "\n",
    "# Output: [1,2,3,4]"
   ]
  },
  {
   "cell_type": "code",
   "execution_count": 5,
   "id": "3b7a8679",
   "metadata": {},
   "outputs": [],
   "source": [
    "def bisect_right(arr, x):\n",
    "    left, right = 0, len(arr) - 1\n",
    "    while left + 1 < right:\n",
    "        mid = (left + right) // 2\n",
    "        if arr[mid] <= x:\n",
    "            left = mid\n",
    "        else:\n",
    "            right = mid\n",
    "    if arr[left] >= x:\n",
    "        return left\n",
    "    if arr[right] >= x:\n",
    "        return right\n",
    "    return len(arr) - 1\n",
    "\n",
    "def findClosestElements(arr, k, x):\n",
    "    first_greater = bisect_right(arr, x)\n",
    "    left, right = first_greater - 1, first_greater\n",
    "    count = 0\n",
    "    while left >= 0 and right < len(arr) and count < k:\n",
    "        if abs(arr[left] - x) <= abs(arr[right] - x):\n",
    "            left -= 1\n",
    "        else:\n",
    "            right += 1\n",
    "        count += 1\n",
    "    while count < k and left >= 0:\n",
    "        left -= 1\n",
    "        count += 1\n",
    "    while count < k and right < len(arr):\n",
    "        right += 1\n",
    "        count += 1\n",
    "    return arr[left + 1:right]\n"
   ]
  },
  {
   "cell_type": "code",
   "execution_count": 6,
   "id": "69e3d8fa",
   "metadata": {},
   "outputs": [
    {
     "data": {
      "text/plain": [
       "[1, 2, 3, 4]"
      ]
     },
     "execution_count": 6,
     "metadata": {},
     "output_type": "execute_result"
    }
   ],
   "source": [
    "findClosestElements(arr, k, x) # time O(n), space O(1)"
   ]
  }
 ],
 "metadata": {
  "kernelspec": {
   "display_name": "base",
   "language": "python",
   "name": "python3"
  },
  "language_info": {
   "codemirror_mode": {
    "name": "ipython",
    "version": 3
   },
   "file_extension": ".py",
   "mimetype": "text/x-python",
   "name": "python",
   "nbconvert_exporter": "python",
   "pygments_lexer": "ipython3",
   "version": "3.9.7"
  }
 },
 "nbformat": 4,
 "nbformat_minor": 5
}
