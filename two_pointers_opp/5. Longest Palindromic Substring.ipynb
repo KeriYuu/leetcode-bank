{
 "cells": [
  {
   "cell_type": "code",
   "execution_count": 7,
   "id": "7259727c",
   "metadata": {},
   "outputs": [],
   "source": [
    "s = \"babad\"\n",
    "# Output: \"bab\""
   ]
  },
  {
   "cell_type": "code",
   "execution_count": null,
   "id": "01ecfd7b",
   "metadata": {},
   "outputs": [],
   "source": [
    "def _expand(s, left, right):\n",
    "    while left >= 0 and right < len(s) and s[left] == s[right]:\n",
    "        left -= 1\n",
    "        right += 1\n",
    "    return left + 1, right - 1\n",
    "\n",
    "def longestPalindrome(s):\n",
    "    if not s:\n",
    "        return \"\"\n",
    "    n = len(s)\n",
    "    start, end = 0, 0\n",
    "    for i in range(n):\n",
    "        l_odd, r_odd = _expand(s, i, i)\n",
    "        l_even, r_even = _expand(s, i, i + 1)\n",
    "        if (r_odd - l_odd) > (end - start):\n",
    "            start, end = l_odd, r_odd\n",
    "        if (r_even - l_even) > (end - start):\n",
    "            start, end = l_even, r_even\n",
    "    return s[start: end+1]\n",
    "    "
   ]
  },
  {
   "cell_type": "code",
   "execution_count": 9,
   "id": "3ca6b673",
   "metadata": {},
   "outputs": [
    {
     "data": {
      "text/plain": [
       "'bab'"
      ]
     },
     "execution_count": 9,
     "metadata": {},
     "output_type": "execute_result"
    }
   ],
   "source": [
    "longestPalindrome(s)"
   ]
  },
  {
   "cell_type": "markdown",
   "id": "b14c2cbb",
   "metadata": {},
   "source": [
    "time O(n**2), space O(1)"
   ]
  }
 ],
 "metadata": {
  "kernelspec": {
   "display_name": "base",
   "language": "python",
   "name": "python3"
  },
  "language_info": {
   "codemirror_mode": {
    "name": "ipython",
    "version": 3
   },
   "file_extension": ".py",
   "mimetype": "text/x-python",
   "name": "python",
   "nbconvert_exporter": "python",
   "pygments_lexer": "ipython3",
   "version": "3.9.7"
  }
 },
 "nbformat": 4,
 "nbformat_minor": 5
}
