{
 "cells": [
  {
   "cell_type": "code",
   "execution_count": 3,
   "id": "7259727c",
   "metadata": {},
   "outputs": [],
   "source": [
    "nums = [2,7,11,15]\n",
    "target = 9\n",
    "# Output: [0,1]"
   ]
  },
  {
   "cell_type": "code",
   "execution_count": 4,
   "id": "f501d36a",
   "metadata": {},
   "outputs": [],
   "source": [
    "def twoSum(nums, target):\n",
    "    sorted_nums = [(num, i) for i, num in enumerate(nums)]\n",
    "    sorted_nums.sort(key=lambda x: x[0])\n",
    "    left, right = 0, len(nums) - 1\n",
    "    while left < right:\n",
    "        current_sum = sorted_nums[left][0] + sorted_nums[right][0]\n",
    "        if current_sum == target:\n",
    "            return [sorted_nums[left][1], sorted_nums[right][1]]\n",
    "        elif current_sum < target:\n",
    "            left += 1\n",
    "        else:\n",
    "            right -= 1\n",
    "    return []\n"
   ]
  },
  {
   "cell_type": "code",
   "execution_count": 5,
   "id": "3ca6b673",
   "metadata": {},
   "outputs": [
    {
     "data": {
      "text/plain": [
       "[0, 1]"
      ]
     },
     "execution_count": 5,
     "metadata": {},
     "output_type": "execute_result"
    }
   ],
   "source": [
    "twoSum(nums, target)"
   ]
  },
  {
   "cell_type": "markdown",
   "id": "b14c2cbb",
   "metadata": {},
   "source": [
    "time O(nlogn), space O(1)"
   ]
  }
 ],
 "metadata": {
  "kernelspec": {
   "display_name": "base",
   "language": "python",
   "name": "python3"
  },
  "language_info": {
   "codemirror_mode": {
    "name": "ipython",
    "version": 3
   },
   "file_extension": ".py",
   "mimetype": "text/x-python",
   "name": "python",
   "nbconvert_exporter": "python",
   "pygments_lexer": "ipython3",
   "version": "3.9.7"
  }
 },
 "nbformat": 4,
 "nbformat_minor": 5
}
