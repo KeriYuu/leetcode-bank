{
 "cells": [
  {
   "cell_type": "code",
   "execution_count": 1,
   "id": "7259727c",
   "metadata": {},
   "outputs": [],
   "source": [
    "nums = [4,2,3,4]\n",
    "# Output: 4"
   ]
  },
  {
   "cell_type": "code",
   "execution_count": null,
   "id": "73ce8371",
   "metadata": {},
   "outputs": [],
   "source": [
    "def triangleNumber(nums):\n",
    "    nums.sort()\n",
    "    count = 0\n",
    "    n = len(nums)\n",
    "    for k in range(n - 1, 1, -1):\n",
    "        i, j = 0, k - 1\n",
    "        while i < j:\n",
    "            if nums[i] + nums[j] > nums[k]:\n",
    "                count += j - i\n",
    "                j -= 1\n",
    "            else: # all left nums are too small, can be definitely removed\n",
    "                i += 1\n",
    "    return count"
   ]
  },
  {
   "cell_type": "code",
   "execution_count": null,
   "id": "727fbd32",
   "metadata": {},
   "outputs": [
    {
     "data": {
      "text/plain": [
       "4"
      ]
     },
     "execution_count": 3,
     "metadata": {},
     "output_type": "execute_result"
    }
   ],
   "source": [
    "triangleNumber(nums) #time O(n**2), space O(1)"
   ]
  }
 ],
 "metadata": {
  "kernelspec": {
   "display_name": "base",
   "language": "python",
   "name": "python3"
  },
  "language_info": {
   "codemirror_mode": {
    "name": "ipython",
    "version": 3
   },
   "file_extension": ".py",
   "mimetype": "text/x-python",
   "name": "python",
   "nbconvert_exporter": "python",
   "pygments_lexer": "ipython3",
   "version": "3.9.7"
  }
 },
 "nbformat": 4,
 "nbformat_minor": 5
}
