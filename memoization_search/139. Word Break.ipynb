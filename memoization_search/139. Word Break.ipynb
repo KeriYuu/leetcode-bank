{
 "cells": [
  {
   "cell_type": "code",
   "execution_count": 1,
   "id": "eb77527c",
   "metadata": {},
   "outputs": [],
   "source": [
    "s = \"pineapplepenapple\"\n",
    "wordDict = [\"apple\",\"pen\",\"applepen\",\"pine\",\"pineapple\"]\n",
    "# Output: ture"
   ]
  },
  {
   "cell_type": "code",
   "execution_count": 2,
   "id": "5cb5c091",
   "metadata": {},
   "outputs": [
    {
     "data": {
      "text/plain": [
       "True"
      ]
     },
     "execution_count": 2,
     "metadata": {},
     "output_type": "execute_result"
    }
   ],
   "source": [
    "def wordBreak(s, wordDict):\n",
    "    return memo_search(0, s, set(wordDict),{})\n",
    "\n",
    "def memo_search(index, s, wordDict, memo):\n",
    "    if index == len(s):\n",
    "        memo[index] = True\n",
    "        return True\n",
    "\n",
    "    if index in memo:\n",
    "        return memo[index]\n",
    "\n",
    "    for i in range(index, len(s)):\n",
    "        word = s[index:i+1]\n",
    "        if word not in wordDict:\n",
    "            continue\n",
    "        if memo_search(i+1, s, wordDict, memo):\n",
    "            memo[index] = True\n",
    "            return True\n",
    "    memo[index] = False\n",
    "    return False\n",
    "\n",
    "wordBreak(s, wordDict) # time O(n^2), space O(n)"
   ]
  },
  {
   "cell_type": "code",
   "execution_count": 4,
   "id": "3dab75bf",
   "metadata": {},
   "outputs": [
    {
     "data": {
      "text/plain": [
       "3"
      ]
     },
     "execution_count": 4,
     "metadata": {},
     "output_type": "execute_result"
    }
   ],
   "source": [
    "# return the number of ways\n",
    "\n",
    "def wordBreak3(s, wordDict):\n",
    "    return memo_search(0, s, set(wordDict),{})\n",
    "\n",
    "def memo_search(index, s, wordDict, memo):\n",
    "    if index == len(s):\n",
    "        memo[index] = 1\n",
    "        return 1\n",
    "\n",
    "    if index in memo:\n",
    "        return memo[index]\n",
    "\n",
    "    count = 0\n",
    "    for i in range(index, len(s)):\n",
    "        word = s[index:i+1]\n",
    "        if word not in wordDict:\n",
    "            continue\n",
    "        count += memo_search(i+1, s, wordDict, memo)\n",
    "    memo[index] = count\n",
    "    return count\n",
    "\n",
    "wordBreak3(s, wordDict) # time O(n^2), space O(n)"
   ]
  }
 ],
 "metadata": {
  "kernelspec": {
   "display_name": "base",
   "language": "python",
   "name": "python3"
  },
  "language_info": {
   "codemirror_mode": {
    "name": "ipython",
    "version": 3
   },
   "file_extension": ".py",
   "mimetype": "text/x-python",
   "name": "python",
   "nbconvert_exporter": "python",
   "pygments_lexer": "ipython3",
   "version": "3.9.7"
  }
 },
 "nbformat": 4,
 "nbformat_minor": 5
}
