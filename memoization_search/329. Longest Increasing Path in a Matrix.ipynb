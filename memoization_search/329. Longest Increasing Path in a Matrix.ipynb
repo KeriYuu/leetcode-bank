{
 "cells": [
  {
   "cell_type": "code",
   "execution_count": 5,
   "id": "94fa79be",
   "metadata": {},
   "outputs": [],
   "source": [
    "matrix = [[9,9,4],[6,6,8],[2,1,1]]\n",
    "# Output: 4"
   ]
  },
  {
   "cell_type": "code",
   "execution_count": null,
   "id": "8fef4ee3",
   "metadata": {},
   "outputs": [
    {
     "data": {
      "text/plain": [
       "4"
      ]
     },
     "execution_count": 6,
     "metadata": {},
     "output_type": "execute_result"
    }
   ],
   "source": [
    "def longestIncreasingPath(matrix):\n",
    "    m, n = len(matrix), len(matrix[0])\n",
    "    memo = {}\n",
    "    best = 1\n",
    "    for i in range(m):\n",
    "        for j in range(n):\n",
    "            best = max(best, dfs(i, j, matrix, memo))\n",
    "    return best\n",
    "\n",
    "def dfs(i, j, matrix, memo):\n",
    "    if (i, j) in memo:\n",
    "        return memo[(i, j)]\n",
    "    \n",
    "    best = 1\n",
    "    for dx, dy in [(0, 1), (1, 0), (0, -1), (-1, 0)]:\n",
    "        ni, nj = i + dx, j + dy\n",
    "        if 0 <= ni < len(matrix) and 0 <= nj < len(matrix[0]) and matrix[ni][nj] < matrix[i][j]:\n",
    "            # matrix[ni][nj] > matrix[i][j] also works\n",
    "            best = max(best, dfs(ni, nj, matrix, memo) + 1)\n",
    "\n",
    "    memo[(i, j)] = best\n",
    "    return best\n",
    "\n",
    "longestIncreasingPath(matrix) # time O(m*n) space O(m*n)\n"
   ]
  }
 ],
 "metadata": {
  "kernelspec": {
   "display_name": "base",
   "language": "python",
   "name": "python3"
  },
  "language_info": {
   "codemirror_mode": {
    "name": "ipython",
    "version": 3
   },
   "file_extension": ".py",
   "mimetype": "text/x-python",
   "name": "python",
   "nbconvert_exporter": "python",
   "pygments_lexer": "ipython3",
   "version": "3.9.7"
  }
 },
 "nbformat": 4,
 "nbformat_minor": 5
}
