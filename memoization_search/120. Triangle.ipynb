{
 "cells": [
  {
   "cell_type": "code",
   "execution_count": 26,
   "id": "94fa79be",
   "metadata": {},
   "outputs": [],
   "source": [
    "triangle = [[2],[3,4],[6,5,7],[4,1,8,3]]\n",
    "# Output: 11"
   ]
  },
  {
   "cell_type": "code",
   "execution_count": 27,
   "id": "b3aa3f31",
   "metadata": {},
   "outputs": [
    {
     "data": {
      "text/plain": [
       "11"
      ]
     },
     "execution_count": 27,
     "metadata": {},
     "output_type": "execute_result"
    }
   ],
   "source": [
    "def minimumTotal_traverse(triangle):\n",
    "    res = [float('inf')] # mutable container\n",
    "    traverse(triangle, res, 0, 0, 0)\n",
    "    return res[0]\n",
    "\n",
    "def traverse(triangle, res, x, y, pathSum):\n",
    "    if x == len(triangle):\n",
    "        res[0] = min(res[0], pathSum)\n",
    "        return\n",
    "    traverse(triangle, res, x + 1, y, pathSum + triangle[x][y])\n",
    "    traverse(triangle, res, x + 1, y + 1, pathSum + triangle[x][y])\n",
    "\n",
    "minimumTotal_traverse(triangle) # time O(2^n) space O(n)\n"
   ]
  },
  {
   "cell_type": "code",
   "execution_count": 28,
   "id": "166efa58",
   "metadata": {},
   "outputs": [
    {
     "data": {
      "text/plain": [
       "11"
      ]
     },
     "execution_count": 28,
     "metadata": {},
     "output_type": "execute_result"
    }
   ],
   "source": [
    "def minimumTotal_traverse_memo(triangle):\n",
    "    res = [float('inf')] # mutable container\n",
    "    memo = {}\n",
    "    traverse_memo(triangle, res, 0, 0, 0, memo)\n",
    "    return res[0]\n",
    "\n",
    "def traverse_memo(triangle, res, x, y, pathSum, memo):\n",
    "    if x == len(triangle):\n",
    "        res[0] = min(res[0], pathSum)\n",
    "        return\n",
    "    if (x, y) in memo and pathSum >= memo[(x, y)]:\n",
    "        return\n",
    "    memo[(x, y)] = pathSum\n",
    "    traverse_memo(triangle, res, x + 1, y, pathSum + triangle[x][y], memo)\n",
    "    traverse_memo(triangle, res, x + 1, y + 1, pathSum + triangle[x][y], memo)\n",
    "\n",
    "minimumTotal_traverse_memo(triangle) # time O(n^2) space O(n^2)\n"
   ]
  },
  {
   "cell_type": "code",
   "execution_count": 29,
   "id": "df5b7cb7",
   "metadata": {},
   "outputs": [
    {
     "data": {
      "text/plain": [
       "11"
      ]
     },
     "execution_count": 29,
     "metadata": {},
     "output_type": "execute_result"
    }
   ],
   "source": [
    "def minimumTotal_divide_conquer(triangle):\n",
    "    return divide_conquer(triangle, 0, 0)\n",
    "\n",
    "def divide_conquer(triangle, x, y):\n",
    "    if x == len(triangle):\n",
    "        return 0\n",
    "    left = divide_conquer(triangle, x + 1, y)\n",
    "    right = divide_conquer(triangle, x + 1, y + 1)\n",
    "    return triangle[x][y] + min(left, right)\n",
    "\n",
    "minimumTotal_divide_conquer(triangle) # time O(2^n) space O(n)\n"
   ]
  },
  {
   "cell_type": "code",
   "execution_count": 30,
   "id": "5b985997",
   "metadata": {},
   "outputs": [
    {
     "data": {
      "text/plain": [
       "11"
      ]
     },
     "execution_count": 30,
     "metadata": {},
     "output_type": "execute_result"
    }
   ],
   "source": [
    "def minimumTotal_divide_conquer_memo(triangle):\n",
    "    return divide_conquer_memo(triangle, 0, 0, {})\n",
    "\n",
    "def divide_conquer_memo(triangle, x, y, memo):\n",
    "    if x == len(triangle):\n",
    "        return 0\n",
    "    if (x, y) in memo:\n",
    "        return memo[(x, y)]\n",
    "    left = divide_conquer_memo(triangle, x + 1, y, memo)\n",
    "    right = divide_conquer_memo(triangle, x + 1, y + 1, memo)\n",
    "    memo[(x, y)] = triangle[x][y] + min(left, right)\n",
    "    return memo[(x, y)]\n",
    "\n",
    "minimumTotal_divide_conquer_memo(triangle) # time O(2^n) space O(n)\n"
   ]
  }
 ],
 "metadata": {
  "kernelspec": {
   "display_name": "base",
   "language": "python",
   "name": "python3"
  },
  "language_info": {
   "codemirror_mode": {
    "name": "ipython",
    "version": 3
   },
   "file_extension": ".py",
   "mimetype": "text/x-python",
   "name": "python",
   "nbconvert_exporter": "python",
   "pygments_lexer": "ipython3",
   "version": "3.9.7"
  }
 },
 "nbformat": 4,
 "nbformat_minor": 5
}
