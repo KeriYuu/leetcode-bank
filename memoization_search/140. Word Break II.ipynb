{
 "cells": [
  {
   "cell_type": "code",
   "execution_count": 3,
   "id": "eb77527c",
   "metadata": {},
   "outputs": [],
   "source": [
    "s = \"pineapplepenapple\"\n",
    "wordDict = [\"apple\",\"pen\",\"applepen\",\"pine\",\"pineapple\"]\n",
    "# Output: [\"pine apple pen apple\",\"pineapple pen apple\",\"pine applepen apple\"]"
   ]
  },
  {
   "cell_type": "code",
   "execution_count": null,
   "id": "18d0719a",
   "metadata": {},
   "outputs": [
    {
     "data": {
      "text/plain": [
       "['pine apple pen apple', 'pine applepen apple', 'pineapple pen apple']"
      ]
     },
     "execution_count": 4,
     "metadata": {},
     "output_type": "execute_result"
    }
   ],
   "source": [
    "# method1: memo[bool]\n",
    "\n",
    "def wordBreak(s, wordDict):\n",
    "    res = []\n",
    "    dfs(s, wordDict, 0, [], {}, res)\n",
    "    return res\n",
    "\n",
    "def dfs(s, wordDict, index, path, memo, res):\n",
    "    if index == len(s):\n",
    "        res.append(\" \".join(path))\n",
    "        return\n",
    "\n",
    "    if not is_possible(s, wordDict, index, memo):\n",
    "        return\n",
    "\n",
    "    for i in range(index, len(s)):\n",
    "        word = s[index:i+1]\n",
    "        if word not in wordDict:\n",
    "            continue\n",
    "        path.append(word)\n",
    "        dfs(s, wordDict, i+1, path, memo, res)\n",
    "        path.pop()\n",
    "\n",
    "\n",
    "def is_possible(s, wordDict, index, memo):\n",
    "    if index == len(s):\n",
    "        memo[index] = True\n",
    "        return True\n",
    "    if index in memo:\n",
    "        return memo[index]\n",
    "\n",
    "    for i in range(index, len(s)):\n",
    "        word = s[index:i+1]\n",
    "        if word not in wordDict:\n",
    "            continue\n",
    "        if is_possible(s, wordDict, i+1, memo):\n",
    "            memo[index] = True\n",
    "            return True\n",
    "    memo[index] = False\n",
    "    return False\n",
    "\n",
    "wordBreak(s, wordDict) # time O(n^2 + n*2^n), space O(n)\n"
   ]
  },
  {
   "cell_type": "code",
   "execution_count": null,
   "id": "7341f1b9",
   "metadata": {},
   "outputs": [
    {
     "data": {
      "text/plain": [
       "['pine apple pen apple', 'pine applepen apple', 'pineapple pen apple']"
      ]
     },
     "execution_count": 5,
     "metadata": {},
     "output_type": "execute_result"
    }
   ],
   "source": [
    "# memo[s]\n",
    "def wordBreak(s, wordDict):\n",
    "    return dfs(s, wordDict, {})\n",
    "\n",
    "def dfs(s, wordDict, memo):\n",
    "    if s in memo:\n",
    "        return memo[s]\n",
    "\n",
    "    partitions = []\n",
    "    if s == \"\":\n",
    "        return partitions\n",
    "\n",
    "    for i in range(1, len(s)):\n",
    "        prefix = s[:i]\n",
    "        if prefix not in wordDict:\n",
    "            continue\n",
    "        suffix = s[i:]\n",
    "        for partition in dfs(suffix, wordDict, memo):\n",
    "            partitions.append(prefix + \" \" + partition)\n",
    "    if s in wordDict:\n",
    "        partitions.append(s)\n",
    "\n",
    "    memo[s] = partitions\n",
    "    return partitions\n",
    "\n",
    "wordBreak(s, wordDict) # time O(n^2), space O(n^2)\n",
    "\n"
   ]
  }
 ],
 "metadata": {
  "kernelspec": {
   "display_name": "base",
   "language": "python",
   "name": "python3"
  },
  "language_info": {
   "codemirror_mode": {
    "name": "ipython",
    "version": 3
   },
   "file_extension": ".py",
   "mimetype": "text/x-python",
   "name": "python",
   "nbconvert_exporter": "python",
   "pygments_lexer": "ipython3",
   "version": "3.9.7"
  }
 },
 "nbformat": 4,
 "nbformat_minor": 5
}
