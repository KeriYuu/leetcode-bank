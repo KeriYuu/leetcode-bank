{
 "cells": [
  {
   "cell_type": "code",
   "execution_count": 1,
   "id": "219c1495",
   "metadata": {},
   "outputs": [],
   "source": [
    "n = 5\n",
    "# Output: true"
   ]
  },
  {
   "cell_type": "code",
   "execution_count": 2,
   "id": "c06c4429",
   "metadata": {},
   "outputs": [],
   "source": [
    "def canWinNim(n):\n",
    "    return memo_search(n, {})\n",
    "\n",
    "\n",
    "def memo_search(n, memo):\n",
    "    if n in memo:\n",
    "        return memo[n]\n",
    "    if n <= 3:\n",
    "        memo[n] = True\n",
    "        return True\n",
    "        \n",
    "    for i in range(1, 4):\n",
    "        if not memo_search(n - i, memo):\n",
    "            memo[n] = True\n",
    "            return True\n",
    "    memo[n] = False\n",
    "    return False\n",
    "    "
   ]
  },
  {
   "cell_type": "code",
   "execution_count": 3,
   "id": "64d0b6e7",
   "metadata": {},
   "outputs": [
    {
     "data": {
      "text/plain": [
       "True"
      ]
     },
     "execution_count": 3,
     "metadata": {},
     "output_type": "execute_result"
    }
   ],
   "source": [
    "canWinNim(n) # time O(n) space O(n)"
   ]
  }
 ],
 "metadata": {
  "kernelspec": {
   "display_name": "base",
   "language": "python",
   "name": "python3"
  },
  "language_info": {
   "codemirror_mode": {
    "name": "ipython",
    "version": 3
   },
   "file_extension": ".py",
   "mimetype": "text/x-python",
   "name": "python",
   "nbconvert_exporter": "python",
   "pygments_lexer": "ipython3",
   "version": "3.9.7"
  }
 },
 "nbformat": 4,
 "nbformat_minor": 5
}
