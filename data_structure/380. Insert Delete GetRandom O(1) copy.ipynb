{
 "cells": [
  {
   "cell_type": "code",
   "execution_count": 1,
   "id": "f426090a",
   "metadata": {},
   "outputs": [],
   "source": [
    "class ListNode:\n",
    "    def __init__(self, num):\n",
    "        self.val = num\n",
    "        self.next = None\n",
    "\n",
    "class DataStream:\n",
    "    def __init__(self):\n",
    "        self.dummy = ListNode(-1)\n",
    "        self.tail = self.dummy\n",
    "        self.val_to_prev = {}\n",
    "        self.duplicates = set()\n",
    "\n",
    "    def add(self, num):\n",
    "        if num in self.duplicates:\n",
    "            return\n",
    "\n",
    "        if num not in self.val_to_prev:\n",
    "            self.pushback(num)\n",
    "            return\n",
    "\n",
    "        self.remove(num)\n",
    "        self.duplicates.add(num)\n",
    "\n",
    "    def pushback(self, num):\n",
    "        new_node = ListNode(num)\n",
    "        self.val_to_prev[num] = self.tail\n",
    "        self.tail.next = new_node\n",
    "        self.tail = new_node\n",
    "\n",
    "    def remove(self, num):\n",
    "        prev = self.val_to_prev[num]\n",
    "        node = prev.next\n",
    "        nxt = node.next\n",
    "        if nxt:\n",
    "            self.val_to_prev[nxt.val] = prev\n",
    "        else:\n",
    "            self.tail = prev\n",
    "        prev.next = nxt\n",
    "        del self.val_to_prev[num]\n",
    "        \n",
    "            \n",
    "    def firstUnique(self):\n",
    "        if not self.dummy.next:\n",
    "            return None\n",
    "        return self.dummy.next.val\n"
   ]
  },
  {
   "cell_type": "code",
   "execution_count": 2,
   "id": "df93fbbf",
   "metadata": {},
   "outputs": [
    {
     "name": "stdout",
     "output_type": "stream",
     "text": [
      "output: [1, 2, 3, 4, 5, 6]\n",
      "expected: [1, 2, 3, 4, 5, 6]\n",
      "pass: True\n"
     ]
    }
   ],
   "source": [
    "ds = DataStream()\n",
    "expected = [1, 2, 3, 4, 5, 6]\n",
    "output = []\n",
    "\n",
    "ds.add(1)\n",
    "ds.add(2)\n",
    "ds.add(3)\n",
    "ds.add(4)\n",
    "ds.add(5)\n",
    "output.append(ds.firstUnique())\n",
    "ds.add(1)\n",
    "output.append(ds.firstUnique())\n",
    "ds.add(2)\n",
    "output.append(ds.firstUnique())\n",
    "ds.add(3)\n",
    "output.append(ds.firstUnique())\n",
    "ds.add(4)\n",
    "output.append(ds.firstUnique())\n",
    "ds.add(5)\n",
    "ds.add(6)\n",
    "output.append(ds.firstUnique())\n",
    "\n",
    "print(\"output:\", output)\n",
    "print(\"expected:\", expected)\n",
    "print(\"pass:\", output == expected)\n"
   ]
  }
 ],
 "metadata": {
  "kernelspec": {
   "display_name": "base",
   "language": "python",
   "name": "python3"
  },
  "language_info": {
   "codemirror_mode": {
    "name": "ipython",
    "version": 3
   },
   "file_extension": ".py",
   "mimetype": "text/x-python",
   "name": "python",
   "nbconvert_exporter": "python",
   "pygments_lexer": "ipython3",
   "version": "3.9.7"
  }
 },
 "nbformat": 4,
 "nbformat_minor": 5
}
