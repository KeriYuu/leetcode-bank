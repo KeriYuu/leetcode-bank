{
 "cells": [
  {
   "cell_type": "code",
   "execution_count": 4,
   "id": "186d280a",
   "metadata": {},
   "outputs": [],
   "source": [
    "operations = [\"LRUCache\", \"put\", \"put\", \"get\", \"put\", \"get\", \"put\", \"get\", \"get\", \"get\"]\n",
    "inputs = [[2], [1, 1], [2, 2], [1], [3, 3], [2], [4, 4], [1], [3], [4]]\n",
    "expected_output = [None, None, None, 1, None, -1, None, -1, 3, 4]"
   ]
  },
  {
   "cell_type": "code",
   "execution_count": 5,
   "id": "244b7718",
   "metadata": {},
   "outputs": [],
   "source": [
    "class ListNode:\n",
    "    def __init__(self, key, value):\n",
    "        self.key = key\n",
    "        self.value = value\n",
    "        self.prev = None\n",
    "\n",
    "class LRUCache:\n",
    "    def __init__(self, capacity):\n",
    "        self.capacity = capacity\n",
    "        self.length = 0\n",
    "        self.key_to_prev = {}\n",
    "        self.dummy = ListNode(0, 0)\n",
    "        self.tail = self.dummy\n",
    "\n",
    "\n",
    "    def get(self, key):\n",
    "        if key not in self.key_to_prev:\n",
    "            return -1\n",
    "\n",
    "        prev = self.key_to_prev[key]\n",
    "        curr = prev.next\n",
    "\n",
    "        self.kick(prev)\n",
    "\n",
    "        return curr.value\n",
    "\n",
    "    def put(self, key, value):\n",
    "        if self.capacity == 0:\n",
    "            return\n",
    "\n",
    "        if key in self.key_to_prev:\n",
    "            self.kick(self.key_to_prev[key])\n",
    "            self.tail.value = value\n",
    "            return\n",
    "\n",
    "        if self.length == self.capacity:\n",
    "            self.popfront()\n",
    "\n",
    "        new_node = ListNode(key, value)\n",
    "        self.pushback(new_node)\n",
    "        self.length += 1\n",
    "\n",
    "    def pushback(self, node):\n",
    "        self.tail.next = node\n",
    "        self.key_to_prev[node.key] = self.tail\n",
    "        self.tail = node\n",
    "\n",
    "    def popfront(self):\n",
    "        head = self.dummy.next\n",
    "        next_node = head.next\n",
    "        if next_node:\n",
    "            self.key_to_prev[next_node.key] = self.dummy\n",
    "        else:\n",
    "            self.tail = self.dummy\n",
    "\n",
    "        self.dummy.next = next_node\n",
    "\n",
    "        del self.key_to_prev[head.key]\n",
    "        self.length -= 1\n",
    "\n",
    "    def kick(self, prev):\n",
    "        node = prev.next\n",
    "        if node == self.tail:\n",
    "            return\n",
    "\n",
    "        prev.next = node.next\n",
    "        self.key_to_prev[node.next.key] = prev\n",
    "        node.next = None\n",
    "        self.pushback(node)\n",
    "            \n",
    "            \n"
   ]
  },
  {
   "cell_type": "code",
   "execution_count": 6,
   "id": "53c9f706",
   "metadata": {},
   "outputs": [
    {
     "name": "stdout",
     "output_type": "stream",
     "text": [
      "True [None, None, None, 1, None, -1, None, -1, 3, 4]\n"
     ]
    }
   ],
   "source": [
    "obj = None\n",
    "res = []\n",
    "for op, args in zip(operations, inputs):\n",
    "    if op == \"LRUCache\":\n",
    "        obj = LRUCache(*args)\n",
    "        res.append(None)\n",
    "    elif op == \"put\":\n",
    "        res.append(obj.put(*args))\n",
    "    elif op == \"get\":\n",
    "        res.append(obj.get(*args))\n",
    "print(res == expected_output, res)\n"
   ]
  }
 ],
 "metadata": {
  "kernelspec": {
   "display_name": "base",
   "language": "python",
   "name": "python3"
  },
  "language_info": {
   "codemirror_mode": {
    "name": "ipython",
    "version": 3
   },
   "file_extension": ".py",
   "mimetype": "text/x-python",
   "name": "python",
   "nbconvert_exporter": "python",
   "pygments_lexer": "ipython3",
   "version": "3.9.7"
  }
 },
 "nbformat": 4,
 "nbformat_minor": 5
}
