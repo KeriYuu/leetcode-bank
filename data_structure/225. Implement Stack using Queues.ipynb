{
 "cells": [
  {
   "cell_type": "code",
   "execution_count": 4,
   "id": "bc4a20f6",
   "metadata": {},
   "outputs": [],
   "source": [
    "ops  = [\"MyStack\", \"push\", \"push\", \"top\", \"pop\", \"empty\"]\n",
    "args = [[], [1], [2], [], [], []]\n",
    "# Output: [null, null, null, 2, 2, false]"
   ]
  },
  {
   "cell_type": "code",
   "execution_count": 5,
   "id": "812e7259",
   "metadata": {},
   "outputs": [],
   "source": [
    "from collections import deque\n",
    "class MyStack(object):\n",
    "    def __init__(self):\n",
    "        self.q1 = deque()\n",
    "        self.q2 = deque()\n",
    "\n",
    "    def push(self, x):\n",
    "        self.q1.append(x)\n",
    "\n",
    "    def pop(self):\n",
    "        for _ in range(len(self.q1) - 1):\n",
    "            self.q2.append(self.q1.popleft())\n",
    "        self.q1, self.q2 = self.q2, self.q1\n",
    "        return self.q2.popleft()\n",
    "\n",
    "    def top(self):\n",
    "        val = self.pop()\n",
    "        self.push(val)\n",
    "        return val\n",
    "\n",
    "    def empty(self):\n",
    "        return not self.q1\n",
    "\n"
   ]
  },
  {
   "cell_type": "code",
   "execution_count": null,
   "id": "4d482112",
   "metadata": {},
   "outputs": [
    {
     "data": {
      "text/plain": [
       "[None, None, None, 2, 2, False]"
      ]
     },
     "execution_count": 6,
     "metadata": {},
     "output_type": "execute_result"
    }
   ],
   "source": [
    "res = []\n",
    "obj = None\n",
    "for op, arg in zip(ops, args):\n",
    "    if op == \"MyStack\":\n",
    "        obj = MyStack()\n",
    "        res.append(None) \n",
    "    elif op == \"push\":\n",
    "        obj.push(arg[0]) # O(1)\n",
    "        res.append(None) \n",
    "    elif op == \"pop\":\n",
    "        res.append(obj.pop()) # O(n)\n",
    "    elif op == \"top\":\n",
    "        res.append(obj.top()) # O(n)\n",
    "    elif op == \"empty\":\n",
    "        res.append(obj.empty()) # O(1)\n",
    "res"
   ]
  }
 ],
 "metadata": {
  "kernelspec": {
   "display_name": "base",
   "language": "python",
   "name": "python3"
  },
  "language_info": {
   "codemirror_mode": {
    "name": "ipython",
    "version": 3
   },
   "file_extension": ".py",
   "mimetype": "text/x-python",
   "name": "python",
   "nbconvert_exporter": "python",
   "pygments_lexer": "ipython3",
   "version": "3.9.7"
  }
 },
 "nbformat": 4,
 "nbformat_minor": 5
}
