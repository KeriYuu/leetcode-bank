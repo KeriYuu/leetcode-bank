{
 "cells": [
  {
   "cell_type": "code",
   "execution_count": 1,
   "id": "5d8ebebe",
   "metadata": {},
   "outputs": [],
   "source": [
    "ops  = [\"MaxStack\",\"push\",\"push\",\"push\",\"top\",\"popMax\",\"top\",\"peekMax\",\"pop\",\"top\"]\n",
    "args = [[],[5],[1],[5],[],[],[],[],[],[]]\n",
    "# [None, None, None, None, 5, 5, 1, 5, 1, 5]\n"
   ]
  },
  {
   "cell_type": "code",
   "execution_count": 5,
   "id": "3339e487",
   "metadata": {},
   "outputs": [],
   "source": [
    "class MaxStack:\n",
    "    def __init__(self):\n",
    "        self.stack = []\n",
    "        self.max_stack = []\n",
    "\n",
    "    def push(self, x):\n",
    "        self.stack.append(x)\n",
    "        if not self.max_stack or x >= self.max_stack[-1]:\n",
    "            self.max_stack.append(x)\n",
    "\n",
    "    def pop(self):\n",
    "        if self.stack:\n",
    "            x = self.stack.pop()\n",
    "            if x == self.max_stack[-1]:\n",
    "                self.max_stack.pop()\n",
    "            return x\n",
    "\n",
    "    def top(self):\n",
    "        if self.stack:\n",
    "            return self.stack[-1]\n",
    "        \n",
    "    def peekMax(self):\n",
    "        if self.max_stack:\n",
    "            return self.max_stack[-1]\n",
    "        \n",
    "    def popMax(self):\n",
    "        max_val = self.peekMax()\n",
    "        buffer = []\n",
    "        while self.stack[-1] != max_val:\n",
    "            buffer.append(self.stack.pop())\n",
    "        self.stack.pop()\n",
    "        while buffer:\n",
    "            self.push(buffer.pop())\n",
    "        return max_val\n",
    "            "
   ]
  },
  {
   "cell_type": "code",
   "execution_count": null,
   "id": "f43d4a89",
   "metadata": {},
   "outputs": [
    {
     "name": "stdout",
     "output_type": "stream",
     "text": [
      "[None, None, None, None, 5, 5, 1, 5, 1, 5]\n"
     ]
    }
   ],
   "source": [
    "res = []\n",
    "obj = None\n",
    "\n",
    "for op, arg in zip(ops, args):\n",
    "    if op == \"MaxStack\":\n",
    "        obj = MaxStack()\n",
    "        res.append(None)\n",
    "    elif op == \"push\":\n",
    "        obj.push(arg[0])\n",
    "        res.append(None)\n",
    "    elif op == \"pop\":\n",
    "        res.append(obj.pop())\n",
    "    elif op == \"top\":\n",
    "        res.append(obj.top())\n",
    "    elif op == \"peekMax\":\n",
    "        res.append(obj.peekMax())\n",
    "    elif op == \"popMax\":\n",
    "        res.append(obj.popMax()) # O(n)\n",
    "\n",
    "print(res)"
   ]
  },
  {
   "cell_type": "code",
   "execution_count": 2,
   "id": "41c9d5e5",
   "metadata": {},
   "outputs": [],
   "source": [
    "import heapq\n",
    "class MaxStack:\n",
    "    def __init__(self):\n",
    "        self.stack = []\n",
    "        self.heap = []\n",
    "        self.removed = set()\n",
    "        self.count = 0\n",
    "    \n",
    "\n",
    "    def push(self, x):\n",
    "        self.count += 1\n",
    "        item = (-x, - self.count)\n",
    "        self.stack.append(item)\n",
    "        heapq.heappush(self.heap, item)\n",
    "\n",
    "\n",
    "    def pop(self):\n",
    "        self._clear_removed_stack()\n",
    "        item = self.stack.pop()\n",
    "        self.removed.add(item)\n",
    "        return -item[0]\n",
    "\n",
    "    def top(self):\n",
    "        self._clear_removed_stack()\n",
    "        return -self.stack[-1][0]\n",
    "\n",
    "    def peekMax(self):\n",
    "        self._clear_removed_heap()\n",
    "        return -self.heap[0][0]\n",
    "        \n",
    "    def popMax(self):\n",
    "        self._clear_removed_heap()\n",
    "        item = heapq.heappop(self.heap)\n",
    "        self.removed.add(item)\n",
    "        return -item[0]\n",
    "\n",
    "    def _clear_removed_stack(self):\n",
    "        while self.stack and self.stack[-1] in self.removed:\n",
    "            self.removed.remove(self.stack.pop())\n",
    "    \n",
    "    def _clear_removed_heap(self):\n",
    "        while self.heap and self.heap[0] in self.removed:\n",
    "            self.removed.remove(heapq.heappop(self.heap))\n",
    "\n",
    "            "
   ]
  },
  {
   "cell_type": "code",
   "execution_count": null,
   "id": "0fd841d2",
   "metadata": {},
   "outputs": [
    {
     "name": "stdout",
     "output_type": "stream",
     "text": [
      "[None, None, None, None, 5, 5, 1, 5, 1, 5]\n"
     ]
    }
   ],
   "source": [
    "res = []\n",
    "obj = None\n",
    "\n",
    "for op, arg in zip(ops, args):\n",
    "    if op == \"MaxStack\":\n",
    "        obj = MaxStack()\n",
    "        res.append(None)\n",
    "    elif op == \"push\":\n",
    "        obj.push(arg[0]) # O(logn)\n",
    "        res.append(None)\n",
    "    elif op == \"pop\":\n",
    "        res.append(obj.pop()) # avg O(1)\n",
    "    elif op == \"top\":\n",
    "        res.append(obj.top()) # avg O(1)\n",
    "    elif op == \"peekMax\":\n",
    "        res.append(obj.peekMax()) # avg O(1)\n",
    "    elif op == \"popMax\":\n",
    "        res.append(obj.popMax()) # O(logn)\n",
    "\n",
    "print(res)"
   ]
  },
  {
   "cell_type": "code",
   "execution_count": null,
   "id": "6b5ef9f3",
   "metadata": {},
   "outputs": [],
   "source": []
  }
 ],
 "metadata": {
  "kernelspec": {
   "display_name": "base",
   "language": "python",
   "name": "python3"
  },
  "language_info": {
   "codemirror_mode": {
    "name": "ipython",
    "version": 3
   },
   "file_extension": ".py",
   "mimetype": "text/x-python",
   "name": "python",
   "nbconvert_exporter": "python",
   "pygments_lexer": "ipython3",
   "version": "3.9.7"
  }
 },
 "nbformat": 4,
 "nbformat_minor": 5
}
