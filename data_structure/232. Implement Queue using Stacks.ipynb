{
 "cells": [
  {
   "cell_type": "code",
   "execution_count": 10,
   "id": "513a2c12",
   "metadata": {},
   "outputs": [],
   "source": [
    "ops  = [\"MyQueue\", \"push\", \"push\", \"peek\", \"pop\", \"empty\"]\n",
    "args = [[], [1], [2], [], [], []]\n",
    "# Output: [null, null, null, 1, 1, false]"
   ]
  },
  {
   "cell_type": "code",
   "execution_count": 11,
   "id": "812e7259",
   "metadata": {},
   "outputs": [],
   "source": [
    "class MyQueue(object):\n",
    "    def __init__(self):\n",
    "        self.stack1 = []\n",
    "        self.stack2 = []\n",
    "\n",
    "    def _stack1_to_stack2(self):\n",
    "        if self.stack2:\n",
    "            return\n",
    "        while self.stack1:\n",
    "            self.stack2.append(self.stack1.pop())\n",
    "\n",
    "    def push(self, x):\n",
    "        self.stack1.append(x)\n",
    "\n",
    "    def pop(self):\n",
    "        self._stack1_to_stack2()\n",
    "        return self.stack2.pop()\n",
    "\n",
    "    def peek(self):\n",
    "        self._stack1_to_stack2()\n",
    "        return self.stack2[-1]\n",
    "\n",
    "    def empty(self):\n",
    "        return not self.stack1 and not self.stack2\n",
    "\n",
    "\n"
   ]
  },
  {
   "cell_type": "code",
   "execution_count": null,
   "id": "4d482112",
   "metadata": {},
   "outputs": [
    {
     "data": {
      "text/plain": [
       "[None, None, None, 1, 1, False]"
      ]
     },
     "execution_count": 12,
     "metadata": {},
     "output_type": "execute_result"
    }
   ],
   "source": [
    "res = []\n",
    "obj = None\n",
    "for op, arg in zip(ops, args):\n",
    "    if op == \"MyQueue\":\n",
    "        obj = MyQueue()\n",
    "        res.append(None)\n",
    "    elif op == \"push\": # O(1)\n",
    "        obj.push(arg[0])\n",
    "        res.append(None)\n",
    "    elif op == \"pop\": # O(n)\n",
    "        res.append(obj.pop())\n",
    "    elif op == \"peek\": # O(n)\n",
    "        res.append(obj.peek())\n",
    "    elif op == \"empty\": # O(1)\n",
    "        res.append(obj.empty())\n",
    "res"
   ]
  }
 ],
 "metadata": {
  "kernelspec": {
   "display_name": "base",
   "language": "python",
   "name": "python3"
  },
  "language_info": {
   "codemirror_mode": {
    "name": "ipython",
    "version": 3
   },
   "file_extension": ".py",
   "mimetype": "text/x-python",
   "name": "python",
   "nbconvert_exporter": "python",
   "pygments_lexer": "ipython3",
   "version": "3.9.7"
  }
 },
 "nbformat": 4,
 "nbformat_minor": 5
}
