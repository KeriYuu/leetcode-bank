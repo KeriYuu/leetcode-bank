{
 "cells": [
  {
   "cell_type": "code",
   "execution_count": 1,
   "id": "e9cd2d4a",
   "metadata": {},
   "outputs": [],
   "source": [
    "ops  = [\"MinStack\",\"push\",\"push\",\"getMin\",\"pop\",\"getMin\"]\n",
    "args = [[],[2],[1],[],[],[]]\n",
    "# Output: [null,null,null,1,null,2]"
   ]
  },
  {
   "cell_type": "code",
   "execution_count": 2,
   "id": "404cb1a4",
   "metadata": {},
   "outputs": [],
   "source": [
    "class MinStack:\n",
    "    def __init__(self):\n",
    "        self.stack = []\n",
    "        self.min_stack = []\n",
    "\n",
    "    def push(self, val):\n",
    "        self.stack.append(val)\n",
    "        if not self.min_stack or val <= self.min_stack[-1]:\n",
    "            self.min_stack.append(val)\n",
    "\n",
    "    def pop(self):\n",
    "        if self.stack:\n",
    "            val = self.stack.pop()\n",
    "            if val == self.min_stack[-1]:\n",
    "                self.min_stack.pop()\n",
    "\n",
    "    def top(self):\n",
    "        if self.stack:\n",
    "            return self.stack[-1]   \n",
    "\n",
    "    def getMin(self):\n",
    "        if self.min_stack:\n",
    "            return self.min_stack[-1]            "
   ]
  },
  {
   "cell_type": "code",
   "execution_count": 3,
   "id": "4d482112",
   "metadata": {},
   "outputs": [
    {
     "data": {
      "text/plain": [
       "[None, None, None, 1, None, 2]"
      ]
     },
     "execution_count": 3,
     "metadata": {},
     "output_type": "execute_result"
    }
   ],
   "source": [
    "res = []\n",
    "obj = None\n",
    "for op, arg in zip(ops, args):\n",
    "    if op == \"MinStack\":\n",
    "        obj = MinStack()\n",
    "        res.append(None)\n",
    "    elif op == \"push\":\n",
    "        obj.push(arg[0])\n",
    "        res.append(None)\n",
    "    elif op == \"pop\":\n",
    "        obj.pop()\n",
    "        res.append(None)\n",
    "    elif op == \"top\":\n",
    "        res.append(obj.top())\n",
    "    elif op == \"getMin\":\n",
    "        res.append(obj.getMin())\n",
    "res"
   ]
  }
 ],
 "metadata": {
  "kernelspec": {
   "display_name": "base",
   "language": "python",
   "name": "python3"
  },
  "language_info": {
   "codemirror_mode": {
    "name": "ipython",
    "version": 3
   },
   "file_extension": ".py",
   "mimetype": "text/x-python",
   "name": "python",
   "nbconvert_exporter": "python",
   "pygments_lexer": "ipython3",
   "version": "3.9.7"
  }
 },
 "nbformat": 4,
 "nbformat_minor": 5
}
