{
 "cells": [
  {
   "cell_type": "code",
   "execution_count": 4,
   "id": "a4e52f46",
   "metadata": {},
   "outputs": [],
   "source": [
    "nums = [5,2,6,1]\n",
    "# Output: [2,1,1,0]"
   ]
  },
  {
   "cell_type": "code",
   "execution_count": 5,
   "id": "07c65841",
   "metadata": {},
   "outputs": [],
   "source": [
    "class Block:\n",
    "    def __init__(self):\n",
    "        self.total = 0\n",
    "        self.count = {}\n",
    "\n",
    "class BlockArray:\n",
    "    def __init__(self, min_val, max_val, block_size):\n",
    "        self.min_val = min_val\n",
    "        self.max_val = max_val\n",
    "        self.block_size = block_size\n",
    "        self.block_count = (max_val - min_val) // block_size + 1\n",
    "        self.blocks = [Block() for _ in range(self.block_count)]\n",
    "\n",
    "    def _get_block_idx(self, val):\n",
    "        return (val - self.min_val) // self.block_size\n",
    "        \n",
    "    def add(self, val):\n",
    "        block_idx = self._get_block_idx(val)\n",
    "        self.blocks[block_idx].total += 1\n",
    "        self.blocks[block_idx].count[val] = self.blocks[block_idx].count.get(val, 0) + 1\n",
    "\n",
    "    def smaller_count(self, val):\n",
    "        count = 0\n",
    "        block_idx = self._get_block_idx(val)\n",
    "        for i in range(block_idx):\n",
    "            count += self.blocks[i].total\n",
    "\n",
    "        current_block = self.blocks[block_idx]\n",
    "        for num, cnt in current_block.count.items():\n",
    "            if num < val:\n",
    "                count += cnt\n",
    "        return count\n",
    "\n",
    "def countSmaller(nums):\n",
    "    MIN, MAX = -10000, 10000\n",
    "    block_size = 100\n",
    "    block_array = BlockArray(MIN, MAX, block_size)\n",
    "    result = []\n",
    "    for num in nums[::-1]:\n",
    "        block_array.add(num)\n",
    "        result.append(block_array.smaller_count(num))\n",
    "    return result[::-1]"
   ]
  },
  {
   "cell_type": "code",
   "execution_count": 6,
   "id": "ea707a6e",
   "metadata": {},
   "outputs": [
    {
     "data": {
      "text/plain": [
       "[2, 1, 1, 0]"
      ]
     },
     "execution_count": 6,
     "metadata": {},
     "output_type": "execute_result"
    }
   ],
   "source": [
    "countSmaller(nums)"
   ]
  }
 ],
 "metadata": {
  "kernelspec": {
   "display_name": "base",
   "language": "python",
   "name": "python3"
  },
  "language_info": {
   "codemirror_mode": {
    "name": "ipython",
    "version": 3
   },
   "file_extension": ".py",
   "mimetype": "text/x-python",
   "name": "python",
   "nbconvert_exporter": "python",
   "pygments_lexer": "ipython3",
   "version": "3.9.7"
  }
 },
 "nbformat": 4,
 "nbformat_minor": 5
}
