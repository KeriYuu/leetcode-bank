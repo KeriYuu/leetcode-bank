{
 "cells": [
  {
   "cell_type": "code",
   "execution_count": 1,
   "id": "186d280a",
   "metadata": {},
   "outputs": [],
   "source": [
    "ops = [\"RandomizedSet\", \"insert\", \"remove\", \"insert\", \"getRandom\", \"remove\", \"insert\", \"getRandom\"]\n",
    "args = [[], [1], [2], [2], [], [1], [2], []]\n",
    "output = [None, True, False, True, 2, True, False, 2]\n"
   ]
  },
  {
   "cell_type": "code",
   "execution_count": null,
   "id": "bff4b356",
   "metadata": {},
   "outputs": [],
   "source": [
    "import random\n",
    "class RandomizedSet(object):\n",
    "    def __init__(self):\n",
    "        self.nums = []\n",
    "        self.val_to_idx = {}\n",
    "    \n",
    "    def insert(self, val):\n",
    "        if val in self.val_to_idx:\n",
    "            return False\n",
    "\n",
    "        self.nums.append(val)\n",
    "        self.val_to_idx[val] = len(self.nums) - 1 # O(1)\n",
    "        return True\n",
    "\n",
    "    def remove(self, val):\n",
    "        if val not in self.val_to_idx:\n",
    "            return False\n",
    "\n",
    "        idx = self.val_to_idx[val]\n",
    "        last_val = self.nums.pop()\n",
    "        if idx < len(self.nums):\n",
    "            self.nums[idx] = last_val\n",
    "            self.val_to_idx[last_val] = idx\n",
    "        del self.val_to_idx[val]\n",
    "        return True\n",
    "        \n",
    "    def getRandom(self):\n",
    "        return random.choice(self.nums)"
   ]
  },
  {
   "cell_type": "code",
   "execution_count": 3,
   "id": "96a94bcf",
   "metadata": {},
   "outputs": [
    {
     "name": "stdout",
     "output_type": "stream",
     "text": [
      "False [None, True, False, True, 1, True, False, 2]\n"
     ]
    }
   ],
   "source": [
    "obj = None\n",
    "res = []\n",
    "for op, arg in zip(ops, args):\n",
    "    if op == \"RandomizedSet\":\n",
    "        obj = RandomizedSet()\n",
    "        res.append(None)\n",
    "    elif op == \"insert\":\n",
    "        res.append(obj.insert(arg[0]))\n",
    "    elif op == \"remove\":\n",
    "        res.append(obj.remove(arg[0]))\n",
    "    elif op == \"getRandom\":\n",
    "        res.append(obj.getRandom())\n",
    "print(res == output, res)"
   ]
  }
 ],
 "metadata": {
  "kernelspec": {
   "display_name": "base",
   "language": "python",
   "name": "python3"
  },
  "language_info": {
   "codemirror_mode": {
    "name": "ipython",
    "version": 3
   },
   "file_extension": ".py",
   "mimetype": "text/x-python",
   "name": "python",
   "nbconvert_exporter": "python",
   "pygments_lexer": "ipython3",
   "version": "3.9.7"
  }
 },
 "nbformat": 4,
 "nbformat_minor": 5
}
